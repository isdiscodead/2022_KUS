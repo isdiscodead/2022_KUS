{
 "cells": [
  {
   "cell_type": "code",
   "execution_count": 126,
   "id": "d92dc93d",
   "metadata": {},
   "outputs": [],
   "source": [
    "import matplotlib.pyplot as plt\n",
    "import pandas as pd"
   ]
  },
  {
   "cell_type": "code",
   "execution_count": 127,
   "id": "b25cc4b2",
   "metadata": {},
   "outputs": [],
   "source": [
    "columns = ['n', 'time (sec)']   "
   ]
  },
  {
   "cell_type": "code",
   "execution_count": 128,
   "id": "bd8d93a2",
   "metadata": {},
   "outputs": [],
   "source": [
    "naive = [\n",
    "    [1, 0.000007344],\n",
    "    [2, 0.000030423],\n",
    "    [3, 0.000120877],\n",
    "    [4, 0.001131247],\n",
    "    [5, 0.011742591],\n",
    "    [6, 0.070925617],\n",
    "    [7, 0.957759429],\n",
    "    [8, 15.47914741],\n",
    "    [9, 284.8550699]\n",
    "]"
   ]
  },
  {
   "cell_type": "code",
   "execution_count": 129,
   "id": "ae60748e",
   "metadata": {},
   "outputs": [],
   "source": [
    "greedy = [\n",
    "    [1, 0.0000103],\n",
    "    [2, 0.000011899],\n",
    "    [3, 0.000014256],\n",
    "    [4, 0.000016332],\n",
    "    [5, 0.000015331],\n",
    "    [6, 0.000013136],\n",
    "    [7, 0.000023961],\n",
    "    [8, 0.000016285],\n",
    "    [9, 0.000012995],\n",
    "    [10, 0.00001049],\n",
    "    [100, 0.00002408],\n",
    "    [1000, 0.00057817],\n",
    "    [10000, 0.00427008],\n",
    "    [100000, 0.09934902],\n",
    "    [500000, 0.55418514],\n",
    "    [1000000, 1.08998609],\n",
    "    [5000000, 5.69731283],\n",
    "    [10000000, 15.01670909],\n",
    "]"
   ]
  },
  {
   "cell_type": "code",
   "execution_count": 130,
   "id": "fcb1b431",
   "metadata": {},
   "outputs": [],
   "source": [
    "\n",
    "dp = [\n",
    "    [1, 0.000035096],\n",
    "    [2, 0.000061441],\n",
    "    [3, 0.000085687],\n",
    "    [4, 0.00015335],\n",
    "    [5, 0.000132012],\n",
    "    [6, 0.000102211],\n",
    "    [7, 0.000097894],\n",
    "    [8, 0.00012412],\n",
    "    [9, 0.00013614],\n",
    "    [10, 0.00015092],\n",
    "    [100, 0.00119138],\n",
    "    [1000, 0.013026],\n",
    "    [10000, 0.09934902],\n",
    "    [100000, 1.27974582],\n",
    "    [500000, 7.02726316],\n",
    "    [1000000, 13.73796034]\n",
    "]"
   ]
  },
  {
   "cell_type": "code",
   "execution_count": 131,
   "id": "965f1d68",
   "metadata": {},
   "outputs": [],
   "source": [
    "naive_df = pd.DataFrame(naive, columns = columns)\n",
    "greedy_df = pd.DataFrame(greedy, columns = columns)\n",
    "dp_df = pd.DataFrame(dp, columns = columns)"
   ]
  },
  {
   "cell_type": "code",
   "execution_count": 132,
   "id": "2bb1cf77",
   "metadata": {},
   "outputs": [
    {
     "data": {
      "text/html": [
       "<div>\n",
       "<style scoped>\n",
       "    .dataframe tbody tr th:only-of-type {\n",
       "        vertical-align: middle;\n",
       "    }\n",
       "\n",
       "    .dataframe tbody tr th {\n",
       "        vertical-align: top;\n",
       "    }\n",
       "\n",
       "    .dataframe thead th {\n",
       "        text-align: right;\n",
       "    }\n",
       "</style>\n",
       "<table border=\"1\" class=\"dataframe\">\n",
       "  <thead>\n",
       "    <tr style=\"text-align: right;\">\n",
       "      <th></th>\n",
       "      <th>n</th>\n",
       "      <th>time (sec)</th>\n",
       "    </tr>\n",
       "  </thead>\n",
       "  <tbody>\n",
       "    <tr>\n",
       "      <th>11</th>\n",
       "      <td>1000</td>\n",
       "      <td>0.013026</td>\n",
       "    </tr>\n",
       "    <tr>\n",
       "      <th>12</th>\n",
       "      <td>10000</td>\n",
       "      <td>0.099349</td>\n",
       "    </tr>\n",
       "    <tr>\n",
       "      <th>13</th>\n",
       "      <td>100000</td>\n",
       "      <td>1.279746</td>\n",
       "    </tr>\n",
       "    <tr>\n",
       "      <th>14</th>\n",
       "      <td>500000</td>\n",
       "      <td>7.027263</td>\n",
       "    </tr>\n",
       "    <tr>\n",
       "      <th>15</th>\n",
       "      <td>1000000</td>\n",
       "      <td>13.737960</td>\n",
       "    </tr>\n",
       "  </tbody>\n",
       "</table>\n",
       "</div>"
      ],
      "text/plain": [
       "          n  time (sec)\n",
       "11     1000    0.013026\n",
       "12    10000    0.099349\n",
       "13   100000    1.279746\n",
       "14   500000    7.027263\n",
       "15  1000000   13.737960"
      ]
     },
     "execution_count": 132,
     "metadata": {},
     "output_type": "execute_result"
    }
   ],
   "source": [
    "dp_df.tail()"
   ]
  },
  {
   "cell_type": "code",
   "execution_count": 158,
   "id": "e8421097",
   "metadata": {},
   "outputs": [
    {
     "ename": "TypeError",
     "evalue": "'Figure' object is not callable",
     "output_type": "error",
     "traceback": [
      "\u001b[0;31m---------------------------------------------------------------------------\u001b[0m",
      "\u001b[0;31mTypeError\u001b[0m                                 Traceback (most recent call last)",
      "Input \u001b[0;32mIn [158]\u001b[0m, in \u001b[0;36m<cell line: 2>\u001b[0;34m()\u001b[0m\n\u001b[1;32m      1\u001b[0m fig, ax \u001b[38;5;241m=\u001b[39m plt\u001b[38;5;241m.\u001b[39msubplots()\n\u001b[0;32m----> 2\u001b[0m \u001b[43mfig\u001b[49m\u001b[38;5;241;43m.\u001b[39;49m\u001b[43mfigure\u001b[49m\u001b[43m(\u001b[49m\u001b[43mfigsize\u001b[49m\u001b[38;5;241;43m=\u001b[39;49m\u001b[43m(\u001b[49m\u001b[38;5;241;43m30\u001b[39;49m\u001b[43m,\u001b[49m\u001b[38;5;241;43m20\u001b[39;49m\u001b[43m)\u001b[49m\u001b[43m)\u001b[49m\n\u001b[1;32m      3\u001b[0m ax\u001b[38;5;241m.\u001b[39mplot(naive_df[\u001b[38;5;124m'\u001b[39m\u001b[38;5;124mn\u001b[39m\u001b[38;5;124m'\u001b[39m], naive_df[\u001b[38;5;124m'\u001b[39m\u001b[38;5;124mtime (sec)\u001b[39m\u001b[38;5;124m'\u001b[39m], marker\u001b[38;5;241m=\u001b[39m\u001b[38;5;124m'\u001b[39m\u001b[38;5;124mo\u001b[39m\u001b[38;5;124m'\u001b[39m, label\u001b[38;5;241m=\u001b[39m\u001b[38;5;124m\"\u001b[39m\u001b[38;5;124mnaive\u001b[39m\u001b[38;5;124m\"\u001b[39m)\n\u001b[1;32m      4\u001b[0m ax\u001b[38;5;241m.\u001b[39mplot(greedy_df[\u001b[38;5;124m'\u001b[39m\u001b[38;5;124mn\u001b[39m\u001b[38;5;124m'\u001b[39m], greedy_df[\u001b[38;5;124m'\u001b[39m\u001b[38;5;124mtime (sec)\u001b[39m\u001b[38;5;124m'\u001b[39m], marker\u001b[38;5;241m=\u001b[39m\u001b[38;5;124m'\u001b[39m\u001b[38;5;124mo\u001b[39m\u001b[38;5;124m'\u001b[39m, label\u001b[38;5;241m=\u001b[39m\u001b[38;5;124m\"\u001b[39m\u001b[38;5;124mgreedy\u001b[39m\u001b[38;5;124m\"\u001b[39m)\n",
      "\u001b[0;31mTypeError\u001b[0m: 'Figure' object is not callable"
     ]
    },
    {
     "data": {
      "image/png": "[encoded data removed]",
      "text/plain": [
       "<Figure size 432x288 with 1 Axes>"
      ]
     },
     "metadata": {
      "needs_background": "light"
     },
     "output_type": "display_data"
    }
   ],
   "source": [
    "fig, ax = plt.subplots()\n",
    "plt.figure(figsize=(30,20))\n",
    "ax.plot(naive_df['n'], naive_df['time (sec)'], marker='o', label=\"naive\")\n",
    "ax.plot(greedy_df['n'], greedy_df['time (sec)'], marker='o', label=\"greedy\")\n",
    "ax.plot(dp_df['n'], dp_df['time (sec)'], marker='o', label=\"DP\", c='red' )\n",
    "\n",
    "plt.xlabel('n') \n",
    "plt.ylabel(\"time (sec)\")\n",
    "plt.legend(fontsize='50')\n",
    "plt.yticks([0, 0.05, 0.01, 0.1, 0.5, 1, 5, 10, 15])\n",
    "plt.xticks([1, 10, 50, 100, 500, 1000, 5000, 10000, 50000, 100000, 500000, 1000000], rotation=45)\n",
    "plt.ylim([0, 15])\n",
    "plt.xlim([0, 1000000])\n",
    "plt.axhline(y=10, linestyle = '--', c='gray')\n",
    "# plt.tight_layout(pad=20)\n",
    "plt.show()\n",
    "plt.savefig('fractional_knapsack_time.png')"
   ]
  },
  {
   "cell_type": "code",
   "execution_count": 134,
   "id": "4de795e9",
   "metadata": {},
   "outputs": [
    {
     "data": {
      "image/png": "[encoded data removed]",
      "text/plain": [
       "<Figure size 432x288 with 1 Axes>"
      ]
     },
     "metadata": {
      "needs_background": "light"
     },
     "output_type": "display_data"
    },
    {
     "data": {
      "text/plain": [
       "<Figure size 432x288 with 0 Axes>"
      ]
     },
     "metadata": {},
     "output_type": "display_data"
    }
   ],
   "source": [
    "fig, ax = plt.subplots()\n",
    "ax.plot(naive_df['n'], naive_df['time (sec)'], marker='o', label=\"naive\")\n",
    "ax.plot(greedy_df['n'], greedy_df['time (sec)'], marker='o', label=\"greedy\")\n",
    "plt.xlabel('n') \n",
    "plt.ylabel(\"time (sec)\")\n",
    "plt.legend(fontsize='large')\n",
    "plt.yticks([0, 0.05, 0.01, 0.1, 0.5, 1, 5, 10])\n",
    "plt.xticks([1, 4, 6, 8, 10, 15])\n",
    "plt.ylim([0, 12])\n",
    "plt.xlim([0, 15])\n",
    "ax.axhline(y=10, linestyle = '--', c='gray')\n",
    "ax.autoscale(True)\n",
    "ax.margins(0.05)\n",
    "plt.show()\n",
    "plt.savefig('fractional_knapsack_time2.png')"
   ]
  },
  {
   "cell_type": "code",
   "execution_count": null,
   "id": "bce42909",
   "metadata": {},
   "outputs": [],
   "source": []
  }
 ],
 "metadata": {
  "kernelspec": {
   "display_name": "Python 3 (ipykernel)",
   "language": "python",
   "name": "python3"
  },
  "language_info": {
   "codemirror_mode": {
    "name": "ipython",
    "version": 3
   },
   "file_extension": ".py",
   "mimetype": "text/x-python",
   "name": "python",
   "nbconvert_exporter": "python",
   "pygments_lexer": "ipython3",
   "version": "3.8.5"
  }
 },
 "nbformat": 4,
 "nbformat_minor": 5
}

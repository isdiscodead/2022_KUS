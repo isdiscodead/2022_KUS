{
 "cells": [
  {
   "cell_type": "markdown",
   "id": "237becdc",
   "metadata": {},
   "source": [
    "### 특별 자료형 - List\n",
    "- 장바구니, 단순한 값의 나열\n",
    "- [  ] 정의\n",
    "- 다른언어에서 지칭하는 배열과는 다르다. \n",
    "- 1개의 리스트에는 여러개의 자료형을 허용\n",
    "- 연산자 + ==> 연결\n",
    "- 연산자 * ==> 숫자만큼 반복 연결\n",
    "- 숫자 연산 불가능  ==> Numpy 라이브러리에서 연산 가능"
   ]
  },
  {
   "cell_type": "code",
   "execution_count": 1,
   "id": "22520983",
   "metadata": {},
   "outputs": [
    {
     "data": {
      "text/plain": [
       "([5, 7.3, '글자', True], [1, 3, 5, 7, 9], ['a', 'b', 'c'])"
      ]
     },
     "execution_count": 1,
     "metadata": {},
     "output_type": "execute_result"
    }
   ],
   "source": [
    "aList=[5, 7.3, \"글자\", True]\n",
    "bList=[1,3,5,7,9]\n",
    "cList=[\"a\",\"b\",\"c\"]\n",
    "aList, bList, cList\n",
    "## 1개의 셀에서 마지막에 작성된 변수는 print가 없어도 출력됨"
   ]
  },
  {
   "cell_type": "code",
   "execution_count": 2,
   "id": "c34fa0fb",
   "metadata": {},
   "outputs": [
    {
     "name": "stdout",
     "output_type": "stream",
     "text": [
      "[5, 7.3, '글자', True]\n",
      "[1, 3, 5, 7, 9]\n"
     ]
    }
   ],
   "source": [
    "print(aList)\n",
    "print(bList)"
   ]
  },
  {
   "cell_type": "code",
   "execution_count": 3,
   "id": "d39639b1",
   "metadata": {},
   "outputs": [
    {
     "data": {
      "text/plain": [
       "[5, 7.3, '글자', True, 5, 7.3, '글자', True]"
      ]
     },
     "execution_count": 3,
     "metadata": {},
     "output_type": "execute_result"
    }
   ],
   "source": [
    "aList*2"
   ]
  },
  {
   "cell_type": "code",
   "execution_count": 4,
   "id": "64105ac4",
   "metadata": {},
   "outputs": [
    {
     "data": {
      "text/plain": [
       "[5, 7.3, '글자', True, 1, 3, 5, 7, 9]"
      ]
     },
     "execution_count": 4,
     "metadata": {},
     "output_type": "execute_result"
    }
   ],
   "source": [
    "aList + bList"
   ]
  },
  {
   "cell_type": "code",
   "execution_count": 5,
   "id": "b5a097db",
   "metadata": {},
   "outputs": [
    {
     "data": {
      "text/plain": [
       "[1, 3, 5, 7, 9, 1, 3, 5, 7, 9]"
      ]
     },
     "execution_count": 5,
     "metadata": {},
     "output_type": "execute_result"
    }
   ],
   "source": [
    "bList*2"
   ]
  },
  {
   "cell_type": "code",
   "execution_count": 6,
   "id": "aa8d91ed",
   "metadata": {},
   "outputs": [
    {
     "data": {
      "text/plain": [
       "['a', 'b', 'c', 'a', 'b', 'c', 'a', 'b', 'c']"
      ]
     },
     "execution_count": 6,
     "metadata": {},
     "output_type": "execute_result"
    }
   ],
   "source": [
    "cList*3"
   ]
  },
  {
   "cell_type": "code",
   "execution_count": 7,
   "id": "5bfcb546",
   "metadata": {},
   "outputs": [
    {
     "data": {
      "text/plain": [
       "[1, 3, 5, 7, 9, 1, 3, 5, 7, 9]"
      ]
     },
     "execution_count": 7,
     "metadata": {},
     "output_type": "execute_result"
    }
   ],
   "source": [
    "bList+bList"
   ]
  },
  {
   "cell_type": "code",
   "execution_count": 8,
   "id": "54d84cbb",
   "metadata": {},
   "outputs": [
    {
     "data": {
      "text/plain": [
       "[1, 3, 5, 7, 9]"
      ]
     },
     "execution_count": 8,
     "metadata": {},
     "output_type": "execute_result"
    }
   ],
   "source": [
    "bList"
   ]
  },
  {
   "cell_type": "code",
   "execution_count": 9,
   "id": "f892fe91",
   "metadata": {},
   "outputs": [
    {
     "data": {
      "text/plain": [
       "(1, 7)"
      ]
     },
     "execution_count": 9,
     "metadata": {},
     "output_type": "execute_result"
    }
   ],
   "source": [
    "## 인덱스 : 위치에 있는 값\n",
    "bList[0], bList[3]"
   ]
  },
  {
   "cell_type": "markdown",
   "id": "1cc95a9f",
   "metadata": {},
   "source": [
    "bList[10]"
   ]
  },
  {
   "cell_type": "code",
   "execution_count": 10,
   "id": "0c5ac1a1",
   "metadata": {},
   "outputs": [
    {
     "name": "stdout",
     "output_type": "stream",
     "text": [
      "[1, 3, 5, 7, 9]\n"
     ]
    },
    {
     "data": {
      "text/plain": [
       "[23, 3, 5, 7, 45]"
      ]
     },
     "execution_count": 10,
     "metadata": {},
     "output_type": "execute_result"
    }
   ],
   "source": [
    "print(bList)\n",
    "bList[0]=23\n",
    "bList[4]=45\n",
    "bList"
   ]
  },
  {
   "cell_type": "code",
   "execution_count": 11,
   "id": "b01165c5",
   "metadata": {},
   "outputs": [
    {
     "data": {
      "text/plain": [
       "(45, 5)"
      ]
     },
     "execution_count": 11,
     "metadata": {},
     "output_type": "execute_result"
    }
   ],
   "source": [
    "bList[-1], bList[-3]"
   ]
  },
  {
   "cell_type": "code",
   "execution_count": 12,
   "id": "824c2738",
   "metadata": {},
   "outputs": [
    {
     "data": {
      "text/plain": [
       "[23, 3, 5, 7, 45, 10, 13, 16, 19, 22, 25, 28]"
      ]
     },
     "execution_count": 12,
     "metadata": {},
     "output_type": "execute_result"
    }
   ],
   "source": [
    "for i in range(10, 30, 3):\n",
    "    bList.append(i)\n",
    "bList    "
   ]
  },
  {
   "cell_type": "code",
   "execution_count": 13,
   "id": "db348fdd",
   "metadata": {},
   "outputs": [
    {
     "data": {
      "text/plain": [
       "[5, 7, 45, 10]"
      ]
     },
     "execution_count": 13,
     "metadata": {},
     "output_type": "execute_result"
    }
   ],
   "source": [
    "## 슬라이싱 : 특정 영역의 값을 접근\n",
    "bList[2:6]"
   ]
  },
  {
   "cell_type": "code",
   "execution_count": 14,
   "id": "3ed4f41e",
   "metadata": {},
   "outputs": [
    {
     "data": {
      "text/plain": [
       "[22, 25, 28]"
      ]
     },
     "execution_count": 14,
     "metadata": {},
     "output_type": "execute_result"
    }
   ],
   "source": [
    "bList[9:]"
   ]
  },
  {
   "cell_type": "code",
   "execution_count": 15,
   "id": "14b3bc69",
   "metadata": {},
   "outputs": [
    {
     "data": {
      "text/plain": [
       "[23, 3, 5, 7]"
      ]
     },
     "execution_count": 15,
     "metadata": {},
     "output_type": "execute_result"
    }
   ],
   "source": [
    "bList[:4]"
   ]
  },
  {
   "cell_type": "code",
   "execution_count": 16,
   "id": "27062525",
   "metadata": {},
   "outputs": [
    {
     "data": {
      "text/plain": [
       "[23, 5, 45, 13, 19, 25]"
      ]
     },
     "execution_count": 16,
     "metadata": {},
     "output_type": "execute_result"
    }
   ],
   "source": [
    "bList[0:12:2]"
   ]
  },
  {
   "cell_type": "code",
   "execution_count": 17,
   "id": "839435cc",
   "metadata": {},
   "outputs": [
    {
     "data": {
      "text/plain": [
       "[3, 45, 16]"
      ]
     },
     "execution_count": 17,
     "metadata": {},
     "output_type": "execute_result"
    }
   ],
   "source": [
    "bList[1:9:3]"
   ]
  },
  {
   "cell_type": "code",
   "execution_count": 18,
   "id": "17fd90c3",
   "metadata": {},
   "outputs": [
    {
     "data": {
      "text/plain": [
       "[19, 22, 25, 28]"
      ]
     },
     "execution_count": 18,
     "metadata": {},
     "output_type": "execute_result"
    }
   ],
   "source": [
    "bList[-4:]"
   ]
  },
  {
   "cell_type": "code",
   "execution_count": 19,
   "id": "b143079d",
   "metadata": {},
   "outputs": [
    {
     "data": {
      "text/plain": [
       "[23, 3, 5, 7, 45, 10, 13, 16]"
      ]
     },
     "execution_count": 19,
     "metadata": {},
     "output_type": "execute_result"
    }
   ],
   "source": [
    "bList[:-4]"
   ]
  },
  {
   "cell_type": "code",
   "execution_count": 20,
   "id": "e1172831",
   "metadata": {},
   "outputs": [
    {
     "data": {
      "text/plain": [
       "[28, 25, 22, 19, 16, 13, 10, 45, 7, 5, 3, 23]"
      ]
     },
     "execution_count": 20,
     "metadata": {},
     "output_type": "execute_result"
    }
   ],
   "source": [
    "bList[::-1]"
   ]
  },
  {
   "cell_type": "code",
   "execution_count": 21,
   "id": "dfea82f6",
   "metadata": {},
   "outputs": [
    {
     "data": {
      "text/plain": [
       "[3, 5, 7, 10, 13, 16, 19, 22, 23, 25, 28, 45]"
      ]
     },
     "execution_count": 21,
     "metadata": {},
     "output_type": "execute_result"
    }
   ],
   "source": [
    "bList.sort()  ##오름\n",
    "bList"
   ]
  },
  {
   "cell_type": "code",
   "execution_count": 22,
   "id": "d411c8dc",
   "metadata": {},
   "outputs": [
    {
     "data": {
      "text/plain": [
       "[45, 28, 25, 23, 22, 19, 16, 13, 10, 7, 5, 3]"
      ]
     },
     "execution_count": 22,
     "metadata": {},
     "output_type": "execute_result"
    }
   ],
   "source": [
    "bList.sort(reverse=True)  ##내림\n",
    "bList"
   ]
  },
  {
   "cell_type": "code",
   "execution_count": 23,
   "id": "eda48cff",
   "metadata": {},
   "outputs": [
    {
     "data": {
      "text/plain": [
       "[3, 5, 7, 10, 13, 16, 19, 22, 23, 25, 28, 45]"
      ]
     },
     "execution_count": 23,
     "metadata": {},
     "output_type": "execute_result"
    }
   ],
   "source": [
    "bList.reverse()  ## 내림-> <-오름\n",
    "bList"
   ]
  },
  {
   "cell_type": "code",
   "execution_count": 24,
   "id": "3acdd836",
   "metadata": {},
   "outputs": [
    {
     "data": {
      "text/plain": [
       "[3, 5, 7, 10, 13, 16, 19, 22, 23, 25, 28, 45, 5, 5, 5, 5, 5]"
      ]
     },
     "execution_count": 24,
     "metadata": {},
     "output_type": "execute_result"
    }
   ],
   "source": [
    "for i in range(5):\n",
    "    bList.append(5)\n",
    "bList    "
   ]
  },
  {
   "cell_type": "code",
   "execution_count": 25,
   "id": "97e0e63f",
   "metadata": {},
   "outputs": [
    {
     "data": {
      "text/plain": [
       "6"
      ]
     },
     "execution_count": 25,
     "metadata": {},
     "output_type": "execute_result"
    }
   ],
   "source": [
    "bList.count(5)"
   ]
  },
  {
   "cell_type": "code",
   "execution_count": 26,
   "id": "c55455be",
   "metadata": {},
   "outputs": [
    {
     "data": {
      "text/plain": [
       "7"
      ]
     },
     "execution_count": 26,
     "metadata": {},
     "output_type": "execute_result"
    }
   ],
   "source": [
    "bList.index(22)   ## 22의 위치?"
   ]
  },
  {
   "cell_type": "code",
   "execution_count": 27,
   "id": "278f432a",
   "metadata": {},
   "outputs": [
    {
     "data": {
      "text/plain": [
       "241"
      ]
     },
     "execution_count": 27,
     "metadata": {},
     "output_type": "execute_result"
    }
   ],
   "source": [
    "sum(bList)"
   ]
  },
  {
   "cell_type": "code",
   "execution_count": 28,
   "id": "8671d36c",
   "metadata": {},
   "outputs": [
    {
     "data": {
      "text/plain": [
       "45"
      ]
     },
     "execution_count": 28,
     "metadata": {},
     "output_type": "execute_result"
    }
   ],
   "source": [
    "max(bList)"
   ]
  },
  {
   "cell_type": "code",
   "execution_count": 29,
   "id": "03a7d46a",
   "metadata": {},
   "outputs": [
    {
     "data": {
      "text/plain": [
       "3"
      ]
     },
     "execution_count": 29,
     "metadata": {},
     "output_type": "execute_result"
    }
   ],
   "source": [
    "min(bList)"
   ]
  },
  {
   "cell_type": "code",
   "execution_count": 30,
   "id": "b4f1c261",
   "metadata": {},
   "outputs": [
    {
     "data": {
      "text/plain": [
       "17"
      ]
     },
     "execution_count": 30,
     "metadata": {},
     "output_type": "execute_result"
    }
   ],
   "source": [
    "len(bList)"
   ]
  },
  {
   "cell_type": "code",
   "execution_count": 32,
   "id": "59a4bcaa",
   "metadata": {},
   "outputs": [
    {
     "data": {
      "text/plain": [
       "14.176470588235293"
      ]
     },
     "execution_count": 32,
     "metadata": {},
     "output_type": "execute_result"
    }
   ],
   "source": [
    "sum(bList)/len(bList) ##avg(bList)"
   ]
  },
  {
   "cell_type": "code",
   "execution_count": 33,
   "id": "4d53fbd4",
   "metadata": {},
   "outputs": [
    {
     "data": {
      "text/plain": [
       "[3, 5, 7, 10, 13, 16, 19, 22, 23, 25, 28, 45, 5, 5, 5, 5, 5]"
      ]
     },
     "execution_count": 33,
     "metadata": {},
     "output_type": "execute_result"
    }
   ],
   "source": [
    "bList"
   ]
  },
  {
   "cell_type": "code",
   "execution_count": 36,
   "id": "cd7dc1e3",
   "metadata": {},
   "outputs": [
    {
     "data": {
      "text/plain": [
       "[3, 5, 100, 100, 100, 7, 10, 13, 16, 19, 22, 23, 25, 28, 45, 5, 5, 5, 5, 5]"
      ]
     },
     "execution_count": 36,
     "metadata": {},
     "output_type": "execute_result"
    }
   ],
   "source": [
    "bList.insert(2, 100)\n",
    "bList"
   ]
  },
  {
   "cell_type": "code",
   "execution_count": 37,
   "id": "d0eb693d",
   "metadata": {},
   "outputs": [
    {
     "data": {
      "text/plain": [
       "[5, 7.3, '글자', True]"
      ]
     },
     "execution_count": 37,
     "metadata": {},
     "output_type": "execute_result"
    }
   ],
   "source": [
    "aList"
   ]
  },
  {
   "cell_type": "code",
   "execution_count": 40,
   "id": "0e7c13da",
   "metadata": {},
   "outputs": [],
   "source": [
    "fList=aList+bList"
   ]
  },
  {
   "cell_type": "code",
   "execution_count": 41,
   "id": "9d1ab722",
   "metadata": {},
   "outputs": [
    {
     "name": "stdout",
     "output_type": "stream",
     "text": [
      "[5, 7.3, '글자', True]\n",
      "[3, 5, 100, 100, 100, 7, 10, 13, 16, 19, 22, 23, 25, 28, 45, 5, 5, 5, 5, 5]\n",
      "[5, 7.3, '글자', True, 3, 5, 100, 100, 100, 7, 10, 13, 16, 19, 22, 23, 25, 28, 45, 5, 5, 5, 5, 5]\n"
     ]
    }
   ],
   "source": [
    "print(aList)\n",
    "print(bList)\n",
    "print(fList)"
   ]
  },
  {
   "cell_type": "code",
   "execution_count": 42,
   "id": "466005ef",
   "metadata": {},
   "outputs": [],
   "source": [
    "aList.extend(bList)"
   ]
  },
  {
   "cell_type": "code",
   "execution_count": 43,
   "id": "6a6cd09a",
   "metadata": {},
   "outputs": [
    {
     "name": "stdout",
     "output_type": "stream",
     "text": [
      "[5, 7.3, '글자', True, 3, 5, 100, 100, 100, 7, 10, 13, 16, 19, 22, 23, 25, 28, 45, 5, 5, 5, 5, 5]\n",
      "[3, 5, 100, 100, 100, 7, 10, 13, 16, 19, 22, 23, 25, 28, 45, 5, 5, 5, 5, 5]\n"
     ]
    }
   ],
   "source": [
    "print(aList)\n",
    "print(bList)"
   ]
  },
  {
   "cell_type": "code",
   "execution_count": 44,
   "id": "c8b04e6b",
   "metadata": {},
   "outputs": [
    {
     "data": {
      "text/plain": [
       "[3, 5, 100, 100, 100, 7, 10, 13, 16, 19, 22, 23, 25, 28, 45, 5, 5, 5, 5, 5]"
      ]
     },
     "execution_count": 44,
     "metadata": {},
     "output_type": "execute_result"
    }
   ],
   "source": [
    "bList"
   ]
  },
  {
   "cell_type": "code",
   "execution_count": 45,
   "id": "c753825d",
   "metadata": {},
   "outputs": [
    {
     "data": {
      "text/plain": [
       "[3, 5, 100, 100, 100, 10, 13, 16, 19, 22, 23, 25, 28, 45, 5, 5, 5, 5, 5]"
      ]
     },
     "execution_count": 45,
     "metadata": {},
     "output_type": "execute_result"
    }
   ],
   "source": [
    "bList.remove(7)\n",
    "bList"
   ]
  },
  {
   "cell_type": "code",
   "execution_count": 46,
   "id": "3b7b27a5",
   "metadata": {},
   "outputs": [
    {
     "name": "stdout",
     "output_type": "stream",
     "text": [
      "7 없음\n"
     ]
    }
   ],
   "source": [
    "if 7 in bList :\n",
    "    bList.remove(7)\n",
    "    print(\"7 삭제함\")\n",
    "else:\n",
    "    print('7 없음')"
   ]
  },
  {
   "cell_type": "code",
   "execution_count": 47,
   "id": "6cb8163b",
   "metadata": {},
   "outputs": [
    {
     "name": "stdout",
     "output_type": "stream",
     "text": [
      "7 없음\n"
     ]
    }
   ],
   "source": [
    "if 7 not in bList :\n",
    "    print('7 없음')\n",
    "else:    \n",
    "    bList.remove(7)\n",
    "    print(\"7 삭제함\")"
   ]
  },
  {
   "cell_type": "code",
   "execution_count": 48,
   "id": "53c289ce",
   "metadata": {},
   "outputs": [
    {
     "data": {
      "text/plain": [
       "[3, 5, 100, 100, 100, 10, 13, 16, 19, 22, 23, 25, 28, 45, 5, 5, 5, 5, 5]"
      ]
     },
     "execution_count": 48,
     "metadata": {},
     "output_type": "execute_result"
    }
   ],
   "source": [
    "bList"
   ]
  },
  {
   "cell_type": "code",
   "execution_count": 49,
   "id": "d15ca8a1",
   "metadata": {},
   "outputs": [
    {
     "data": {
      "text/plain": [
       "[3, 100, 100, 100, 10, 13, 16, 19, 22, 23, 25, 28, 45, 5, 5, 5, 5, 5]"
      ]
     },
     "execution_count": 49,
     "metadata": {},
     "output_type": "execute_result"
    }
   ],
   "source": [
    "bList.remove(5)\n",
    "bList"
   ]
  },
  {
   "cell_type": "code",
   "execution_count": 50,
   "id": "adaecfd6",
   "metadata": {},
   "outputs": [
    {
     "data": {
      "text/plain": [
       "[3, 100, 100, 100, 10, 13, 16, 19, 22, 23, 25, 28, 45, 5, 5, 5, 5]"
      ]
     },
     "execution_count": 50,
     "metadata": {},
     "output_type": "execute_result"
    }
   ],
   "source": [
    "bList.pop()\n",
    "bList"
   ]
  },
  {
   "cell_type": "code",
   "execution_count": 51,
   "id": "30ac4c54",
   "metadata": {},
   "outputs": [
    {
     "data": {
      "text/plain": [
       "[3, 100, 100, 10, 13, 16, 19, 22, 23, 25, 28, 45, 5, 5, 5, 5]"
      ]
     },
     "execution_count": 51,
     "metadata": {},
     "output_type": "execute_result"
    }
   ],
   "source": [
    "bList.pop(3)\n",
    "bList"
   ]
  },
  {
   "cell_type": "code",
   "execution_count": 52,
   "id": "ea8e76ce",
   "metadata": {},
   "outputs": [
    {
     "data": {
      "text/plain": [
       "[3, 100, 100, 13, 16, 19, 22, 23, 25, 28, 45, 5, 5, 5, 5]"
      ]
     },
     "execution_count": 52,
     "metadata": {},
     "output_type": "execute_result"
    }
   ],
   "source": [
    "del bList[3]\n",
    "bList"
   ]
  },
  {
   "cell_type": "code",
   "execution_count": null,
   "id": "57279eb8",
   "metadata": {},
   "outputs": [],
   "source": []
  }
 ],
 "metadata": {
  "kernelspec": {
   "display_name": "Python 3",
   "language": "python",
   "name": "python3"
  },
  "language_info": {
   "codemirror_mode": {
    "name": "ipython",
    "version": 3
   },
   "file_extension": ".py",
   "mimetype": "text/x-python",
   "name": "python",
   "nbconvert_exporter": "python",
   "pygments_lexer": "ipython3",
   "version": "3.8.8"
  }
 },
 "nbformat": 4,
 "nbformat_minor": 5
}

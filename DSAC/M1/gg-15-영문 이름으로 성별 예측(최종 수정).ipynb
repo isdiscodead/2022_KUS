{
 "cells": [
  {
   "cell_type": "markdown",
   "metadata": {},
   "source": [
    "# 영문 이름으로 성별 예측\n",
    "- 미국 남녀 이름의 alphabet을 보고 남녀 성별을 예측"
   ]
  },
  {
   "cell_type": "markdown",
   "metadata": {},
   "source": [
    "- nltk : natural language toolkit\n",
    "- nltk에서 제공하는 남녀 이름 database를 download"
   ]
  },
  {
   "cell_type": "code",
   "execution_count": 1,
   "metadata": {
    "scrolled": false
   },
   "outputs": [
    {
     "name": "stderr",
     "output_type": "stream",
     "text": [
      "[nltk_data] Downloading package names to\n",
      "[nltk_data]     C:\\Users\\root\\AppData\\Roaming\\nltk_data...\n",
      "[nltk_data]   Unzipping corpora\\names.zip.\n"
     ]
    },
    {
     "data": {
      "text/plain": [
       "True"
      ]
     },
     "execution_count": 1,
     "metadata": {},
     "output_type": "execute_result"
    }
   ],
   "source": [
    "from nltk.corpus import names\n",
    "import nltk\n",
    "\n",
    "nltk.download('names')"
   ]
  },
  {
   "cell_type": "markdown",
   "metadata": {},
   "source": [
    "- male.txt : 남자 이름 database\n",
    "- female.txt : 여자 이름 database"
   ]
  },
  {
   "cell_type": "code",
   "execution_count": 2,
   "metadata": {
    "scrolled": false
   },
   "outputs": [
    {
     "data": {
      "text/plain": [
       "[('Aamir', '남자'),\n",
       " ('Aaron', '남자'),\n",
       " ('Abbey', '남자'),\n",
       " ('Abbie', '남자'),\n",
       " ('Abbot', '남자'),\n",
       " ('Abbott', '남자'),\n",
       " ('Abby', '남자'),\n",
       " ('Abdel', '남자'),\n",
       " ('Abdul', '남자'),\n",
       " ('Abdulkarim', '남자')]"
      ]
     },
     "execution_count": 2,
     "metadata": {},
     "output_type": "execute_result"
    }
   ],
   "source": [
    "labeled_names = ([(name, '남자') for name in names.words('male.txt')] + \n",
    "                 [(name, '여자') for name in names.words('female.txt')])\n",
    "labeled_names[:10]"
   ]
  },
  {
   "cell_type": "code",
   "execution_count": 3,
   "metadata": {},
   "outputs": [
    {
     "data": {
      "text/plain": [
       "[('Melania', '여자'),\n",
       " ('Marchelle', '여자'),\n",
       " ('Georgina', '여자'),\n",
       " ('Claudetta', '여자'),\n",
       " ('Fowler', '남자'),\n",
       " ('Dolores', '여자'),\n",
       " ('Hattie', '여자'),\n",
       " ('Benedict', '남자'),\n",
       " ('Katalin', '여자'),\n",
       " ('Charleton', '남자')]"
      ]
     },
     "execution_count": 3,
     "metadata": {},
     "output_type": "execute_result"
    }
   ],
   "source": [
    "import random\n",
    "\n",
    "random.shuffle(labeled_names,  )\n",
    "labeled_names[0:10]"
   ]
  },
  {
   "cell_type": "markdown",
   "metadata": {},
   "source": [
    "- gender_features() : 마지막 글자 한 자만 추출한다.\n",
    "   * 이름의 마지막 문자가 성별과 많이 관련있다고 알려져 있다. 확인 필요\n",
    "   * 마지막 문자를 이용해 성별을 예측해 보는 모델 생성"
   ]
  },
  {
   "cell_type": "code",
   "execution_count": 4,
   "metadata": {},
   "outputs": [
    {
     "data": {
      "text/plain": [
       "{'last_letter': 'i'}"
      ]
     },
     "execution_count": 4,
     "metadata": {},
     "output_type": "execute_result"
    }
   ],
   "source": [
    "def gender_features(word):\n",
    "    return {'last_letter': word[-1]}\n",
    "\n",
    "gender_features('Sopi')"
   ]
  },
  {
   "cell_type": "code",
   "execution_count": 5,
   "metadata": {},
   "outputs": [
    {
     "data": {
      "text/plain": [
       "[({'last_letter': 'a'}, '여자'),\n",
       " ({'last_letter': 'e'}, '여자'),\n",
       " ({'last_letter': 'a'}, '여자'),\n",
       " ({'last_letter': 'a'}, '여자'),\n",
       " ({'last_letter': 'r'}, '남자'),\n",
       " ({'last_letter': 's'}, '여자'),\n",
       " ({'last_letter': 'e'}, '여자'),\n",
       " ({'last_letter': 't'}, '남자'),\n",
       " ({'last_letter': 'n'}, '여자'),\n",
       " ({'last_letter': 'n'}, '남자')]"
      ]
     },
     "execution_count": 5,
     "metadata": {},
     "output_type": "execute_result"
    }
   ],
   "source": [
    "featuresets = [(gender_features(n), gender) for (n, gender) in labeled_names]\n",
    "featuresets[0:10]"
   ]
  },
  {
   "cell_type": "code",
   "execution_count": 6,
   "metadata": {},
   "outputs": [
    {
     "data": {
      "text/plain": [
       "7944"
      ]
     },
     "execution_count": 6,
     "metadata": {},
     "output_type": "execute_result"
    }
   ],
   "source": [
    "len(featuresets)"
   ]
  },
  {
   "cell_type": "markdown",
   "metadata": {},
   "source": [
    "### NaiveBaysesClassifier \n",
    "- train_set : 2,000 ~ 끝까지\n",
    "- test_set : 0 ~ 1999"
   ]
  },
  {
   "cell_type": "code",
   "execution_count": 7,
   "metadata": {},
   "outputs": [],
   "source": [
    "train_set, test_set = featuresets[2000:], featuresets[:2000]\n",
    "classifier = nltk.NaiveBayesClassifier.train(train_set)"
   ]
  },
  {
   "cell_type": "code",
   "execution_count": 8,
   "metadata": {},
   "outputs": [
    {
     "data": {
      "text/plain": [
       "'여자'"
      ]
     },
     "execution_count": 8,
     "metadata": {},
     "output_type": "execute_result"
    }
   ],
   "source": [
    "classifier.classify(gender_features('Sephipa'))"
   ]
  },
  {
   "cell_type": "code",
   "execution_count": 9,
   "metadata": {},
   "outputs": [
    {
     "name": "stdout",
     "output_type": "stream",
     "text": [
      "Most Informative Features\n",
      "             last_letter = 'a'                여자 : 남자     =     35.4 : 1.0\n",
      "             last_letter = 'k'                남자 : 여자     =     25.0 : 1.0\n",
      "             last_letter = 'f'                남자 : 여자     =     12.6 : 1.0\n",
      "             last_letter = 'p'                남자 : 여자     =      9.9 : 1.0\n",
      "             last_letter = 'd'                남자 : 여자     =      9.6 : 1.0\n"
     ]
    }
   ],
   "source": [
    "#  likelihood ratios\n",
    "classifier.show_most_informative_features(5)"
   ]
  },
  {
   "cell_type": "code",
   "execution_count": 10,
   "metadata": {},
   "outputs": [
    {
     "name": "stdout",
     "output_type": "stream",
     "text": [
      "0.7575\n"
     ]
    }
   ],
   "source": [
    "print(nltk.classify.accuracy(classifier, test_set))"
   ]
  },
  {
   "cell_type": "markdown",
   "metadata": {},
   "source": [
    "### 새로운 특성 사용\n",
    "- 이름의 첫번째 문자\n",
    "- 이름의 마지막 문자\n",
    "- 이름의 전체 길이\n",
    "- 이름에서의 각 alphabet의 빈도 수"
   ]
  },
  {
   "cell_type": "code",
   "execution_count": 11,
   "metadata": {
    "scrolled": true
   },
   "outputs": [
    {
     "data": {
      "text/plain": [
       "{'first_letter': 'j',\n",
       " 'last_letter': 'a',\n",
       " 'length': 6,\n",
       " 'count(a)': 1,\n",
       " 'count(b)': 0,\n",
       " 'count(c)': 0,\n",
       " 'count(d)': 0,\n",
       " 'count(e)': 0,\n",
       " 'count(f)': 0,\n",
       " 'count(g)': 0,\n",
       " 'count(h)': 1,\n",
       " 'count(i)': 0,\n",
       " 'count(j)': 1,\n",
       " 'count(k)': 0,\n",
       " 'count(l)': 0,\n",
       " 'count(m)': 0,\n",
       " 'count(n)': 0,\n",
       " 'count(o)': 1,\n",
       " 'count(p)': 0,\n",
       " 'count(q)': 0,\n",
       " 'count(r)': 0,\n",
       " 'count(s)': 1,\n",
       " 'count(t)': 0,\n",
       " 'count(u)': 1,\n",
       " 'count(v)': 0,\n",
       " 'count(w)': 0,\n",
       " 'count(x)': 0,\n",
       " 'count(y)': 0,\n",
       " 'count(z)': 0}"
      ]
     },
     "execution_count": 11,
     "metadata": {},
     "output_type": "execute_result"
    }
   ],
   "source": [
    "def gender_features2(name):\n",
    "    features = {}\n",
    "    features[\"first_letter\"] = name[0].lower()\n",
    "    features[\"last_letter\"] = name[-1].lower()\n",
    "    features[\"length\"] = len(name)\n",
    "    for letter in 'abcdefghijklmnopqrstuvwxyz':\n",
    "        features[\"count({})\".format(letter)] = name.lower().count(letter)\n",
    "#        features[\"has({})\".format(letter)] = (letter in name.lower())\n",
    "    return features\n",
    "\n",
    "gender_features2('Joshua') "
   ]
  },
  {
   "cell_type": "code",
   "execution_count": 12,
   "metadata": {},
   "outputs": [
    {
     "data": {
      "text/plain": [
       "[('Melania', '여자'),\n",
       " ('Marchelle', '여자'),\n",
       " ('Georgina', '여자'),\n",
       " ('Claudetta', '여자'),\n",
       " ('Fowler', '남자'),\n",
       " ('Dolores', '여자'),\n",
       " ('Hattie', '여자'),\n",
       " ('Benedict', '남자'),\n",
       " ('Katalin', '여자'),\n",
       " ('Charleton', '남자')]"
      ]
     },
     "execution_count": 12,
     "metadata": {},
     "output_type": "execute_result"
    }
   ],
   "source": [
    "labeled_names[0:10]"
   ]
  },
  {
   "cell_type": "code",
   "execution_count": 13,
   "metadata": {},
   "outputs": [
    {
     "data": {
      "text/plain": [
       "[({'first_letter': 'm',\n",
       "   'last_letter': 'a',\n",
       "   'length': 7,\n",
       "   'count(a)': 2,\n",
       "   'count(b)': 0,\n",
       "   'count(c)': 0,\n",
       "   'count(d)': 0,\n",
       "   'count(e)': 1,\n",
       "   'count(f)': 0,\n",
       "   'count(g)': 0,\n",
       "   'count(h)': 0,\n",
       "   'count(i)': 1,\n",
       "   'count(j)': 0,\n",
       "   'count(k)': 0,\n",
       "   'count(l)': 1,\n",
       "   'count(m)': 1,\n",
       "   'count(n)': 1,\n",
       "   'count(o)': 0,\n",
       "   'count(p)': 0,\n",
       "   'count(q)': 0,\n",
       "   'count(r)': 0,\n",
       "   'count(s)': 0,\n",
       "   'count(t)': 0,\n",
       "   'count(u)': 0,\n",
       "   'count(v)': 0,\n",
       "   'count(w)': 0,\n",
       "   'count(x)': 0,\n",
       "   'count(y)': 0,\n",
       "   'count(z)': 0},\n",
       "  '여자'),\n",
       " ({'first_letter': 'm',\n",
       "   'last_letter': 'e',\n",
       "   'length': 9,\n",
       "   'count(a)': 1,\n",
       "   'count(b)': 0,\n",
       "   'count(c)': 1,\n",
       "   'count(d)': 0,\n",
       "   'count(e)': 2,\n",
       "   'count(f)': 0,\n",
       "   'count(g)': 0,\n",
       "   'count(h)': 1,\n",
       "   'count(i)': 0,\n",
       "   'count(j)': 0,\n",
       "   'count(k)': 0,\n",
       "   'count(l)': 2,\n",
       "   'count(m)': 1,\n",
       "   'count(n)': 0,\n",
       "   'count(o)': 0,\n",
       "   'count(p)': 0,\n",
       "   'count(q)': 0,\n",
       "   'count(r)': 1,\n",
       "   'count(s)': 0,\n",
       "   'count(t)': 0,\n",
       "   'count(u)': 0,\n",
       "   'count(v)': 0,\n",
       "   'count(w)': 0,\n",
       "   'count(x)': 0,\n",
       "   'count(y)': 0,\n",
       "   'count(z)': 0},\n",
       "  '여자')]"
      ]
     },
     "execution_count": 13,
     "metadata": {},
     "output_type": "execute_result"
    }
   ],
   "source": [
    "featuresets = [(gender_features2(n), gender) for (n, gender) in labeled_names]\n",
    "featuresets[0:2]"
   ]
  },
  {
   "cell_type": "code",
   "execution_count": 14,
   "metadata": {
    "scrolled": true
   },
   "outputs": [
    {
     "name": "stdout",
     "output_type": "stream",
     "text": [
      "0.785\n"
     ]
    }
   ],
   "source": [
    "train_set, test_set = featuresets[2000:], featuresets[:2000]\n",
    "classifier = nltk.NaiveBayesClassifier.train(train_set)\n",
    "print(nltk.classify.accuracy(classifier, test_set))"
   ]
  },
  {
   "cell_type": "code",
   "execution_count": 15,
   "metadata": {},
   "outputs": [
    {
     "name": "stdout",
     "output_type": "stream",
     "text": [
      "Most Informative Features\n",
      "             last_letter = 'a'                여자 : 남자     =     35.4 : 1.0\n",
      "             last_letter = 'k'                남자 : 여자     =     25.0 : 1.0\n",
      "             last_letter = 'f'                남자 : 여자     =     12.6 : 1.0\n",
      "             last_letter = 'p'                남자 : 여자     =      9.9 : 1.0\n",
      "             last_letter = 'd'                남자 : 여자     =      9.6 : 1.0\n",
      "             last_letter = 'v'                남자 : 여자     =      8.5 : 1.0\n",
      "             last_letter = 'o'                남자 : 여자     =      8.3 : 1.0\n",
      "             last_letter = 'm'                남자 : 여자     =      8.1 : 1.0\n",
      "             last_letter = 'r'                남자 : 여자     =      6.3 : 1.0\n",
      "                count(a) = 3                  여자 : 남자     =      5.3 : 1.0\n",
      "            first_letter = 'w'                남자 : 여자     =      5.2 : 1.0\n",
      "             last_letter = 'g'                남자 : 여자     =      5.1 : 1.0\n",
      "             last_letter = 'b'                남자 : 여자     =      5.1 : 1.0\n",
      "                count(w) = 1                  남자 : 여자     =      4.6 : 1.0\n",
      "             last_letter = 'z'                남자 : 여자     =      4.6 : 1.0\n",
      "             last_letter = 's'                남자 : 여자     =      4.5 : 1.0\n",
      "             last_letter = 't'                남자 : 여자     =      4.1 : 1.0\n",
      "             last_letter = 'w'                남자 : 여자     =      3.6 : 1.0\n",
      "                count(o) = 2                  남자 : 여자     =      3.6 : 1.0\n",
      "             last_letter = 'i'                여자 : 남자     =      3.4 : 1.0\n",
      "                count(i) = 3                  남자 : 여자     =      3.2 : 1.0\n",
      "                  length = 12                 남자 : 여자     =      3.1 : 1.0\n",
      "            first_letter = 'q'                남자 : 여자     =      3.0 : 1.0\n",
      "                count(a) = 2                  여자 : 남자     =      3.0 : 1.0\n",
      "             last_letter = 'j'                남자 : 여자     =      2.8 : 1.0\n",
      "            first_letter = 'u'                남자 : 여자     =      2.8 : 1.0\n",
      "                count(f) = 2                  남자 : 여자     =      2.8 : 1.0\n",
      "             last_letter = 'u'                남자 : 여자     =      2.7 : 1.0\n",
      "                count(y) = 2                  여자 : 남자     =      2.6 : 1.0\n",
      "                count(p) = 3                  여자 : 남자     =      2.5 : 1.0\n",
      "            first_letter = 'h'                남자 : 여자     =      2.5 : 1.0\n",
      "                count(p) = 2                  남자 : 여자     =      2.4 : 1.0\n",
      "                count(w) = 2                  남자 : 여자     =      2.4 : 1.0\n",
      "                count(e) = 3                  여자 : 남자     =      2.3 : 1.0\n",
      "            first_letter = 'k'                여자 : 남자     =      2.1 : 1.0\n",
      "             last_letter = 'n'                남자 : 여자     =      2.1 : 1.0\n",
      "                count(l) = 3                  여자 : 남자     =      2.1 : 1.0\n",
      "                count(d) = 2                  남자 : 여자     =      2.1 : 1.0\n",
      "                count(i) = 2                  여자 : 남자     =      2.0 : 1.0\n",
      "                count(r) = 2                  남자 : 여자     =      2.0 : 1.0\n",
      "            first_letter = 'z'                남자 : 여자     =      2.0 : 1.0\n",
      "                  length = 3                  남자 : 여자     =      2.0 : 1.0\n",
      "                count(u) = 2                  남자 : 여자     =      1.9 : 1.0\n",
      "                  length = 2                  남자 : 여자     =      1.9 : 1.0\n",
      "             last_letter = 'x'                남자 : 여자     =      1.9 : 1.0\n",
      "                count(u) = 1                  남자 : 여자     =      1.9 : 1.0\n",
      "                count(h) = 2                  남자 : 여자     =      1.8 : 1.0\n",
      "                count(b) = 2                  여자 : 남자     =      1.8 : 1.0\n",
      "             last_letter = 'e'                여자 : 남자     =      1.8 : 1.0\n",
      "                count(z) = 1                  남자 : 여자     =      1.8 : 1.0\n",
      "            first_letter = 'l'                여자 : 남자     =      1.7 : 1.0\n",
      "                count(p) = 1                  남자 : 여자     =      1.7 : 1.0\n",
      "                count(h) = 3                  남자 : 여자     =      1.7 : 1.0\n",
      "                count(m) = 3                  남자 : 여자     =      1.7 : 1.0\n",
      "                count(s) = 3                  남자 : 여자     =      1.7 : 1.0\n",
      "                count(l) = 4                  남자 : 여자     =      1.7 : 1.0\n",
      "                  length = 15                 남자 : 여자     =      1.7 : 1.0\n",
      "                count(e) = 2                  여자 : 남자     =      1.7 : 1.0\n",
      "                count(n) = 3                  여자 : 남자     =      1.7 : 1.0\n",
      "                count(n) = 2                  여자 : 남자     =      1.7 : 1.0\n",
      "             last_letter = 'l'                남자 : 여자     =      1.7 : 1.0\n",
      "            first_letter = 'c'                여자 : 남자     =      1.7 : 1.0\n",
      "                  length = 11                 여자 : 남자     =      1.6 : 1.0\n",
      "             last_letter = 'h'                남자 : 여자     =      1.6 : 1.0\n",
      "                count(k) = 2                  여자 : 남자     =      1.6 : 1.0\n",
      "                count(f) = 1                  남자 : 여자     =      1.6 : 1.0\n",
      "                count(a) = 0                  남자 : 여자     =      1.6 : 1.0\n",
      "                count(v) = 1                  남자 : 여자     =      1.5 : 1.0\n",
      "                count(t) = 2                  여자 : 남자     =      1.5 : 1.0\n",
      "                count(l) = 2                  여자 : 남자     =      1.5 : 1.0\n",
      "                count(e) = 4                  여자 : 남자     =      1.5 : 1.0\n",
      "                count(m) = 2                  남자 : 여자     =      1.5 : 1.0\n",
      "            first_letter = 'o'                남자 : 여자     =      1.4 : 1.0\n",
      "                count(g) = 1                  남자 : 여자     =      1.4 : 1.0\n",
      "                  length = 10                 여자 : 남자     =      1.4 : 1.0\n",
      "                count(o) = 1                  남자 : 여자     =      1.4 : 1.0\n",
      "            first_letter = 'm'                여자 : 남자     =      1.4 : 1.0\n",
      "                count(z) = 2                  남자 : 여자     =      1.4 : 1.0\n",
      "            first_letter = 't'                남자 : 여자     =      1.4 : 1.0\n",
      "            first_letter = 'y'                남자 : 여자     =      1.4 : 1.0\n",
      "            first_letter = 'p'                남자 : 여자     =      1.4 : 1.0\n",
      "            first_letter = 'n'                여자 : 남자     =      1.4 : 1.0\n",
      "            first_letter = 'r'                남자 : 여자     =      1.4 : 1.0\n",
      "                  length = 9                  여자 : 남자     =      1.3 : 1.0\n",
      "                count(b) = 1                  남자 : 여자     =      1.3 : 1.0\n",
      "                count(h) = 1                  남자 : 여자     =      1.3 : 1.0\n",
      "            first_letter = 'v'                여자 : 남자     =      1.3 : 1.0\n",
      "            first_letter = 'x'                남자 : 여자     =      1.3 : 1.0\n",
      "                count(s) = 1                  남자 : 여자     =      1.3 : 1.0\n",
      "                count(i) = 1                  여자 : 남자     =      1.3 : 1.0\n",
      "                count(c) = 2                  여자 : 남자     =      1.3 : 1.0\n",
      "                count(i) = 0                  남자 : 여자     =      1.3 : 1.0\n",
      "            first_letter = 'e'                여자 : 남자     =      1.3 : 1.0\n",
      "                count(l) = 1                  여자 : 남자     =      1.3 : 1.0\n",
      "                count(x) = 1                  남자 : 여자     =      1.3 : 1.0\n",
      "                  length = 4                  남자 : 여자     =      1.2 : 1.0\n",
      "                count(q) = 1                  여자 : 남자     =      1.2 : 1.0\n",
      "                count(t) = 1                  남자 : 여자     =      1.2 : 1.0\n",
      "            first_letter = 's'                남자 : 여자     =      1.2 : 1.0\n",
      "                count(d) = 1                  남자 : 여자     =      1.2 : 1.0\n"
     ]
    }
   ],
   "source": [
    "classifier.show_most_informative_features(100)"
   ]
  },
  {
   "cell_type": "markdown",
   "metadata": {},
   "source": [
    "### 잘못 예측한 경우에 대한 조사"
   ]
  },
  {
   "cell_type": "code",
   "execution_count": 16,
   "metadata": {},
   "outputs": [],
   "source": [
    "train_names = labeled_names[1500:]\n",
    "devtest_names = labeled_names[500:1500]\n",
    "test_names = labeled_names[:500]"
   ]
  },
  {
   "cell_type": "code",
   "execution_count": 17,
   "metadata": {},
   "outputs": [
    {
     "name": "stdout",
     "output_type": "stream",
     "text": [
      "0.766\n"
     ]
    }
   ],
   "source": [
    "train_set = [(gender_features(n), gender) for (n, gender) in train_names]\n",
    "devtest_set = [(gender_features(n), gender) for (n, gender) in devtest_names]\n",
    "test_set = [(gender_features(n), gender) for (n, gender) in test_names]\n",
    "classifier = nltk.NaiveBayesClassifier.train(train_set)\n",
    "print(nltk.classify.accuracy(classifier, devtest_set)) "
   ]
  },
  {
   "cell_type": "code",
   "execution_count": 18,
   "metadata": {},
   "outputs": [
    {
     "data": {
      "text/plain": [
       "[({'last_letter': 'y'}, '남자'),\n",
       " ({'last_letter': 'e'}, '여자'),\n",
       " ({'last_letter': 'a'}, '여자'),\n",
       " ({'last_letter': 'n'}, '남자'),\n",
       " ({'last_letter': 't'}, '남자'),\n",
       " ({'last_letter': 'e'}, '여자'),\n",
       " ({'last_letter': 'r'}, '남자'),\n",
       " ({'last_letter': 'y'}, '남자'),\n",
       " ({'last_letter': 'n'}, '남자'),\n",
       " ({'last_letter': 'e'}, '여자'),\n",
       " ({'last_letter': 'a'}, '여자'),\n",
       " ({'last_letter': 'l'}, '여자'),\n",
       " ({'last_letter': 'r'}, '여자'),\n",
       " ({'last_letter': 'a'}, '여자'),\n",
       " ({'last_letter': 'a'}, '여자'),\n",
       " ({'last_letter': 'e'}, '남자'),\n",
       " ({'last_letter': 'a'}, '여자'),\n",
       " ({'last_letter': 'a'}, '여자'),\n",
       " ({'last_letter': 'a'}, '여자'),\n",
       " ({'last_letter': 'n'}, '남자')]"
      ]
     },
     "execution_count": 18,
     "metadata": {},
     "output_type": "execute_result"
    }
   ],
   "source": [
    "train_set[:20]"
   ]
  },
  {
   "cell_type": "code",
   "execution_count": 19,
   "metadata": {},
   "outputs": [],
   "source": [
    "errors = []\n",
    "for (name, tag) in devtest_names:\n",
    "    guess = classifier.classify(gender_features(name))\n",
    "    if guess != tag:\n",
    "        errors.append( (tag, guess, name) )"
   ]
  },
  {
   "cell_type": "code",
   "execution_count": 20,
   "metadata": {},
   "outputs": [
    {
     "name": "stdout",
     "output_type": "stream",
     "text": [
      "correct=남자       guess=여자       name=Abby                          \n",
      "correct=남자       guess=여자       name=Abe                           \n",
      "correct=남자       guess=여자       name=Adolph                        \n",
      "correct=남자       guess=여자       name=Alfie                         \n",
      "correct=남자       guess=여자       name=Ali                           \n",
      "correct=남자       guess=여자       name=Andri                         \n",
      "correct=남자       guess=여자       name=Archie                        \n",
      "correct=남자       guess=여자       name=Aristotle                     \n",
      "correct=남자       guess=여자       name=Ave                           \n",
      "correct=남자       guess=여자       name=Barnie                        \n",
      "correct=남자       guess=여자       name=Bartholemy                    \n",
      "correct=남자       guess=여자       name=Barty                         \n",
      "correct=남자       guess=여자       name=Bobbie                        \n",
      "correct=남자       guess=여자       name=Boniface                      \n",
      "correct=남자       guess=여자       name=Bradly                        \n",
      "correct=남자       guess=여자       name=Brady                         \n",
      "correct=남자       guess=여자       name=Brandy                        \n",
      "correct=남자       guess=여자       name=Broddy                        \n",
      "correct=남자       guess=여자       name=Burnaby                       \n",
      "correct=남자       guess=여자       name=Butch                         \n",
      "correct=남자       guess=여자       name=Carleigh                      \n",
      "correct=남자       guess=여자       name=Cary                          \n",
      "correct=남자       guess=여자       name=Chaunce                       \n",
      "correct=남자       guess=여자       name=Clayborne                     \n",
      "correct=남자       guess=여자       name=Cory                          \n",
      "correct=남자       guess=여자       name=Courtney                      \n",
      "correct=남자       guess=여자       name=Cy                            \n",
      "correct=남자       guess=여자       name=Daffy                         \n",
      "correct=남자       guess=여자       name=Dana                          \n",
      "correct=남자       guess=여자       name=Daryle                        \n",
      "correct=남자       guess=여자       name=Deane                         \n",
      "correct=남자       guess=여자       name=Dimitry                       \n",
      "correct=남자       guess=여자       name=Elijah                        \n",
      "correct=남자       guess=여자       name=Emmery                        \n",
      "correct=남자       guess=여자       name=Emory                         \n",
      "correct=남자       guess=여자       name=Esme                          \n",
      "correct=남자       guess=여자       name=Eustace                       \n",
      "correct=남자       guess=여자       name=Felipe                        \n",
      "correct=남자       guess=여자       name=Filipe                        \n",
      "correct=남자       guess=여자       name=Frankie                       \n",
      "correct=남자       guess=여자       name=Gabriele                      \n",
      "correct=남자       guess=여자       name=Garth                         \n",
      "correct=남자       guess=여자       name=Geoffrey                      \n",
      "correct=남자       guess=여자       name=Geri                          \n",
      "correct=남자       guess=여자       name=Giorgi                        \n",
      "correct=남자       guess=여자       name=Gregory                       \n",
      "correct=남자       guess=여자       name=Grove                         \n",
      "correct=남자       guess=여자       name=Harry                         \n",
      "correct=남자       guess=여자       name=Hasty                         \n",
      "correct=남자       guess=여자       name=Hermy                         \n",
      "correct=남자       guess=여자       name=Hewie                         \n",
      "correct=남자       guess=여자       name=Iggy                          \n",
      "correct=남자       guess=여자       name=Ira                           \n",
      "correct=남자       guess=여자       name=Irvine                        \n",
      "correct=남자       guess=여자       name=Jamey                         \n",
      "correct=남자       guess=여자       name=Jay                           \n",
      "correct=남자       guess=여자       name=Jeffery                       \n",
      "correct=남자       guess=여자       name=Jermayne                      \n",
      "correct=남자       guess=여자       name=Judah                         \n",
      "correct=남자       guess=여자       name=Kingsley                      \n",
      "correct=남자       guess=여자       name=Kyle                          \n",
      "correct=남자       guess=여자       name=Larry                         \n",
      "correct=남자       guess=여자       name=Laurence                      \n",
      "correct=남자       guess=여자       name=Lay                           \n",
      "correct=남자       guess=여자       name=Lonnie                        \n",
      "correct=남자       guess=여자       name=Lorrie                        \n",
      "correct=남자       guess=여자       name=Luigi                         \n",
      "correct=남자       guess=여자       name=Maddie                        \n",
      "correct=남자       guess=여자       name=Maddy                         \n",
      "correct=남자       guess=여자       name=Marsh                         \n",
      "correct=남자       guess=여자       name=Maxie                         \n",
      "correct=남자       guess=여자       name=Moe                           \n",
      "correct=남자       guess=여자       name=Moore                         \n",
      "correct=남자       guess=여자       name=Morley                        \n",
      "correct=남자       guess=여자       name=Murdoch                       \n",
      "correct=남자       guess=여자       name=Nichole                       \n",
      "correct=남자       guess=여자       name=Normie                        \n",
      "correct=남자       guess=여자       name=Pascale                       \n",
      "correct=남자       guess=여자       name=Pennie                        \n",
      "correct=남자       guess=여자       name=Percy                         \n",
      "correct=남자       guess=여자       name=Prentice                      \n",
      "correct=남자       guess=여자       name=Rafe                          \n",
      "correct=남자       guess=여자       name=Ricky                         \n",
      "correct=남자       guess=여자       name=Rikki                         \n",
      "correct=남자       guess=여자       name=Rodrique                      \n",
      "correct=남자       guess=여자       name=Rourke                        \n",
      "correct=남자       guess=여자       name=Ruddie                        \n",
      "correct=남자       guess=여자       name=Sandy                         \n",
      "correct=남자       guess=여자       name=Sayre                         \n",
      "correct=남자       guess=여자       name=Scotti                        \n",
      "correct=남자       guess=여자       name=Sergei                        \n",
      "correct=남자       guess=여자       name=Shaine                        \n",
      "correct=남자       guess=여자       name=Shane                         \n",
      "correct=남자       guess=여자       name=Shelley                       \n",
      "correct=남자       guess=여자       name=Siffre                        \n",
      "correct=남자       guess=여자       name=Simone                        \n",
      "correct=남자       guess=여자       name=Skelly                        \n",
      "correct=남자       guess=여자       name=Skippie                       \n",
      "correct=남자       guess=여자       name=Sloane                        \n",
      "correct=남자       guess=여자       name=Smith                         \n",
      "correct=남자       guess=여자       name=Sollie                        \n",
      "correct=남자       guess=여자       name=Stanly                        \n",
      "correct=남자       guess=여자       name=Temple                        \n",
      "correct=남자       guess=여자       name=Terence                       \n",
      "correct=남자       guess=여자       name=Thayne                        \n",
      "correct=남자       guess=여자       name=Theodore                      \n",
      "correct=남자       guess=여자       name=Timothy                       \n",
      "correct=남자       guess=여자       name=Toddie                        \n",
      "correct=남자       guess=여자       name=Tommy                         \n",
      "correct=남자       guess=여자       name=Torrence                      \n",
      "correct=남자       guess=여자       name=Torrey                        \n",
      "correct=남자       guess=여자       name=Trace                         \n",
      "correct=남자       guess=여자       name=Tracy                         \n",
      "correct=남자       guess=여자       name=Tyrone                        \n",
      "correct=남자       guess=여자       name=Vasily                        \n",
      "correct=남자       guess=여자       name=Vince                         \n",
      "correct=남자       guess=여자       name=Waine                         \n",
      "correct=남자       guess=여자       name=Wally                         \n",
      "correct=남자       guess=여자       name=Willie                        \n",
      "correct=남자       guess=여자       name=Winnie                        \n",
      "correct=남자       guess=여자       name=Winny                         \n",
      "correct=남자       guess=여자       name=Yance                         \n",
      "correct=남자       guess=여자       name=Yancey                        \n",
      "correct=남자       guess=여자       name=Zane                          \n",
      "correct=남자       guess=여자       name=Zebadiah                      \n",
      "correct=남자       guess=여자       name=Zebedee                       \n",
      "correct=여자       guess=남자       name=Adrien                        \n",
      "correct=여자       guess=남자       name=Alex                          \n",
      "correct=여자       guess=남자       name=Allison                       \n",
      "correct=여자       guess=남자       name=Allys                         \n",
      "correct=여자       guess=남자       name=Allyson                       \n",
      "correct=여자       guess=남자       name=Annabel                       \n",
      "correct=여자       guess=남자       name=Bab                           \n",
      "correct=여자       guess=남자       name=Beret                         \n",
      "correct=여자       guess=남자       name=Bliss                         \n",
      "correct=여자       guess=남자       name=Brear                         \n",
      "correct=여자       guess=남자       name=Cameo                         \n",
      "correct=여자       guess=남자       name=Christean                     \n",
      "correct=여자       guess=남자       name=Christian                     \n",
      "correct=여자       guess=남자       name=Cloris                        \n",
      "correct=여자       guess=남자       name=Clovis                        \n",
      "correct=여자       guess=남자       name=Coleen                        \n",
      "correct=여자       guess=남자       name=Consuelo                      \n",
      "correct=여자       guess=남자       name=Corabel                       \n",
      "correct=여자       guess=남자       name=Daryl                         \n",
      "correct=여자       guess=남자       name=Delores                       \n",
      "correct=여자       guess=남자       name=Denys                         \n",
      "correct=여자       guess=남자       name=Dix                           \n",
      "correct=여자       guess=남자       name=Easter                        \n",
      "correct=여자       guess=남자       name=Edin                          \n",
      "correct=여자       guess=남자       name=Eleanor                       \n",
      "correct=여자       guess=남자       name=Elisabet                      \n",
      "correct=여자       guess=남자       name=Ellen                         \n",
      "correct=여자       guess=남자       name=Elyn                          \n",
      "correct=여자       guess=남자       name=Fan                           \n",
      "correct=여자       guess=남자       name=Faun                          \n",
      "correct=여자       guess=남자       name=Fran                          \n",
      "correct=여자       guess=남자       name=Fred                          \n",
      "correct=여자       guess=남자       name=Germain                       \n",
      "correct=여자       guess=남자       name=Glad                          \n",
      "correct=여자       guess=남자       name=Gunvor                        \n",
      "correct=여자       guess=남자       name=Helyn                         \n",
      "correct=여자       guess=남자       name=Idell                         \n",
      "correct=여자       guess=남자       name=Imogen                        \n",
      "correct=여자       guess=남자       name=Inez                          \n",
      "correct=여자       guess=남자       name=Iseabal                       \n",
      "correct=여자       guess=남자       name=Janean                        \n",
      "correct=여자       guess=남자       name=Janot                         \n",
      "correct=여자       guess=남자       name=Jaquelin                      \n",
      "correct=여자       guess=남자       name=Jean                          \n",
      "correct=여자       guess=남자       name=Jillian                       \n",
      "correct=여자       guess=남자       name=Jo Ann                        \n",
      "correct=여자       guess=남자       name=Jo-Ann                        \n",
      "correct=여자       guess=남자       name=Jocelin                       \n",
      "correct=여자       guess=남자       name=Jolyn                         \n",
      "correct=여자       guess=남자       name=Jordain                       \n",
      "correct=여자       guess=남자       name=Karol                         \n",
      "correct=여자       guess=남자       name=Kaster                        \n",
      "correct=여자       guess=남자       name=Kellen                        \n",
      "correct=여자       guess=남자       name=Kial                          \n",
      "correct=여자       guess=남자       name=Kirstin                       \n",
      "correct=여자       guess=남자       name=Koren                         \n",
      "correct=여자       guess=남자       name=Kristan                       \n",
      "correct=여자       guess=남자       name=Kristen                       \n",
      "correct=여자       guess=남자       name=Lauryn                        \n",
      "correct=여자       guess=남자       name=LeeAnn                        \n",
      "correct=여자       guess=남자       name=Lilias                        \n",
      "correct=여자       guess=남자       name=Lillis                        \n",
      "correct=여자       guess=남자       name=Lyndel                        \n",
      "correct=여자       guess=남자       name=Lyndell                       \n",
      "correct=여자       guess=남자       name=Lynnett                       \n",
      "correct=여자       guess=남자       name=Madel                         \n",
      "correct=여자       guess=남자       name=Mag                           \n",
      "correct=여자       guess=남자       name=Margeaux                      \n",
      "correct=여자       guess=남자       name=Margot                        \n",
      "correct=여자       guess=남자       name=Mariel                        \n",
      "correct=여자       guess=남자       name=Mariellen                     \n",
      "correct=여자       guess=남자       name=Marit                         \n",
      "correct=여자       guess=남자       name=Marys                         \n",
      "correct=여자       guess=남자       name=Meghan                        \n",
      "correct=여자       guess=남자       name=Mel                           \n",
      "correct=여자       guess=남자       name=Mercedes                      \n",
      "correct=여자       guess=남자       name=Meris                         \n",
      "correct=여자       guess=남자       name=Michell                       \n",
      "correct=여자       guess=남자       name=Mirabel                       \n",
      "correct=여자       guess=남자       name=Noellyn                       \n",
      "correct=여자       guess=남자       name=Norean                        \n",
      "correct=여자       guess=남자       name=Pam                           \n",
      "correct=여자       guess=남자       name=Pegeen                        \n",
      "correct=여자       guess=남자       name=Phillis                       \n",
      "correct=여자       guess=남자       name=Phyllys                       \n",
      "correct=여자       guess=남자       name=Piper                         \n",
      "correct=여자       guess=남자       name=Rachael                       \n",
      "correct=여자       guess=남자       name=Raquel                        \n",
      "correct=여자       guess=남자       name=Raynell                       \n",
      "correct=여자       guess=남자       name=Regan                         \n",
      "correct=여자       guess=남자       name=Rochell                       \n",
      "correct=여자       guess=남자       name=Ros                           \n",
      "correct=여자       guess=남자       name=Rosalyn                       \n",
      "correct=여자       guess=남자       name=Ruthann                       \n",
      "correct=여자       guess=남자       name=Sal                           \n",
      "correct=여자       guess=남자       name=Sharl                         \n",
      "correct=여자       guess=남자       name=Sheril                        \n",
      "correct=여자       guess=남자       name=Shir                          \n",
      "correct=여자       guess=남자       name=Sib                           \n",
      "correct=여자       guess=남자       name=Sigrid                        \n",
      "correct=여자       guess=남자       name=Sileas                        \n",
      "correct=여자       guess=남자       name=Sinead                        \n",
      "correct=여자       guess=남자       name=Suellen                       \n",
      "correct=여자       guess=남자       name=Sybyl                         \n",
      "correct=여자       guess=남자       name=Tim                           \n",
      "correct=여자       guess=남자       name=Vivien                        \n",
      "correct=여자       guess=남자       name=Willyt                        \n",
      "correct=여자       guess=남자       name=Winnifred                     \n"
     ]
    }
   ],
   "source": [
    "for (tag, guess, name) in sorted(errors):\n",
    "    print('correct={:<8} guess={:<8s} name={:<30}'.format(tag, guess, name))"
   ]
  },
  {
   "cell_type": "markdown",
   "metadata": {},
   "source": [
    "### 사용 특성\n",
    "- 마지막 두 문자 "
   ]
  },
  {
   "cell_type": "code",
   "execution_count": 21,
   "metadata": {},
   "outputs": [],
   "source": [
    "def gender_features(word):\n",
    "    return {'suffix1': word[-1:],\n",
    "            'suffix2': word[-2:]}"
   ]
  },
  {
   "cell_type": "code",
   "execution_count": 22,
   "metadata": {},
   "outputs": [
    {
     "name": "stdout",
     "output_type": "stream",
     "text": [
      "0.777\n"
     ]
    }
   ],
   "source": [
    "train_set = [(gender_features(n), gender) for (n, gender) in train_names]\n",
    "devtest_set = [(gender_features(n), gender) for (n, gender) in devtest_names]\n",
    "classifier = nltk.NaiveBayesClassifier.train(train_set)\n",
    "print(nltk.classify.accuracy(classifier, devtest_set))"
   ]
  },
  {
   "cell_type": "code",
   "execution_count": 23,
   "metadata": {},
   "outputs": [
    {
     "data": {
      "text/plain": [
       "[('Trey', '남자'),\n",
       " ('Dianne', '여자'),\n",
       " ('Beatrisa', '여자'),\n",
       " ('Ferguson', '남자'),\n",
       " ('Elliot', '남자'),\n",
       " ('Colette', '여자'),\n",
       " ('Goober', '남자'),\n",
       " ('Jeromy', '남자'),\n",
       " ('Benton', '남자'),\n",
       " ('Melamie', '여자'),\n",
       " ('Clarissa', '여자'),\n",
       " ('Meryl', '여자'),\n",
       " ('Flower', '여자'),\n",
       " ('Celesta', '여자'),\n",
       " ('Belva', '여자'),\n",
       " ('Beale', '남자'),\n",
       " ('Liuka', '여자'),\n",
       " ('Othella', '여자'),\n",
       " ('Nena', '여자'),\n",
       " ('Marwin', '남자')]"
      ]
     },
     "execution_count": 23,
     "metadata": {},
     "output_type": "execute_result"
    }
   ],
   "source": [
    "# train_set[:20]\n",
    "train_names[:20]"
   ]
  },
  {
   "cell_type": "code",
   "execution_count": null,
   "metadata": {},
   "outputs": [],
   "source": []
  }
 ],
 "metadata": {
  "kernelspec": {
   "display_name": "Python 3",
   "language": "python",
   "name": "python3"
  },
  "language_info": {
   "codemirror_mode": {
    "name": "ipython",
    "version": 3
   },
   "file_extension": ".py",
   "mimetype": "text/x-python",
   "name": "python",
   "nbconvert_exporter": "python",
   "pygments_lexer": "ipython3",
   "version": "3.8.5"
  }
 },
 "nbformat": 4,
 "nbformat_minor": 2
}

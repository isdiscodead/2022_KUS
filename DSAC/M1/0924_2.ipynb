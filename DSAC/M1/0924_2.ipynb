{
 "cells": [
  {
   "cell_type": "markdown",
   "id": "82b35166",
   "metadata": {},
   "source": [
    "### 조건문 \n",
    "- 조건이 참이라면 이렇게 하겠다라는 것을 표현\n",
    "\n",
    "if  조건1  :\n",
    "    조건 1이 참일때 실행할 문장\n",
    "elif 조건2 :     \n",
    "    조건 2가 참일때 실행할 문장\n",
    "......\n",
    "else :\n",
    "    실행할 문장"
   ]
  },
  {
   "cell_type": "code",
   "execution_count": null,
   "id": "04f8a8a9",
   "metadata": {},
   "outputs": [],
   "source": [
    "## 키보드로 숫자를 입력해서 양수, 음수, 0을 판별하라. \n",
    "a=input('수?')  ##키보드로부터 특정 값을 입력 받는다. \n",
    "   ## input으로 입력받으면 무조건 문자 취급\n",
    "a=int(a)\n",
    "print(a+5)"
   ]
  },
  {
   "cell_type": "code",
   "execution_count": null,
   "id": "20077118",
   "metadata": {},
   "outputs": [],
   "source": [
    "a=int(input('수?'))\n",
    "if a>0 :\n",
    "    print(\"양수\")\n",
    "elif a==0:    \n",
    "    print('0이다')\n",
    "else:\n",
    "    print('음수')"
   ]
  },
  {
   "cell_type": "code",
   "execution_count": null,
   "id": "31c8ee9d",
   "metadata": {},
   "outputs": [],
   "source": [
    "a=int(input('수?'))\n",
    "if a>0 :\n",
    "    print(\"양수\")\n",
    "elif a==0:    \n",
    "    print('0이다')\n",
    "elif a<0:\n",
    "    print('음수')"
   ]
  },
  {
   "cell_type": "code",
   "execution_count": null,
   "id": "fb33bb33",
   "metadata": {},
   "outputs": [],
   "source": [
    "## 키보드로 숫자를 입력해서 짝수, 홀수를 판별하라. \n",
    "no=int(input())\n",
    "if no%2 == 0 :\n",
    "    print(no, \"=> 짝수\")\n",
    "else:\n",
    "    print(no, \"=> 홀수\")"
   ]
  },
  {
   "cell_type": "code",
   "execution_count": 1,
   "id": "2f6bc50d",
   "metadata": {},
   "outputs": [
    {
     "name": "stdout",
     "output_type": "stream",
     "text": [
      "5\n",
      "5 => 홀수\n"
     ]
    }
   ],
   "source": [
    "no=int(input())\n",
    "if no%2 != 0 :\n",
    "    print(no, \"=> 홀수\")\n",
    "    print('들여쓰기가 됨')\n",
    "    print('또 들여쓰기가 됨')\n",
    "else:\n",
    "    print(no, \"=> 짝수\")"
   ]
  },
  {
   "cell_type": "markdown",
   "id": "376bc8fd",
   "metadata": {},
   "source": [
    "## 반복문\n",
    "\n",
    "for  변수  in  range(시작값, 종료값, 증감값):\n",
    "     실행할문장"
   ]
  },
  {
   "cell_type": "code",
   "execution_count": 13,
   "id": "6d2edc7f",
   "metadata": {},
   "outputs": [
    {
     "name": "stdout",
     "output_type": "stream",
     "text": [
      "0회 \t반복1회 \t반복2회 \t반복3회 \t반복4회 \t반복5회 \t반복6회 \t반복7회 \t반복8회 \t반복9회 \t반복끝\n"
     ]
    }
   ],
   "source": [
    "for i in range(0, 10, 1):\n",
    "    print(i, end='')\n",
    "    print(\"회\",\"\\t\", end='')\n",
    "    print(\"반복\",end='')\n",
    "print(\"끝\")"
   ]
  },
  {
   "cell_type": "code",
   "execution_count": 6,
   "id": "d7d69168",
   "metadata": {},
   "outputs": [
    {
     "name": "stdout",
     "output_type": "stream",
     "text": [
      "0123456789"
     ]
    }
   ],
   "source": [
    "for i in range(10):  ## 시작값을 생략 0, 증감값 1로 인식\n",
    "    print(i, end='')"
   ]
  },
  {
   "cell_type": "code",
   "execution_count": 7,
   "id": "725ecc54",
   "metadata": {},
   "outputs": [
    {
     "name": "stdout",
     "output_type": "stream",
     "text": [
      "02468"
     ]
    }
   ],
   "source": [
    "for i in range(0, 10, 2):\n",
    "    print(i,end='')"
   ]
  },
  {
   "cell_type": "code",
   "execution_count": 9,
   "id": "64fb41d2",
   "metadata": {},
   "outputs": [
    {
     "name": "stdout",
     "output_type": "stream",
     "text": [
      "108642"
     ]
    }
   ],
   "source": [
    "for i in range(10, 0, -2):\n",
    "    print(i, end='')"
   ]
  },
  {
   "cell_type": "code",
   "execution_count": 15,
   "id": "11cab923",
   "metadata": {},
   "outputs": [
    {
     "name": "stdout",
     "output_type": "stream",
     "text": [
      "수?5.3\n",
      "5.3\n"
     ]
    }
   ],
   "source": [
    "a=float(input('수?'))\n",
    "print(a)"
   ]
  },
  {
   "cell_type": "code",
   "execution_count": 16,
   "id": "52481373",
   "metadata": {},
   "outputs": [
    {
     "name": "stdout",
     "output_type": "stream",
     "text": [
      "수?5.3\n"
     ]
    },
    {
     "ename": "ValueError",
     "evalue": "invalid literal for int() with base 10: '5.3'",
     "output_type": "error",
     "traceback": [
      "\u001b[1;31m---------------------------------------------------------------------------\u001b[0m",
      "\u001b[1;31mValueError\u001b[0m                                Traceback (most recent call last)",
      "\u001b[1;32m<ipython-input-16-09da585cfcb5>\u001b[0m in \u001b[0;36m<module>\u001b[1;34m\u001b[0m\n\u001b[1;32m----> 1\u001b[1;33m \u001b[0ma\u001b[0m\u001b[1;33m=\u001b[0m\u001b[0mint\u001b[0m\u001b[1;33m(\u001b[0m\u001b[0minput\u001b[0m\u001b[1;33m(\u001b[0m\u001b[1;34m'수?'\u001b[0m\u001b[1;33m)\u001b[0m\u001b[1;33m)\u001b[0m\u001b[1;33m\u001b[0m\u001b[1;33m\u001b[0m\u001b[0m\n\u001b[0m\u001b[0;32m      2\u001b[0m \u001b[0mprint\u001b[0m\u001b[1;33m(\u001b[0m\u001b[0ma\u001b[0m\u001b[1;33m)\u001b[0m\u001b[1;33m\u001b[0m\u001b[1;33m\u001b[0m\u001b[0m\n",
      "\u001b[1;31mValueError\u001b[0m: invalid literal for int() with base 10: '5.3'"
     ]
    }
   ],
   "source": [
    "a=int(input('수?'))\n",
    "print(a)"
   ]
  },
  {
   "cell_type": "markdown",
   "id": "9d417920",
   "metadata": {},
   "source": [
    "### 함수 : 특정한 일을 하는 묶음\n",
    "- 함수 정의(1번) -> 사용(n번)"
   ]
  },
  {
   "cell_type": "code",
   "execution_count": 17,
   "id": "955fa7f8",
   "metadata": {},
   "outputs": [],
   "source": [
    "def abc():\n",
    "    for i in range(1, 4, 1):\n",
    "        print(\"함수\", i)"
   ]
  },
  {
   "cell_type": "code",
   "execution_count": 18,
   "id": "b5a5df42",
   "metadata": {},
   "outputs": [],
   "source": [
    "def abc2(a,b):  ## a,b : 매개변수, 파라미터\n",
    "    c=a+b\n",
    "    print(a,b,c)"
   ]
  },
  {
   "cell_type": "code",
   "execution_count": 19,
   "id": "c5076162",
   "metadata": {},
   "outputs": [],
   "source": [
    "def abc3(a,b):\n",
    "    c=a+b\n",
    "    return c   ##  return 현재 함수를 부른곳에 c값을 넘겨주기"
   ]
  },
  {
   "cell_type": "code",
   "execution_count": 20,
   "id": "d89b88f7",
   "metadata": {},
   "outputs": [
    {
     "name": "stdout",
     "output_type": "stream",
     "text": [
      "함수 1\n",
      "함수 2\n",
      "함수 3\n"
     ]
    }
   ],
   "source": [
    "abc()"
   ]
  },
  {
   "cell_type": "code",
   "execution_count": 21,
   "id": "58f20eaf",
   "metadata": {},
   "outputs": [
    {
     "name": "stdout",
     "output_type": "stream",
     "text": [
      "함수 1\n",
      "함수 2\n",
      "함수 3\n",
      "함수 1\n",
      "함수 2\n",
      "함수 3\n",
      "함수 1\n",
      "함수 2\n",
      "함수 3\n",
      "함수 1\n",
      "함수 2\n",
      "함수 3\n",
      "함수 1\n",
      "함수 2\n",
      "함수 3\n"
     ]
    }
   ],
   "source": [
    "for _ in range(5):\n",
    "    abc()"
   ]
  },
  {
   "cell_type": "code",
   "execution_count": 22,
   "id": "97e68cfb",
   "metadata": {},
   "outputs": [
    {
     "name": "stdout",
     "output_type": "stream",
     "text": [
      "4 6 10\n"
     ]
    }
   ],
   "source": [
    "abc2(4, 6)"
   ]
  },
  {
   "cell_type": "code",
   "execution_count": 23,
   "id": "eecee2bb",
   "metadata": {},
   "outputs": [
    {
     "name": "stdout",
     "output_type": "stream",
     "text": [
      "4.2 6.5 10.7\n"
     ]
    }
   ],
   "source": [
    "abc2(4.2, 6.5)"
   ]
  },
  {
   "cell_type": "code",
   "execution_count": 24,
   "id": "e5362d41",
   "metadata": {},
   "outputs": [
    {
     "data": {
      "text/plain": [
       "10"
      ]
     },
     "execution_count": 24,
     "metadata": {},
     "output_type": "execute_result"
    }
   ],
   "source": [
    "abc3(4, 6)"
   ]
  },
  {
   "cell_type": "code",
   "execution_count": 25,
   "id": "18440440",
   "metadata": {},
   "outputs": [
    {
     "name": "stdout",
     "output_type": "stream",
     "text": [
      "함수 호출전 5\n",
      "함수안 10 30 40\n",
      "함수 호출후 5\n"
     ]
    }
   ],
   "source": [
    "a=5  ## 전역변수\n",
    "\n",
    "def abc4(d,b):  ## () 매개변수\n",
    "    a=10        ## 지역변수 : 함수안에 있는 변수 \n",
    "    c=a+b\n",
    "    print(\"함수안\", a,b,c)  ## 지역변수\n",
    "\n",
    "print(\"함수 호출전\",a)  ## 전역변수\n",
    "abc4(20,30)\n",
    "print(\"함수 호출후\",a)  ## 전역변수"
   ]
  },
  {
   "cell_type": "code",
   "execution_count": 30,
   "id": "5ee5e318",
   "metadata": {},
   "outputs": [
    {
     "name": "stdout",
     "output_type": "stream",
     "text": [
      "함수 호출전 5\n",
      "함수안 10 30 40\n",
      "함수 호출후 10\n"
     ]
    }
   ],
   "source": [
    "a=5  ## 전역변수\n",
    "\n",
    "def abc4(d,b):  ## 매개변수\n",
    "    global a \n",
    "      ## 전역변수를 함수안에서 지역이 아닌 전역변수로 원할때\n",
    "    a=10\n",
    "    c=a+b\n",
    "    print(\"함수안\", a,b,c)  ## 지역변수\n",
    "\n",
    "print(\"함수 호출전\",a)  ## 전역변수\n",
    "abc4(20,30)\n",
    "print(\"함수 호출후\",a)  ## 전역변수"
   ]
  },
  {
   "cell_type": "code",
   "execution_count": 31,
   "id": "f46697a6",
   "metadata": {
    "scrolled": true
   },
   "outputs": [
    {
     "ename": "TypeError",
     "evalue": "abc4() missing 2 required positional arguments: 'd' and 'b'",
     "output_type": "error",
     "traceback": [
      "\u001b[1;31m---------------------------------------------------------------------------\u001b[0m",
      "\u001b[1;31mTypeError\u001b[0m                                 Traceback (most recent call last)",
      "\u001b[1;32m<ipython-input-31-80ac25a9656d>\u001b[0m in \u001b[0;36m<module>\u001b[1;34m\u001b[0m\n\u001b[1;32m----> 1\u001b[1;33m \u001b[0mabc4\u001b[0m\u001b[1;33m(\u001b[0m\u001b[1;33m)\u001b[0m\u001b[1;33m\u001b[0m\u001b[1;33m\u001b[0m\u001b[0m\n\u001b[0m",
      "\u001b[1;31mTypeError\u001b[0m: abc4() missing 2 required positional arguments: 'd' and 'b'"
     ]
    }
   ],
   "source": [
    "abc4()  ## 함수 호출은 정의된것과 동일하게 호출"
   ]
  },
  {
   "cell_type": "code",
   "execution_count": 32,
   "id": "d9c184ad",
   "metadata": {},
   "outputs": [],
   "source": [
    "def abc5(no=2, no2=3, no4=1):\n",
    "    ## 디폴트 함수 -> 매개변수에 초기값을 넣음\n",
    "    print(no, no2, no4)"
   ]
  },
  {
   "cell_type": "code",
   "execution_count": 33,
   "id": "232bc527",
   "metadata": {},
   "outputs": [
    {
     "name": "stdout",
     "output_type": "stream",
     "text": [
      "2 3 1\n"
     ]
    }
   ],
   "source": [
    "abc5()  ## 자동으로 초기값이 인식"
   ]
  },
  {
   "cell_type": "code",
   "execution_count": 34,
   "id": "d5b7e171",
   "metadata": {},
   "outputs": [
    {
     "name": "stdout",
     "output_type": "stream",
     "text": [
      "4 9 12\n"
     ]
    }
   ],
   "source": [
    "abc5(4, 9, 12)"
   ]
  },
  {
   "cell_type": "code",
   "execution_count": 37,
   "id": "8aaf0f92",
   "metadata": {},
   "outputs": [],
   "source": [
    "def abc6(no3, no=2, no2=3):\n",
    "    print(no, no2, no3)"
   ]
  },
  {
   "cell_type": "code",
   "execution_count": 38,
   "id": "a4674cac",
   "metadata": {},
   "outputs": [
    {
     "name": "stdout",
     "output_type": "stream",
     "text": [
      "2 3 100\n"
     ]
    }
   ],
   "source": [
    "abc6(100)"
   ]
  },
  {
   "cell_type": "code",
   "execution_count": 35,
   "id": "b45ce0dc",
   "metadata": {},
   "outputs": [
    {
     "ename": "SyntaxError",
     "evalue": "non-default argument follows default argument (<ipython-input-35-e0d360cdf6bf>, line 1)",
     "output_type": "error",
     "traceback": [
      "\u001b[1;36m  File \u001b[1;32m\"<ipython-input-35-e0d360cdf6bf>\"\u001b[1;36m, line \u001b[1;32m1\u001b[0m\n\u001b[1;33m    def abc7(no=2, no2, no3=3):\u001b[0m\n\u001b[1;37m             ^\u001b[0m\n\u001b[1;31mSyntaxError\u001b[0m\u001b[1;31m:\u001b[0m non-default argument follows default argument\n"
     ]
    }
   ],
   "source": [
    "def abc7(no=2, no2, no3=3): \n",
    "    ## 매개변수 사이에 디폴트 생략시 안 됨\n",
    "    print(no, no2, no3)"
   ]
  },
  {
   "cell_type": "code",
   "execution_count": null,
   "id": "e8cb8f5e",
   "metadata": {},
   "outputs": [],
   "source": []
  }
 ],
 "metadata": {
  "kernelspec": {
   "display_name": "Python 3",
   "language": "python",
   "name": "python3"
  },
  "language_info": {
   "codemirror_mode": {
    "name": "ipython",
    "version": 3
   },
   "file_extension": ".py",
   "mimetype": "text/x-python",
   "name": "python",
   "nbconvert_exporter": "python",
   "pygments_lexer": "ipython3",
   "version": "3.8.8"
  }
 },
 "nbformat": 4,
 "nbformat_minor": 5
}

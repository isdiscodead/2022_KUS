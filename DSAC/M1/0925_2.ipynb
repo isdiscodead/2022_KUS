{
 "cells": [
  {
   "cell_type": "code",
   "execution_count": 1,
   "id": "fdae9b96",
   "metadata": {},
   "outputs": [],
   "source": [
    "import math"
   ]
  },
  {
   "cell_type": "code",
   "execution_count": 2,
   "id": "60435412",
   "metadata": {},
   "outputs": [
    {
     "data": {
      "text/plain": [
       "0.5253219888177297"
      ]
     },
     "execution_count": 2,
     "metadata": {},
     "output_type": "execute_result"
    }
   ],
   "source": [
    "math.cos(45)"
   ]
  },
  {
   "cell_type": "code",
   "execution_count": 3,
   "id": "44fd90a2",
   "metadata": {},
   "outputs": [
    {
     "data": {
      "text/plain": [
       "1024.0"
      ]
     },
     "execution_count": 3,
     "metadata": {},
     "output_type": "execute_result"
    }
   ],
   "source": [
    "math.pow(2,10)"
   ]
  },
  {
   "cell_type": "code",
   "execution_count": 4,
   "id": "5359a170",
   "metadata": {},
   "outputs": [],
   "source": [
    "import random"
   ]
  },
  {
   "cell_type": "code",
   "execution_count": 5,
   "id": "75ad5165",
   "metadata": {},
   "outputs": [
    {
     "data": {
      "text/plain": [
       "0.4512845582273435"
      ]
     },
     "execution_count": 5,
     "metadata": {},
     "output_type": "execute_result"
    }
   ],
   "source": [
    "random.random()"
   ]
  },
  {
   "cell_type": "code",
   "execution_count": 6,
   "id": "a9e96397",
   "metadata": {},
   "outputs": [],
   "source": [
    "import random  as r"
   ]
  },
  {
   "cell_type": "code",
   "execution_count": 7,
   "id": "c46faebf",
   "metadata": {},
   "outputs": [
    {
     "data": {
      "text/plain": [
       "0.5373471690031552"
      ]
     },
     "execution_count": 7,
     "metadata": {},
     "output_type": "execute_result"
    }
   ],
   "source": [
    "r.random()  ##0~1사이의 무작위 값"
   ]
  },
  {
   "cell_type": "code",
   "execution_count": 8,
   "id": "2abf48e8",
   "metadata": {},
   "outputs": [
    {
     "name": "stdout",
     "output_type": "stream",
     "text": [
      "3020243133"
     ]
    }
   ],
   "source": [
    "for _ in range(10):\n",
    "    print(r.randrange(5), end='')  ##0~4까지"
   ]
  },
  {
   "cell_type": "code",
   "execution_count": 9,
   "id": "bf511d60",
   "metadata": {},
   "outputs": [
    {
     "name": "stdout",
     "output_type": "stream",
     "text": [
      "6646362364"
     ]
    }
   ],
   "source": [
    "for _ in range(10):\n",
    "    print(r.randrange(2, 7), end='')  ##2~6까지"
   ]
  },
  {
   "cell_type": "code",
   "execution_count": 10,
   "id": "fb120a6e",
   "metadata": {},
   "outputs": [
    {
     "name": "stdout",
     "output_type": "stream",
     "text": [
      "2273472563"
     ]
    }
   ],
   "source": [
    "for _ in range(10):\n",
    "    print(r.randint(2, 7), end='')  ##2~7까지"
   ]
  },
  {
   "cell_type": "code",
   "execution_count": 11,
   "id": "2629289c",
   "metadata": {},
   "outputs": [
    {
     "name": "stdout",
     "output_type": "stream",
     "text": [
      "[8, 5, 7, 2.5, 2, 5, 9, 7]\n",
      "[2.5, 5, 9, 7, 8, 2, 5, 7]\n",
      "[8, 2, 5, 7, 5, 7, 9, 2.5]\n",
      "[5, 8, 7, 5, 7, 9, 2.5, 2]\n",
      "[9, 5, 2.5, 2, 8, 5, 7, 7]\n",
      "끝\n"
     ]
    }
   ],
   "source": [
    "a=[5,7,2,5,7,2.5, 9,8]\n",
    "for _ in range(5):\n",
    "    r.shuffle(a)  ## a리스트의 값들을 무작위로 섞기\n",
    "    print(a)\n",
    "print(\"끝\")    "
   ]
  },
  {
   "cell_type": "code",
   "execution_count": 12,
   "id": "6330f2aa",
   "metadata": {},
   "outputs": [
    {
     "data": {
      "text/plain": [
       "5"
      ]
     },
     "execution_count": 12,
     "metadata": {},
     "output_type": "execute_result"
    }
   ],
   "source": [
    "r.choice(a)  ## 무작위로 임의값을 1개 추출"
   ]
  },
  {
   "cell_type": "markdown",
   "id": "99e8e8d9",
   "metadata": {},
   "source": [
    "##### List 단점\n",
    "- 수로만 구성되어도 수가 아닌 단순한 값의 나열로 취급\n",
    "- 숫자 연산이 불가\n",
    "\n",
    "##### 내부(기본) 라이브러리\n",
    "- 별도로 설치X\n",
    "- math, random, turtle....\n",
    "\n",
    "##### 외부 라이브러리\n",
    "- 파이썬의 외부 라이브러리\n",
    "- 설치 : pip~~~\n",
    "- 쥬피터노트북은 설치 x \n",
    "- numpy, pandas, matplotLib....\n",
    "\n",
    "## Numpy\n",
    "- 수로 구성 : 배열로 해석\n",
    "- 1차원 ~~ n차원 : 행과 열이 구성\n",
    "- 리스트랑 비슷\n",
    "- 다른점 : 수학적 계산\n",
    "- 인덱싱, 슬라이싱\n",
    "- 배열값 : 행 전체가 다른 행이랑 변경이 되거나, \n",
    "-          열이 다른 열이랑 변경이 되어도 배열값은 변하지 않고 배열값은 동일"
   ]
  },
  {
   "cell_type": "code",
   "execution_count": 13,
   "id": "763837a0",
   "metadata": {},
   "outputs": [],
   "source": [
    "import numpy as np"
   ]
  },
  {
   "cell_type": "code",
   "execution_count": 14,
   "id": "4b555e8c",
   "metadata": {},
   "outputs": [
    {
     "name": "stdout",
     "output_type": "stream",
     "text": [
      "[1, 2, 10, 1, 2, 10, 1, 2, 10]\n"
     ]
    }
   ],
   "source": [
    "list = [1, 2, 10]  ## 리스트\n",
    "print(list * 3)    ## 연산 불가 - 3번 반복 출력"
   ]
  },
  {
   "cell_type": "code",
   "execution_count": 15,
   "id": "64c39ac6",
   "metadata": {},
   "outputs": [
    {
     "name": "stdout",
     "output_type": "stream",
     "text": [
      "[ 3  6 30]\n",
      "[101 102 110]\n",
      "(3,)\n",
      "3\n",
      "1\n",
      "int32\n"
     ]
    }
   ],
   "source": [
    "arr = np.array(list)  ##numpy 연산이 가능한 배열\n",
    "print(arr * 3)\n",
    "print(arr + 100)\n",
    "print(arr.shape)\n",
    "print(arr.size)\n",
    "print(arr.ndim)\n",
    "print(arr.dtype)"
   ]
  },
  {
   "cell_type": "code",
   "execution_count": 16,
   "id": "aaea31b9",
   "metadata": {},
   "outputs": [
    {
     "data": {
      "text/plain": [
       "(float, int)"
      ]
     },
     "execution_count": 16,
     "metadata": {},
     "output_type": "execute_result"
    }
   ],
   "source": [
    "a=5.0\n",
    "b=4\n",
    "type(a), type(b)"
   ]
  },
  {
   "cell_type": "code",
   "execution_count": 17,
   "id": "7cb1543e",
   "metadata": {},
   "outputs": [
    {
     "name": "stdout",
     "output_type": "stream",
     "text": [
      "[[1, 2, 3], [4, 5, 6], [7, 8, 9], [5, 6, 4], [1, 2, 3], [4, 5, 6], [7, 8, 9]]\n",
      "[[1, 2, 3], [4, 5, 6], [7, 8, 9], [5, 6, 4]]\n"
     ]
    },
    {
     "data": {
      "text/plain": [
       "list"
      ]
     },
     "execution_count": 17,
     "metadata": {},
     "output_type": "execute_result"
    }
   ],
   "source": [
    "data = [   [1,2,3],   [4,5,6],  [7,8,9], [5,6,4]  ]\n",
    "data2 = [   [1,2,3],   [4,5,6],  [7,8,9]  ]\n",
    "print(data+data2)\n",
    "print(data)\n",
    "type(data)  ##type : 데이터형"
   ]
  },
  {
   "cell_type": "code",
   "execution_count": 18,
   "id": "a5610ec7",
   "metadata": {},
   "outputs": [
    {
     "name": "stdout",
     "output_type": "stream",
     "text": [
      "[[1 2 3]\n",
      " [4 5 6]\n",
      " [7 8 9]\n",
      " [5 6 4]]\n"
     ]
    },
    {
     "data": {
      "text/plain": [
       "numpy.ndarray"
      ]
     },
     "execution_count": 18,
     "metadata": {},
     "output_type": "execute_result"
    }
   ],
   "source": [
    "arr = np.array(data) ## 맨앞뒤에 []로 나오는 것은 그냥 그 자체가 배열 의미\n",
    "  ## 안쪽의 []는 행을 의미\n",
    "print(arr)\n",
    "type(arr)"
   ]
  },
  {
   "cell_type": "code",
   "execution_count": 19,
   "id": "c1396b65",
   "metadata": {},
   "outputs": [
    {
     "data": {
      "text/plain": [
       "array([[ 2,  4,  6],\n",
       "       [ 8, 10, 12],\n",
       "       [14, 16, 18],\n",
       "       [10, 12,  8]])"
      ]
     },
     "execution_count": 19,
     "metadata": {},
     "output_type": "execute_result"
    }
   ],
   "source": [
    "arr2 = np.array(data)\n",
    "arr3 = arr+arr2\n",
    "arr3"
   ]
  },
  {
   "cell_type": "code",
   "execution_count": 20,
   "id": "c0237395",
   "metadata": {},
   "outputs": [
    {
     "data": {
      "text/plain": [
       "dtype('int32')"
      ]
     },
     "execution_count": 20,
     "metadata": {},
     "output_type": "execute_result"
    }
   ],
   "source": [
    "arr.dtype"
   ]
  },
  {
   "cell_type": "code",
   "execution_count": 21,
   "id": "94a76706",
   "metadata": {},
   "outputs": [
    {
     "data": {
      "text/plain": [
       "(4, 3)"
      ]
     },
     "execution_count": 21,
     "metadata": {},
     "output_type": "execute_result"
    }
   ],
   "source": [
    "arr.shape  ## ?행 ?열인지?"
   ]
  },
  {
   "cell_type": "code",
   "execution_count": 22,
   "id": "caf6b2fa",
   "metadata": {},
   "outputs": [
    {
     "data": {
      "text/plain": [
       "2"
      ]
     },
     "execution_count": 22,
     "metadata": {},
     "output_type": "execute_result"
    }
   ],
   "source": [
    "arr.ndim"
   ]
  },
  {
   "cell_type": "code",
   "execution_count": 23,
   "id": "89f648d4",
   "metadata": {},
   "outputs": [
    {
     "data": {
      "text/plain": [
       "12"
      ]
     },
     "execution_count": 23,
     "metadata": {},
     "output_type": "execute_result"
    }
   ],
   "source": [
    "arr.size"
   ]
  },
  {
   "cell_type": "code",
   "execution_count": 24,
   "id": "e09e01f8",
   "metadata": {},
   "outputs": [
    {
     "data": {
      "text/plain": [
       "4"
      ]
     },
     "execution_count": 24,
     "metadata": {},
     "output_type": "execute_result"
    }
   ],
   "source": [
    "arr.itemsize"
   ]
  },
  {
   "cell_type": "code",
   "execution_count": 25,
   "id": "a3f2f04d",
   "metadata": {},
   "outputs": [
    {
     "data": {
      "text/plain": [
       "<memory at 0x0000022242BF46C0>"
      ]
     },
     "execution_count": 25,
     "metadata": {},
     "output_type": "execute_result"
    }
   ],
   "source": [
    "arr.data"
   ]
  },
  {
   "cell_type": "code",
   "execution_count": 26,
   "id": "bc666426",
   "metadata": {},
   "outputs": [
    {
     "name": "stdout",
     "output_type": "stream",
     "text": [
      "[1 2 3]\n",
      "[[1 2 3 4]\n",
      " [5 6 7 8]]\n"
     ]
    }
   ],
   "source": [
    "a1=np.array([1,2,3])\n",
    "a2=np.array([ [1,2,3,4], [5, 6, 7, 8] ])\n",
    "print(a1)\n",
    "print(a2)"
   ]
  },
  {
   "cell_type": "code",
   "execution_count": 27,
   "id": "c12addfc",
   "metadata": {},
   "outputs": [
    {
     "data": {
      "text/plain": [
       "3"
      ]
     },
     "execution_count": 27,
     "metadata": {},
     "output_type": "execute_result"
    }
   ],
   "source": [
    "a1[2]"
   ]
  },
  {
   "cell_type": "code",
   "execution_count": 28,
   "id": "dd7886a0",
   "metadata": {},
   "outputs": [
    {
     "data": {
      "text/plain": [
       "(1, 1)"
      ]
     },
     "execution_count": 28,
     "metadata": {},
     "output_type": "execute_result"
    }
   ],
   "source": [
    "a2[0,0], a2[0][0]"
   ]
  },
  {
   "cell_type": "markdown",
   "id": "0dfc5ab4",
   "metadata": {},
   "source": [
    "a2[ ,2]   ## 모든 행의 2열만 나오라는 것\n",
    "- 행 생략으로 인해 문법적 오류"
   ]
  },
  {
   "cell_type": "code",
   "execution_count": 29,
   "id": "3b1f72be",
   "metadata": {},
   "outputs": [
    {
     "data": {
      "text/plain": [
       "array([3, 7])"
      ]
     },
     "execution_count": 29,
     "metadata": {},
     "output_type": "execute_result"
    }
   ],
   "source": [
    "a2[ : , 2]"
   ]
  },
  {
   "cell_type": "code",
   "execution_count": 30,
   "id": "5beefd85",
   "metadata": {},
   "outputs": [
    {
     "data": {
      "text/plain": [
       "array([5, 6, 7, 8])"
      ]
     },
     "execution_count": 30,
     "metadata": {},
     "output_type": "execute_result"
    }
   ],
   "source": [
    "a2[1,]"
   ]
  },
  {
   "cell_type": "code",
   "execution_count": 31,
   "id": "db286bdc",
   "metadata": {},
   "outputs": [
    {
     "data": {
      "text/plain": [
       "array([[5, 6]])"
      ]
     },
     "execution_count": 31,
     "metadata": {},
     "output_type": "execute_result"
    }
   ],
   "source": [
    "a2[1: , :2]  ## 1행부터 마지막행까지\n",
    "             ## 0열부터 1열까지   겹치는 부분 출력"
   ]
  },
  {
   "cell_type": "code",
   "execution_count": 32,
   "id": "9dde54f8",
   "metadata": {},
   "outputs": [
    {
     "data": {
      "text/plain": [
       "array([[0., 0., 0.],\n",
       "       [0., 0., 0.]])"
      ]
     },
     "execution_count": 32,
     "metadata": {},
     "output_type": "execute_result"
    }
   ],
   "source": [
    "np.zeros((2,3))\n",
    "## 파이썬의 기본은 실수형으로 처리"
   ]
  },
  {
   "cell_type": "code",
   "execution_count": 33,
   "id": "555aeaf5",
   "metadata": {},
   "outputs": [
    {
     "data": {
      "text/plain": [
       "array([[1., 1., 1.],\n",
       "       [1., 1., 1.]])"
      ]
     },
     "execution_count": 33,
     "metadata": {},
     "output_type": "execute_result"
    }
   ],
   "source": [
    "np.ones((2,3))"
   ]
  },
  {
   "cell_type": "code",
   "execution_count": 34,
   "id": "f8ede89e",
   "metadata": {},
   "outputs": [
    {
     "name": "stdout",
     "output_type": "stream",
     "text": [
      "<class 'range'>\n"
     ]
    },
    {
     "data": {
      "text/plain": [
       "range(0, 5)"
      ]
     },
     "execution_count": 34,
     "metadata": {},
     "output_type": "execute_result"
    }
   ],
   "source": [
    "x = range(5)   ## 범위\n",
    "print(type(x)) \n",
    "x  "
   ]
  },
  {
   "cell_type": "code",
   "execution_count": 35,
   "id": "be01009f",
   "metadata": {},
   "outputs": [
    {
     "name": "stdout",
     "output_type": "stream",
     "text": [
      "<class 'numpy.ndarray'>\n"
     ]
    },
    {
     "data": {
      "text/plain": [
       "array([0, 1, 2, 3, 4])"
      ]
     },
     "execution_count": 35,
     "metadata": {},
     "output_type": "execute_result"
    }
   ],
   "source": [
    "y = np.arange(5)  ##넘파이가 제공하는 값의 배열\n",
    "print(type(y)) ; y"
   ]
  },
  {
   "cell_type": "code",
   "execution_count": 36,
   "id": "83856014",
   "metadata": {},
   "outputs": [
    {
     "data": {
      "text/plain": [
       "array([0., 1., 2., 3., 4.], dtype=float32)"
      ]
     },
     "execution_count": 36,
     "metadata": {},
     "output_type": "execute_result"
    }
   ],
   "source": [
    "z = y.astype(np.float32) ; z    # astype : 데이터형식을 변경"
   ]
  },
  {
   "cell_type": "code",
   "execution_count": 37,
   "id": "61b7c7ff",
   "metadata": {},
   "outputs": [
    {
     "data": {
      "text/plain": [
       "array([[ 0,  1,  2],\n",
       "       [ 3,  4,  5],\n",
       "       [ 6,  7,  8],\n",
       "       [ 9, 10, 11]])"
      ]
     },
     "execution_count": 37,
     "metadata": {},
     "output_type": "execute_result"
    }
   ],
   "source": [
    "data = np.arange(12).reshape(4, 3)\n",
    "# np.arange(12)  <- 1차원배열\n",
    "# reshape(4,3)   <-4행 3열로 배열 모양 변경\n",
    "data  ##print 생략시 변수가 가지고 있는 값을 그대로 출력"
   ]
  },
  {
   "cell_type": "code",
   "execution_count": 38,
   "id": "ff687498",
   "metadata": {},
   "outputs": [
    {
     "data": {
      "text/plain": [
       "numpy.ndarray"
      ]
     },
     "execution_count": 38,
     "metadata": {},
     "output_type": "execute_result"
    }
   ],
   "source": [
    "type(data)"
   ]
  },
  {
   "cell_type": "code",
   "execution_count": 39,
   "id": "1982d83e",
   "metadata": {},
   "outputs": [
    {
     "data": {
      "text/plain": [
       "array([[False, False, False],\n",
       "       [False, False, False],\n",
       "       [ True,  True,  True],\n",
       "       [ True,  True,  True]])"
      ]
     },
     "execution_count": 39,
     "metadata": {},
     "output_type": "execute_result"
    }
   ],
   "source": [
    "data > 5  ## data 배열의 원소중 5보다 크면 true, 그 외는 false"
   ]
  },
  {
   "cell_type": "code",
   "execution_count": 40,
   "id": "1b144855",
   "metadata": {},
   "outputs": [
    {
     "data": {
      "text/plain": [
       "array([[0, 1, 2],\n",
       "       [3, 4, 5],\n",
       "       [7, 7, 7],\n",
       "       [7, 7, 7]])"
      ]
     },
     "execution_count": 40,
     "metadata": {},
     "output_type": "execute_result"
    }
   ],
   "source": [
    "data[data > 5] = 7   ## data배열의 True값을 가지는 원소를 7로 배정\n",
    "data"
   ]
  },
  {
   "cell_type": "code",
   "execution_count": 41,
   "id": "fe76a69e",
   "metadata": {},
   "outputs": [
    {
     "data": {
      "text/plain": [
       "array([[ 0,  1,  2],\n",
       "       [ 3,  4,  5],\n",
       "       [ 6,  7,  8],\n",
       "       [ 9, 10, 11]])"
      ]
     },
     "execution_count": 41,
     "metadata": {},
     "output_type": "execute_result"
    }
   ],
   "source": [
    "data = np.arange(12).reshape(4, 3)\n",
    "data "
   ]
  },
  {
   "cell_type": "code",
   "execution_count": 42,
   "id": "fa6583ae",
   "metadata": {},
   "outputs": [
    {
     "data": {
      "text/plain": [
       "5.5"
      ]
     },
     "execution_count": 42,
     "metadata": {},
     "output_type": "execute_result"
    }
   ],
   "source": [
    "data.mean()"
   ]
  },
  {
   "cell_type": "code",
   "execution_count": 43,
   "id": "830d2c28",
   "metadata": {},
   "outputs": [
    {
     "data": {
      "text/plain": [
       "array([ 1.,  4.,  7., 10.])"
      ]
     },
     "execution_count": 43,
     "metadata": {},
     "output_type": "execute_result"
    }
   ],
   "source": [
    "data.mean(axis=1)  ## 행단위 평균을 계산"
   ]
  },
  {
   "cell_type": "code",
   "execution_count": 44,
   "id": "c379ab8d",
   "metadata": {},
   "outputs": [
    {
     "data": {
      "text/plain": [
       "array([4.5, 5.5, 6.5])"
      ]
     },
     "execution_count": 44,
     "metadata": {},
     "output_type": "execute_result"
    }
   ],
   "source": [
    "data.mean(axis=0) ## 열단위 평균을 계산"
   ]
  },
  {
   "cell_type": "code",
   "execution_count": 45,
   "id": "84e13a0e",
   "metadata": {},
   "outputs": [
    {
     "data": {
      "text/plain": [
       "array([0, 1, 2])"
      ]
     },
     "execution_count": 45,
     "metadata": {},
     "output_type": "execute_result"
    }
   ],
   "source": [
    "data[0]"
   ]
  },
  {
   "cell_type": "code",
   "execution_count": 46,
   "id": "c9094c0a",
   "metadata": {},
   "outputs": [
    {
     "data": {
      "text/plain": [
       "array([[0, 1, 2]])"
      ]
     },
     "execution_count": 46,
     "metadata": {},
     "output_type": "execute_result"
    }
   ],
   "source": [
    "data[  [0]   ]"
   ]
  },
  {
   "cell_type": "code",
   "execution_count": 47,
   "id": "d890d2fe",
   "metadata": {},
   "outputs": [
    {
     "data": {
      "text/plain": [
       "array([[3, 4, 5],\n",
       "       [0, 1, 2]])"
      ]
     },
     "execution_count": 47,
     "metadata": {},
     "output_type": "execute_result"
    }
   ],
   "source": [
    "data[ [1,0] ]"
   ]
  },
  {
   "cell_type": "code",
   "execution_count": 48,
   "id": "a52cb8c4",
   "metadata": {},
   "outputs": [
    {
     "data": {
      "text/plain": [
       "array([[ 9, 10, 11],\n",
       "       [ 6,  7,  8],\n",
       "       [ 0,  1,  2],\n",
       "       [ 3,  4,  5]])"
      ]
     },
     "execution_count": 48,
     "metadata": {},
     "output_type": "execute_result"
    }
   ],
   "source": [
    "data[  [3,2,0,1]  ]"
   ]
  },
  {
   "cell_type": "code",
   "execution_count": 49,
   "id": "6cd43304",
   "metadata": {},
   "outputs": [
    {
     "data": {
      "text/plain": [
       "array([[ 0,  1,  2],\n",
       "       [ 3,  4,  5],\n",
       "       [ 6,  7,  8],\n",
       "       [ 9, 10, 11]])"
      ]
     },
     "execution_count": 49,
     "metadata": {},
     "output_type": "execute_result"
    }
   ],
   "source": [
    "data"
   ]
  },
  {
   "cell_type": "code",
   "execution_count": 50,
   "id": "3f7de7e1",
   "metadata": {},
   "outputs": [
    {
     "data": {
      "text/plain": [
       "array([[11, 10,  9],\n",
       "       [ 8,  7,  6],\n",
       "       [ 5,  4,  3],\n",
       "       [ 2,  1,  0]])"
      ]
     },
     "execution_count": 50,
     "metadata": {},
     "output_type": "execute_result"
    }
   ],
   "source": [
    "data[ [3,2,1,0]  ]   [:,[2,1,0]]"
   ]
  },
  {
   "cell_type": "code",
   "execution_count": 51,
   "id": "6027b490",
   "metadata": {},
   "outputs": [
    {
     "data": {
      "text/plain": [
       "array([[ 0,  3,  6,  9],\n",
       "       [ 1,  4,  7, 10],\n",
       "       [ 2,  5,  8, 11]])"
      ]
     },
     "execution_count": 51,
     "metadata": {},
     "output_type": "execute_result"
    }
   ],
   "source": [
    "data.T   ##전치배열 - 행과열을 변경 : 1행3열  -> 3행1열로 변경"
   ]
  },
  {
   "cell_type": "code",
   "execution_count": 52,
   "id": "c293a37c",
   "metadata": {},
   "outputs": [
    {
     "data": {
      "text/plain": [
       "array([[  5,  14,  23,  32],\n",
       "       [ 14,  50,  86, 122],\n",
       "       [ 23,  86, 149, 212],\n",
       "       [ 32, 122, 212, 302]])"
      ]
     },
     "execution_count": 52,
     "metadata": {},
     "output_type": "execute_result"
    }
   ],
   "source": [
    "np.dot(data,data.T)  ##dot *(행렬 자체 곱)\n",
    "### 수학적인 행렬의 자체 수학적 곱셈.  np.dot함수가 처리"
   ]
  },
  {
   "cell_type": "code",
   "execution_count": 53,
   "id": "3bf6276c",
   "metadata": {},
   "outputs": [
    {
     "name": "stdout",
     "output_type": "stream",
     "text": [
      "[[ 2  4  6]\n",
      " [ 8 10 12]]\n",
      "[[ 1  4  9]\n",
      " [16 25 36]]\n",
      "[[22 28]\n",
      " [49 64]]\n"
     ]
    }
   ],
   "source": [
    "b1=np.array([ [1,2,3], [4, 5, 6] ]) ##2행 3열의 배열\n",
    "b2=np.array([ [1,2,3], [4, 5, 6] ]) ##2행 3열의 배열\n",
    "\n",
    "b3=np.array([ [1,2],   [3,4],     [5, 6] ])  ## 3행 2열\n",
    "\n",
    "print(b1+b2)\n",
    "##  print(b1+b3)   : 행렬의 사칙연산은 크기가 동일해야 함\n",
    "\n",
    "print(b1*b2)\n",
    "\n",
    "### 수학적인 행렬의 곱셈은 정방행렬이거나, \n",
    "## 앞배열의 행의수와 뒷배열의 열의수가 동일해야지 계산이 됨\n",
    "\n",
    "### print(np.dot(b1, b2))  --> 행, 열 크기가 달라서 오류\n",
    "print(np.dot(b1, b3))  ## --> b1은 2행3열 b3는 3행 2열"
   ]
  },
  {
   "cell_type": "code",
   "execution_count": 54,
   "id": "3d30cf45",
   "metadata": {},
   "outputs": [
    {
     "data": {
      "text/plain": [
       "array([1, 3, 5, 7, 9])"
      ]
     },
     "execution_count": 54,
     "metadata": {},
     "output_type": "execute_result"
    }
   ],
   "source": [
    "a=np.arange(1,10,2)\n",
    "a"
   ]
  },
  {
   "cell_type": "code",
   "execution_count": 55,
   "id": "15ba03f1",
   "metadata": {},
   "outputs": [
    {
     "data": {
      "text/plain": [
       "2"
      ]
     },
     "execution_count": 55,
     "metadata": {},
     "output_type": "execute_result"
    }
   ],
   "source": [
    "x = np.array([1,2,3,4,5,6])\n",
    "(x>4).sum()   ##4보다 큰 데이터의 갯수"
   ]
  },
  {
   "cell_type": "code",
   "execution_count": 56,
   "id": "895b4692",
   "metadata": {},
   "outputs": [
    {
     "name": "stdout",
     "output_type": "stream",
     "text": [
      "[[ 0  1  2]\n",
      " [ 3  4  5]\n",
      " [ 6  7  8]\n",
      " [ 9 10 11]]\n",
      "<class 'numpy.ndarray'>\n",
      "<class 'numpy.ndarray'>\n"
     ]
    }
   ],
   "source": [
    "print(data)\n",
    "print(type(data))\n",
    "print(type(x))"
   ]
  },
  {
   "cell_type": "code",
   "execution_count": 58,
   "id": "4c624ed3",
   "metadata": {},
   "outputs": [
    {
     "data": {
      "text/plain": [
       "10"
      ]
     },
     "execution_count": 58,
     "metadata": {},
     "output_type": "execute_result"
    }
   ],
   "source": [
    "(data>1).sum()\n",
    "#- 리스는 합 계산 sum이 안 된다. \n",
    "#- 넘파이 배열은 합 계산 sum이 된다. "
   ]
  },
  {
   "cell_type": "code",
   "execution_count": null,
   "id": "a292820c",
   "metadata": {},
   "outputs": [],
   "source": [
    "(x>4)"
   ]
  },
  {
   "cell_type": "code",
   "execution_count": null,
   "id": "507f28f8",
   "metadata": {},
   "outputs": [],
   "source": [
    "z = np.random.randint(0,100, 10) ## 0~100을 포함한 값 사이의 랜덤값을 10개 추출\n",
    "z"
   ]
  },
  {
   "cell_type": "code",
   "execution_count": null,
   "id": "3f983349",
   "metadata": {},
   "outputs": [],
   "source": [
    "z.sort() ; z"
   ]
  },
  {
   "cell_type": "code",
   "execution_count": null,
   "id": "8649a7b0",
   "metadata": {},
   "outputs": [],
   "source": [
    "np.sort(z) ##오름차순"
   ]
  },
  {
   "cell_type": "code",
   "execution_count": null,
   "id": "8ab638b4",
   "metadata": {},
   "outputs": [],
   "source": [
    "np.sort(z)[::-1] ##내림차순"
   ]
  },
  {
   "cell_type": "code",
   "execution_count": null,
   "id": "99286549",
   "metadata": {},
   "outputs": [],
   "source": [
    "np.random.permutation(z)  ## 넘파이 z 값을 섞기"
   ]
  },
  {
   "cell_type": "code",
   "execution_count": null,
   "id": "eafcff3d",
   "metadata": {},
   "outputs": [],
   "source": [
    "t = np.array([[8,4,11,5],[2,10,7,3],[9,12,1,6]])  ; t"
   ]
  },
  {
   "cell_type": "code",
   "execution_count": null,
   "id": "8d3229e3",
   "metadata": {},
   "outputs": [],
   "source": [
    "t.sort(1) ; t  ## 한개의 행에서 정렬"
   ]
  },
  {
   "cell_type": "code",
   "execution_count": null,
   "id": "28af849c",
   "metadata": {},
   "outputs": [],
   "source": [
    "t.sort(0) ; t  ## 한개의 열에서 정렬"
   ]
  },
  {
   "cell_type": "code",
   "execution_count": null,
   "id": "7df24e47",
   "metadata": {},
   "outputs": [],
   "source": [
    "t.sort() ; t"
   ]
  },
  {
   "cell_type": "markdown",
   "id": "2f11cbdb",
   "metadata": {},
   "source": [
    "-- 문법적으로 안 됨\n",
    "np.linspace(0, 1, 12, size=(3,4))\n",
    "\n",
    "-- 해결\n",
    "q=np.linspace(0, 1, 12)\n",
    "q.reshape(3, 4)"
   ]
  },
  {
   "cell_type": "code",
   "execution_count": null,
   "id": "cf5c7ca4",
   "metadata": {},
   "outputs": [],
   "source": [
    "print(np.linspace(0, 100, 5))  ## 0~100 사이의 균일한 간격으로 5개 추출\n",
    "print(np.linspace(0, 1, 9))  ## 0~1 사이의 균일한 간격으로 5개 추출\n",
    "print(np.linspace(0, 1))\n",
    "q=np.linspace(0, 1, 12)\n",
    "print(q.reshape(3, 4))"
   ]
  },
  {
   "cell_type": "code",
   "execution_count": null,
   "id": "ba2e5c16",
   "metadata": {},
   "outputs": [],
   "source": [
    "print(np.logspace(0, 5, 3))  ##10의0승부터 10의5승 사이의 균일한 간격으로 3개 추출\n",
    "q=np.logspace(0, 4, 6)\n",
    "print(q.reshape(3,2))"
   ]
  },
  {
   "cell_type": "code",
   "execution_count": null,
   "id": "00f80096",
   "metadata": {},
   "outputs": [],
   "source": [
    "np.random.seed(50)  ## 랜덤값을 초기화 - 50번에 해당하는 랜덤값을 받기"
   ]
  },
  {
   "cell_type": "code",
   "execution_count": null,
   "id": "cad98840",
   "metadata": {},
   "outputs": [],
   "source": [
    "np.random.seed(50)\n",
    "for _ in range(3):\n",
    "    print(np.random.rand(5))  ## 0~1사이의 무작위 수를 추출"
   ]
  },
  {
   "cell_type": "code",
   "execution_count": null,
   "id": "6fd75453",
   "metadata": {},
   "outputs": [],
   "source": [
    "for _ in range(3):\n",
    "    print(np.random.randn(5))  \n",
    "    ## -1~1사이의 근처에 평균이 0이고, 표준편차가 1인 무작위 수를 추출\n",
    "np.random.randn(3,4)    "
   ]
  },
  {
   "cell_type": "code",
   "execution_count": null,
   "id": "76146ab4",
   "metadata": {},
   "outputs": [],
   "source": [
    "for _ in range(3):\n",
    "    print(np.random.randint(2, 100, size=(2,3)))"
   ]
  },
  {
   "cell_type": "code",
   "execution_count": null,
   "id": "7a935889",
   "metadata": {},
   "outputs": [],
   "source": []
  }
 ],
 "metadata": {
  "kernelspec": {
   "display_name": "Python 3",
   "language": "python",
   "name": "python3"
  },
  "language_info": {
   "codemirror_mode": {
    "name": "ipython",
    "version": 3
   },
   "file_extension": ".py",
   "mimetype": "text/x-python",
   "name": "python",
   "nbconvert_exporter": "python",
   "pygments_lexer": "ipython3",
   "version": "3.8.8"
  }
 },
 "nbformat": 4,
 "nbformat_minor": 5
}

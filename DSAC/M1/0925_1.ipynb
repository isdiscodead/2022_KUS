{
 "cells": [
  {
   "cell_type": "code",
   "execution_count": 1,
   "id": "a35232e0",
   "metadata": {},
   "outputs": [],
   "source": [
    "# 자료형-정수, 실수, 논리형, 문자, 리스트, 딕셔너리, 튜플 ....\n",
    "a, b, c, d = 5, 2.5, True, \"문자\""
   ]
  },
  {
   "cell_type": "code",
   "execution_count": 2,
   "id": "702c9beb",
   "metadata": {},
   "outputs": [
    {
     "name": "stdout",
     "output_type": "stream",
     "text": [
      "[1]\n",
      "[1, 2]\n",
      "[1, 2, 3]\n",
      "[1, 2, 3, 4]\n",
      "[1, 2, 3, 4, 5]\n",
      "[1, 2, 3, 4, 5, 6]\n",
      "[1, 2, 3, 4, 5, 6, 7]\n",
      "[1, 2, 3, 4, 5, 6, 7, 8]\n",
      "[1, 2, 3, 4, 5, 6, 7, 8, 9]\n",
      "[1, 2, 3, 4, 5, 6, 7, 8, 9, 10]\n"
     ]
    }
   ],
   "source": [
    "## 1~10까지의 값이 있는 List를 만들자\n",
    "f=[]   ## 빈 리스트를 정의\n",
    "for i in range(1, 11, 1):\n",
    "    f.append(i)   ## f리스트에 반복되는 i값을 맨 마지막 위치에 삽입\n",
    "    print(f)"
   ]
  },
  {
   "cell_type": "code",
   "execution_count": 3,
   "id": "6184f402",
   "metadata": {},
   "outputs": [
    {
     "name": "stdout",
     "output_type": "stream",
     "text": [
      "[1]\n",
      "[2, 1]\n",
      "[3, 2, 1]\n",
      "[4, 3, 2, 1]\n",
      "[5, 4, 3, 2, 1]\n",
      "[6, 5, 4, 3, 2, 1]\n",
      "[7, 6, 5, 4, 3, 2, 1]\n",
      "[8, 7, 6, 5, 4, 3, 2, 1]\n",
      "[9, 8, 7, 6, 5, 4, 3, 2, 1]\n",
      "[10, 9, 8, 7, 6, 5, 4, 3, 2, 1]\n"
     ]
    }
   ],
   "source": [
    "g=[]   ## 빈 리스트를 정의\n",
    "for i in range(1, 11, 1):\n",
    "    g.insert(0, i)   ## f리스트에 반복되는 i값을 특정 위치에 삽입\n",
    "    print(g)"
   ]
  },
  {
   "cell_type": "code",
   "execution_count": 4,
   "id": "46acb2a3",
   "metadata": {},
   "outputs": [
    {
     "data": {
      "text/plain": [
       "[1, 2, 3, 4, 5, 10, 7, 8, 9, 10]"
      ]
     },
     "execution_count": 4,
     "metadata": {},
     "output_type": "execute_result"
    }
   ],
   "source": [
    "f[5]=10\n",
    "f"
   ]
  },
  {
   "cell_type": "code",
   "execution_count": 5,
   "id": "797cac39",
   "metadata": {},
   "outputs": [
    {
     "data": {
      "text/plain": [
       "([1, 2, 3], [10, 7, 8, 9, 10], [3, 5, 7], [10, 9, 8, 7, 10, 5, 4, 3, 2, 1])"
      ]
     },
     "execution_count": 5,
     "metadata": {},
     "output_type": "execute_result"
    }
   ],
   "source": [
    "f[:3], f[5:], f[2:8:2], f[::-1]"
   ]
  },
  {
   "cell_type": "code",
   "execution_count": 6,
   "id": "b70f4247",
   "metadata": {},
   "outputs": [
    {
     "data": {
      "text/plain": [
       "[1, 2, 3, 5, 10, 7, 8, 9, 10]"
      ]
     },
     "execution_count": 6,
     "metadata": {},
     "output_type": "execute_result"
    }
   ],
   "source": [
    "del f[3]  ## del 리스트이름[인덱스번호]\n",
    "f"
   ]
  },
  {
   "cell_type": "code",
   "execution_count": 7,
   "id": "31729079",
   "metadata": {},
   "outputs": [
    {
     "data": {
      "text/plain": [
       "[1, 2, 5, 10, 7, 8, 9, 10]"
      ]
     },
     "execution_count": 7,
     "metadata": {},
     "output_type": "execute_result"
    }
   ],
   "source": [
    "f.pop(2)\n",
    "f"
   ]
  },
  {
   "cell_type": "code",
   "execution_count": 8,
   "id": "429b2385",
   "metadata": {},
   "outputs": [
    {
     "data": {
      "text/plain": [
       "[1, 2, 5, 7, 8, 10]"
      ]
     },
     "execution_count": 8,
     "metadata": {},
     "output_type": "execute_result"
    }
   ],
   "source": [
    "f.remove(9)   ## 위치와 상관없이 데이터 삭제\n",
    "f.remove(10)  ## 만약 데이터가 중복된다면 앞쪽 중복 데이터 1개만 삭제\n",
    "f"
   ]
  },
  {
   "cell_type": "code",
   "execution_count": 9,
   "id": "891afee4",
   "metadata": {},
   "outputs": [
    {
     "name": "stdout",
     "output_type": "stream",
     "text": [
      "[1, 2, 5, 7, 8, 10]\n",
      "[1, 2, 7, 8, 10] 5 삭제 함\n"
     ]
    },
    {
     "data": {
      "text/plain": [
       "[1, 2, 7, 8, 10]"
      ]
     },
     "execution_count": 9,
     "metadata": {},
     "output_type": "execute_result"
    }
   ],
   "source": [
    "print(f)\n",
    "if 5 in f :\n",
    "    f.remove(5)\n",
    "    print(f, \"5 삭제 함\")\n",
    "else:\n",
    "    print(f, \"5 없어서 삭제 못함\")\n",
    "f    "
   ]
  },
  {
   "cell_type": "code",
   "execution_count": 10,
   "id": "2bcf0fa6",
   "metadata": {},
   "outputs": [
    {
     "data": {
      "text/plain": [
       "1"
      ]
     },
     "execution_count": 10,
     "metadata": {},
     "output_type": "execute_result"
    }
   ],
   "source": [
    "## g 리스트의 5가 몇번?\n",
    "g.count(5)"
   ]
  },
  {
   "cell_type": "code",
   "execution_count": 11,
   "id": "006abdee",
   "metadata": {},
   "outputs": [
    {
     "data": {
      "text/plain": [
       "5"
      ]
     },
     "execution_count": 11,
     "metadata": {},
     "output_type": "execute_result"
    }
   ],
   "source": [
    "## g 리스트의 5의 인덱스번호?\n",
    "g.index(5)"
   ]
  },
  {
   "cell_type": "code",
   "execution_count": 12,
   "id": "71d224b5",
   "metadata": {},
   "outputs": [
    {
     "data": {
      "text/plain": [
       "(10, 1, 55, 10)"
      ]
     },
     "execution_count": 12,
     "metadata": {},
     "output_type": "execute_result"
    }
   ],
   "source": [
    "max(g), min(g), sum(g), len(g)"
   ]
  },
  {
   "cell_type": "markdown",
   "id": "4a3a5f26",
   "metadata": {},
   "source": [
    "객체지향\n",
    "-클래스 -> 객체\n",
    "   사람        홍길동, 고소영\n",
    "\n",
    "-구성요소\n",
    "   1) 속성 \n",
    "         - 성질, 특정 값\n",
    "         - 사람.눈색깔 = 파랑\n",
    "         - 홍길동.입색 = 빨강\n",
    "\n",
    "   2) 메서드 \n",
    "         - 일, 동작\n",
    "         - 사람.밥먹다()\n",
    "         - 홍길동.자다()"
   ]
  },
  {
   "cell_type": "code",
   "execution_count": 13,
   "id": "8c761012",
   "metadata": {},
   "outputs": [
    {
     "data": {
      "text/plain": [
       "(5, 2)"
      ]
     },
     "execution_count": 13,
     "metadata": {},
     "output_type": "execute_result"
    }
   ],
   "source": [
    "a=2\n",
    "b=5\n",
    "a, b=b,a   ## 상호 자리 교환\n",
    "a, b"
   ]
  },
  {
   "cell_type": "code",
   "execution_count": 14,
   "id": "10fcac79",
   "metadata": {},
   "outputs": [],
   "source": [
    "# 2개의 수를 입력받아서 두 수 사이의 합을 구하는 함수를 만들어라.\n",
    "## 함수 정의\n",
    "def sum2(no1=1, no2=10):  ## no1이 작은 수로 간주\n",
    "    if no1 > no2 :\n",
    "        no1, no2=no2, no1\n",
    "    result=0\n",
    "    for i in range(no1, no2+1, 1):\n",
    "        result=result+i\n",
    "        print(i,\"+ \", end=\"\")\n",
    "    print(\"=\", result)\n",
    "    return \"ok\""
   ]
  },
  {
   "cell_type": "code",
   "execution_count": 15,
   "id": "f840f9af",
   "metadata": {},
   "outputs": [
    {
     "name": "stdout",
     "output_type": "stream",
     "text": [
      "2 + 3 + 4 + 5 + = 14\n",
      "4 + 5 + 6 + 7 + 8 + 9 + = 39\n",
      "1 + 2 + 3 + 4 + 5 + 6 + 7 + 8 + 9 + 10 + = 55\n"
     ]
    },
    {
     "data": {
      "text/plain": [
       "'ok'"
      ]
     },
     "execution_count": 15,
     "metadata": {},
     "output_type": "execute_result"
    }
   ],
   "source": [
    "## 정의 된 함수 호출하여 사용\n",
    "sum2(2,5)\n",
    "sum2(9,4)\n",
    "sum2()"
   ]
  },
  {
   "cell_type": "code",
   "execution_count": 16,
   "id": "489d97fa",
   "metadata": {},
   "outputs": [
    {
     "name": "stdout",
     "output_type": "stream",
     "text": [
      "(1, 8, 7)\n"
     ]
    },
    {
     "data": {
      "text/plain": [
       "(1, (1, 5))"
      ]
     },
     "execution_count": 16,
     "metadata": {},
     "output_type": "execute_result"
    }
   ],
   "source": [
    "## 튜플 - 상수(변할수 없는 값) -- 연산속도가 빠름\n",
    "y=1,8,7\n",
    "z=(1,5,90)\n",
    "print(y)\n",
    "z[0], z[:2]"
   ]
  },
  {
   "cell_type": "markdown",
   "id": "4b84ec88",
   "metadata": {},
   "source": [
    "## 딕셔너리\n",
    "- key이름:value값 을 {}로 묶는다.\n",
    "- 딕셔너리는 이름으로 접근 (리스트는 인덱스 위치로 접근)\n",
    "- 인덱싱, 슬라이싱 XXXX"
   ]
  },
  {
   "cell_type": "code",
   "execution_count": 17,
   "id": "92fab9b6",
   "metadata": {},
   "outputs": [
    {
     "name": "stdout",
     "output_type": "stream",
     "text": [
      "홍길동\n",
      "26\n",
      "82\n"
     ]
    }
   ],
   "source": [
    "person = {'사람이름' : '홍길동', '나이' : 26, '몸무게' : 82 }\n",
    "print(person['사람이름'])\n",
    "print(person['나이'])\n",
    "print(person['몸무게'])"
   ]
  },
  {
   "cell_type": "code",
   "execution_count": 18,
   "id": "28724e6e",
   "metadata": {},
   "outputs": [
    {
     "data": {
      "text/plain": [
       "('몸무게', 82)"
      ]
     },
     "execution_count": 18,
     "metadata": {},
     "output_type": "execute_result"
    }
   ],
   "source": [
    "person.popitem() ## 랜덤하게 1개의 항목을 삭제"
   ]
  },
  {
   "cell_type": "code",
   "execution_count": 19,
   "id": "c343ce31",
   "metadata": {},
   "outputs": [
    {
     "data": {
      "text/plain": [
       "{}"
      ]
     },
     "execution_count": 19,
     "metadata": {},
     "output_type": "execute_result"
    }
   ],
   "source": [
    "person.clear()\n",
    "person"
   ]
  },
  {
   "cell_type": "code",
   "execution_count": 20,
   "id": "e73fbebf",
   "metadata": {},
   "outputs": [
    {
     "data": {
      "text/plain": [
       "dict_keys([])"
      ]
     },
     "execution_count": 20,
     "metadata": {},
     "output_type": "execute_result"
    }
   ],
   "source": [
    "person.keys()   "
   ]
  },
  {
   "cell_type": "code",
   "execution_count": 21,
   "id": "a4f01a3a",
   "metadata": {},
   "outputs": [
    {
     "data": {
      "text/plain": [
       "dict_values([])"
      ]
     },
     "execution_count": 21,
     "metadata": {},
     "output_type": "execute_result"
    }
   ],
   "source": [
    "person.values()    "
   ]
  },
  {
   "cell_type": "code",
   "execution_count": 22,
   "id": "af789607",
   "metadata": {},
   "outputs": [
    {
     "data": {
      "text/plain": [
       "dict_items([])"
      ]
     },
     "execution_count": 22,
     "metadata": {},
     "output_type": "execute_result"
    }
   ],
   "source": [
    "person.items()"
   ]
  },
  {
   "cell_type": "code",
   "execution_count": 23,
   "id": "3d002709",
   "metadata": {},
   "outputs": [
    {
     "name": "stdout",
     "output_type": "stream",
     "text": [
      "{'사람이름': '홍길동', '나이': 26, '몸무게': 82, '직업': '율도국의 왕'}\n"
     ]
    }
   ],
   "source": [
    "person = {'사람이름' : '홍길동', '나이' : 26, '몸무게' : 82}\n",
    "person['직업'] = '율도국의 왕'\n",
    "print(person)"
   ]
  },
  {
   "cell_type": "code",
   "execution_count": 24,
   "id": "0cfd7277",
   "metadata": {},
   "outputs": [
    {
     "name": "stdout",
     "output_type": "stream",
     "text": [
      "{'사람이름': '홍길동', '나이': 20, '몸무게': 82, '직업': '율도국의 왕'}\n"
     ]
    }
   ],
   "source": [
    "person['나이'] =20\n",
    "print(person)"
   ]
  },
  {
   "cell_type": "code",
   "execution_count": 25,
   "id": "17838b5b",
   "metadata": {},
   "outputs": [
    {
     "name": "stdout",
     "output_type": "stream",
     "text": [
      "{'사람이름': '홍길동', '몸무게': 82, '직업': '율도국의 왕'}\n"
     ]
    }
   ],
   "source": [
    "del person['나이'] \n",
    "print(person)"
   ]
  },
  {
   "cell_type": "code",
   "execution_count": 26,
   "id": "97287437",
   "metadata": {},
   "outputs": [
    {
     "data": {
      "text/plain": [
       "{'몸무게': 82, '직업': '율도국의 왕'}"
      ]
     },
     "execution_count": 26,
     "metadata": {},
     "output_type": "execute_result"
    }
   ],
   "source": [
    "if '사람이름' in person.keys() :\n",
    "    person.pop('사람이름')\n",
    "else:\n",
    "    print('사람이름 없다')\n",
    "person"
   ]
  },
  {
   "cell_type": "code",
   "execution_count": 27,
   "id": "bd27b50d",
   "metadata": {},
   "outputs": [
    {
     "name": "stdout",
     "output_type": "stream",
     "text": [
      "사람이름 없다\n"
     ]
    },
    {
     "data": {
      "text/plain": [
       "{'몸무게': 82, '직업': '율도국의 왕'}"
      ]
     },
     "execution_count": 27,
     "metadata": {},
     "output_type": "execute_result"
    }
   ],
   "source": [
    "if '사람이름' in person :\n",
    "    person.pop('사람이름')\n",
    "else:\n",
    "    print('사람이름 없다')\n",
    "person"
   ]
  },
  {
   "cell_type": "code",
   "execution_count": 28,
   "id": "25b153e7",
   "metadata": {},
   "outputs": [
    {
     "data": {
      "text/plain": [
       "82"
      ]
     },
     "execution_count": 28,
     "metadata": {},
     "output_type": "execute_result"
    }
   ],
   "source": [
    "person.get('몸무게')"
   ]
  },
  {
   "cell_type": "code",
   "execution_count": 29,
   "id": "1c384565",
   "metadata": {},
   "outputs": [
    {
     "data": {
      "text/plain": [
       "82"
      ]
     },
     "execution_count": 29,
     "metadata": {},
     "output_type": "execute_result"
    }
   ],
   "source": [
    "person['몸무게']"
   ]
  }
 ],
 "metadata": {
  "kernelspec": {
   "display_name": "Python 3",
   "language": "python",
   "name": "python3"
  },
  "language_info": {
   "codemirror_mode": {
    "name": "ipython",
    "version": 3
   },
   "file_extension": ".py",
   "mimetype": "text/x-python",
   "name": "python",
   "nbconvert_exporter": "python",
   "pygments_lexer": "ipython3",
   "version": "3.8.8"
  }
 },
 "nbformat": 4,
 "nbformat_minor": 5
}

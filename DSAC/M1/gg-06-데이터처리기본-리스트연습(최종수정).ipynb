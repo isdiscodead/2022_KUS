{
 "cells": [
  {
   "cell_type": "markdown",
   "metadata": {},
   "source": [
    "## 리스트 연습"
   ]
  },
  {
   "cell_type": "markdown",
   "metadata": {},
   "source": [
    "- 리스트 : 임의의 데이터 항목들을 담을 수 있다.\n",
    "   * mutable Object(변경 가능)\n",
    "   * empty 리스트 생성\n",
    "   * 리스트에 새로운 항목을 추가\n",
    "   * 순서 정보 유지"
   ]
  },
  {
   "cell_type": "code",
   "execution_count": 1,
   "metadata": {},
   "outputs": [],
   "source": [
    "shopping_list = []\n",
    "shopping_list"
   ]
  },
  {
   "cell_type": "markdown",
   "metadata": {},
   "source": [
    "- append() : 순서대로 새로운 항목을 리스트에 추가"
   ]
  },
  {
   "cell_type": "code",
   "execution_count": 2,
   "metadata": {},
   "outputs": [],
   "source": [
    "shopping_list.append(\"milk\")\n",
    "shopping_list.append(\"cheese\")\n",
    "shopping_list.append(\"bread\")"
   ]
  },
  {
   "cell_type": "code",
   "execution_count": 3,
   "metadata": {},
   "outputs": [
    {
     "data": {
      "text/plain": [
       "['milk', 'cheese', 'bread']"
      ]
     },
     "execution_count": 3,
     "metadata": {},
     "output_type": "execute_result"
    }
   ],
   "source": [
    "shopping_list"
   ]
  },
  {
   "cell_type": "markdown",
   "metadata": {},
   "source": [
    "- remove() : 리스트에서 특정 항목을 제거"
   ]
  },
  {
   "cell_type": "code",
   "execution_count": 4,
   "metadata": {},
   "outputs": [
    {
     "data": {
      "text/plain": [
       "['cheese', 'bread']"
      ]
     },
     "execution_count": 4,
     "metadata": {},
     "output_type": "execute_result"
    }
   ],
   "source": [
    "shopping_list.remove(\"milk\")\n",
    "shopping_list"
   ]
  },
  {
   "cell_type": "markdown",
   "metadata": {},
   "source": [
    "- 리스트에 포함된 모든 항목에 대해 어떤 작업을 수행\n",
    "   * for, in 사용"
   ]
  },
  {
   "cell_type": "code",
   "execution_count": 5,
   "metadata": {},
   "outputs": [
    {
     "name": "stdout",
     "output_type": "stream",
     "text": [
      "cheese\n",
      "bread\n"
     ]
    }
   ],
   "source": [
    "for item in shopping_list:\n",
    "    print(item)"
   ]
  },
  {
   "cell_type": "markdown",
   "metadata": {},
   "source": [
    "- 리스트에 대한 특정 항목의 포함 여부 확인\n",
    "   * if, in 사용\n",
    "   * not in : 포함하지 않은 지? check "
   ]
  },
  {
   "cell_type": "code",
   "execution_count": 6,
   "metadata": {},
   "outputs": [
    {
     "name": "stdout",
     "output_type": "stream",
     "text": [
      "Well we can't have that!\n"
     ]
    }
   ],
   "source": [
    "if \"milk\" in shopping_list:\n",
    "    print(\"Delicious!\")\n",
    "\n",
    "if \"eggs\" not in shopping_list:\n",
    "    print(\"Well we can't have that!\")\n",
    "    shopping_list.append(\"eggs\")"
   ]
  },
  {
   "cell_type": "code",
   "execution_count": 7,
   "metadata": {},
   "outputs": [
    {
     "data": {
      "text/plain": [
       "['cheese', 'bread', 'eggs']"
      ]
     },
     "execution_count": 7,
     "metadata": {},
     "output_type": "execute_result"
    }
   ],
   "source": [
    "shopping_list"
   ]
  },
  {
   "cell_type": "markdown",
   "metadata": {},
   "source": [
    "## 딕셔너리 연습\n"
   ]
  },
  {
   "cell_type": "markdown",
   "metadata": {},
   "source": [
    "- 딕셔너리 생성\n",
    "   * key : value\n",
    "   * 딕셔너리 객체이름[인자] = 내용"
   ]
  },
  {
   "cell_type": "code",
   "execution_count": 8,
   "metadata": {},
   "outputs": [],
   "source": [
    "foods = {}"
   ]
  },
  {
   "cell_type": "code",
   "execution_count": 9,
   "metadata": {},
   "outputs": [
    {
     "data": {
      "text/plain": [
       "{'banana': 'A delicious and tasty treat!',\n",
       " 'dirt': 'Not delicious. Not tasty. DO NOT EAT!'}"
      ]
     },
     "execution_count": 9,
     "metadata": {},
     "output_type": "execute_result"
    }
   ],
   "source": [
    "foods[\"banana\"] = \"A delicious and tasty treat!\"\n",
    "foods[\"dirt\"]   = \"Not delicious. Not tasty. DO NOT EAT!\"\n",
    "foods"
   ]
  },
  {
   "cell_type": "code",
   "execution_count": 10,
   "metadata": {},
   "outputs": [
    {
     "data": {
      "text/plain": [
       "'A delicious and tasty treat!'"
      ]
     },
     "execution_count": 10,
     "metadata": {},
     "output_type": "execute_result"
    }
   ],
   "source": [
    "foods[\"banana\"]"
   ]
  },
  {
   "cell_type": "code",
   "execution_count": 11,
   "metadata": {},
   "outputs": [],
   "source": [
    "## foods[\"cheese\"] <- 오류"
   ]
  },
  {
   "cell_type": "code",
   "execution_count": 12,
   "metadata": {},
   "outputs": [
    {
     "name": "stdout",
     "output_type": "stream",
     "text": [
      "No cheese\n"
     ]
    }
   ],
   "source": [
    "if \"cheese\" in foods:\n",
    "    print(\"Cheese is one of the known foods!\")\n",
    "else:\n",
    "    print(\"No cheese\")"
   ]
  },
  {
   "cell_type": "markdown",
   "metadata": {},
   "source": [
    "- del : 딕셔너리 특정 항목(키:값 쌍)을 삭제"
   ]
  },
  {
   "cell_type": "code",
   "execution_count": 13,
   "metadata": {},
   "outputs": [
    {
     "data": {
      "text/plain": [
       "{'banana': 'A delicious and tasty treat!'}"
      ]
     },
     "execution_count": 13,
     "metadata": {},
     "output_type": "execute_result"
    }
   ],
   "source": [
    "del foods[\"dirt\"]\n",
    "foods"
   ]
  },
  {
   "cell_type": "markdown",
   "metadata": {},
   "source": [
    "## 파일 다루기\n",
    "- 텍스트 파일 다운로드\n",
    "- http://opentechschool.github.io/python-data-intro/files/radishsurvey.txt"
   ]
  },
  {
   "cell_type": "code",
   "execution_count": 14,
   "metadata": {},
   "outputs": [
    {
     "name": "stderr",
     "output_type": "stream",
     "text": [
      "  % Total    % Received % Xferd  Average Speed   Time    Time     Time  Current\n",
      "                                 Dload  Upload   Total   Spent    Left  Speed\n",
      "\n",
      "  0     0    0     0    0     0      0      0 --:--:-- --:--:-- --:--:--     0\n",
      "  0     0    0     0    0     0      0      0 --:--:-- --:--:-- --:--:--     0\n",
      "  0     0    0     0    0     0      0      0 --:--:--  0:00:01 --:--:--     0\n",
      "  0     0    0     0    0     0      0      0 --:--:--  0:00:02 --:--:--     0\n",
      "  0     0    0     0    0     0      0      0 --:--:--  0:00:03 --:--:--     0\n",
      "  0     0    0     0    0     0      0      0 --:--:--  0:00:04 --:--:--     0\n",
      "  0     0    0     0    0     0      0      0 --:--:--  0:00:05 --:--:--     0\n",
      "  0     0    0     0    0     0      0      0 --:--:--  0:00:06 --:--:--     0curl: (6) Could not resolve host: 주소\n"
     ]
    }
   ],
   "source": [
    "!curl  주소 -o  저장할폴더"
   ]
  },
  {
   "cell_type": "code",
   "execution_count": 15,
   "metadata": {},
   "outputs": [
    {
     "name": "stderr",
     "output_type": "stream",
     "text": [
      "  % Total    % Received % Xferd  Average Speed   Time    Time     Time  Current\n",
      "                                 Dload  Upload   Total   Spent    Left  Speed\n",
      "\n",
      "  0     0    0     0    0     0      0      0 --:--:-- --:--:-- --:--:--     0\n",
      "100 19816  100 19816    0     0  72058      0 --:--:-- --:--:-- --:--:-- 72321\n"
     ]
    }
   ],
   "source": [
    "!curl http://opentechschool.github.io/python-data-intro/files/radishsurvey.txt\\\n",
    "    -o ./radishsurvey.txt\n",
    "    \n",
    "# 윈도우에서는 위의 웹 주소를 입력하면 파일을 직접 다운받을 수 있다."
   ]
  },
  {
   "cell_type": "code",
   "execution_count": 16,
   "metadata": {},
   "outputs": [
    {
     "name": "stderr",
     "output_type": "stream",
     "text": [
      "'head'은(는) 내부 또는 외부 명령, 실행할 수 있는 프로그램, 또는\n",
      "배치 파일이 아닙니다.\n"
     ]
    }
   ],
   "source": [
    "# 파일의 상위 10 라인 보기\n",
    "!head -10 ./radishsurvey.txt  ## 맥, 리눅스에서 "
   ]
  },
  {
   "cell_type": "code",
   "execution_count": 17,
   "metadata": {},
   "outputs": [
    {
     "name": "stdout",
     "output_type": "stream",
     "text": [
      "Evie Pulsford - April Cross\n",
      "Matilda Condon - April Cross\n",
      "Samantha Mansell - Champion\n",
      "geronima trevisani - cherry belle\n",
      "Alexandra Shoebridge - Snow Belle\n",
      "Sarah Ahuia Ova - Snow Belle\n",
      "Emma Slattery - Bunny Tail\n",
      "Fabiana  Milanesi - Champion\n",
      "Makayla McMinn - Snow Belle\n",
      "Julian O'Leary - Sicily Giant\n",
      "Hannah Collie - Bunny Tail\n",
      "Toby Lundie - Plum Purple\n",
      "Baldo Palerma - Champion\n",
      "Phoebe Barwell - Plum Purple\n",
      "Sheng Shen - Champion\n",
      "Jonathan Rolph - Snow Belle\n",
      "Aaron Yarnold - Red King\n",
      "Indiana angwin -  Daikon \n",
      "Luke Komine - White Icicle\n",
      "Blake Ricardo - Daikon\n",
      "Mikayla Biddell - Daikon\n",
      "Piper Wheelwright - Bunny Tail\n",
      "Bailey Derrington - White Icicle\n",
      "Eufrosina Ferri - Daikon\n",
      "Madeleine Abrahams - Daikon\n",
      "Indiana Cowper - Sicily Giant\n",
      "Procopio Zito - Red King\n",
      "Ryan Langley - French Breakfast\n",
      "anthony Gairdner - French Breakfast\n",
      "Darcy Kayser - Champion\n",
      "Adelmo De Luca - Plum Purple\n",
      "Sienna Hovell - Champion\n",
      "Mary Cardell - April Cross\n",
      "Ebony Agnes - Daikon\n",
      "Lola Atkinson - Plum Purple\n",
      "Jonathan Walton - Champion\n",
      "Tristan Gwynn - Red King\n",
      "Jackson Longman - Red King\n",
      "Archer Dodds - April Cross\n",
      "Lilian Burne - French Breakfast\n",
      "Ava McNaughtan - April Cross\n",
      "Nate Shelley - Daikon\n",
      "Antonia Buccho - Champion\n",
      "Kaitlyn Rudduck - Cherry Belle\n",
      "Skye Thynne - Champion\n",
      "Ethan Collings - Plum Purple\n",
      "Finn Leverrier - Plum Purple\n",
      "Lee T'an - Plum Purple\n",
      "Tyler Forbes - White Icicle\n",
      "abbey dunkley -  plum purple\n",
      "rose stacy - french breakfast\n",
      "Gianfranco Cremonesi - White Icicle\n",
      "Grace Wentworth - French Breakfast\n",
      "Cooper Menkens -  Snow Belle\n",
      "Scarlett Macdougall - French Breakfast\n",
      "Fabio Pugliesi - Bunny Tail\n",
      "Keira Wrenfordsley - Red King\n",
      "Daniel Krimper -  Plum Purple\n",
      "Anna Deniehy - April Cross\n",
      "Sabrina Beneventi - Cherry Belle\n",
      "Oliver Potts - Snow Belle\n",
      "Milla Winn - Plum Purple\n",
      "Finn Whitworth - Sicily Giant\n",
      "Sophie Keynes - Plum Purple\n",
      "Joel Brownell - Plum Purple\n",
      "Jonathan Parsons - French Breakfast \n",
      "Amelia Ellwood - Snow Belle\n",
      "Lincoln Gatehouse - Bunny Tail\n",
      "Jin Huang - Daikon\n",
      "Kuan-Yin Sun - Champion\n",
      "Tao Hsiao - White Icicle\n",
      "Emily Walters - White Icicle\n",
      "nicholas kirby - french breakfast\n",
      "Hong Tsui - April Cross\n",
      "Mikayla Fullagar - Cherry Belle\n",
      "Lola Catchpole - April Cross\n",
      "Lelia Toscani - Bunny Tail\n",
      "Natasha Prout - Cherry Belle\n",
      "Raffaello Schiavone - Red King\n",
      "Erin Stephen - Plum Purple\n",
      "Eve Peacock - Daikon\n",
      "Jordan Manning - Sicily Giant\n",
      "Tyler Lister - April Cross\n",
      "brodie agnew - daikon\n",
      "Lincoln Hirschfeld - Champion\n",
      "Ciriaca Genovesi - Bunny Tail\n",
      "Dewei Niu - Snow Belle\n",
      "Fai Teng - Bunny Tail\n",
      "Rossana Cattaneo -  Snow Belle\n",
      "Isabelle Coombes - Daikon\n",
      "Layla Hitchcock - Red King\n",
      "Ashley Brigstocke - Red King\n",
      "Lei Tai - Daikon\n",
      "Victoria Humffray - Sicily Giant\n",
      "Jake Champ - Daikon\n",
      "Ben Vosper - Cherry Belle\n",
      "Harrison Rose - Red King\n",
      "Thomas Oom - White Icicle\n",
      "Sophie Browning - Red King\n",
      "Scarlett Hughes - Bunny Tail\n",
      "Anthony Collits - Champion\n",
      "Alicia Forrest - Sicily Giant\n",
      "Riley Leakey - April Cross\n",
      "Bethany Calwell - French Breakfast\n",
      "Leo Sheil - April Cross\n",
      "Kai MacMahon - April Cross\n",
      "Rong Kuo - Champion\n",
      "Stephanie Schnaars - White Icicle\n",
      "Bethany Bardolph - French Breakfast\n",
      "Guido Beneventi - French Breakfast\n",
      "Victoria Witt - Daikon\n",
      "Jun Hsiung - Bunny Tail\n",
      "Noah Berrick - Daikon\n",
      "Beato Mazzanti - Sicily Giant\n",
      "Anna Denning - White Icicle\n",
      "Sebastian George - Cherry Belle\n",
      "Mackenzie Andrade - Champion\n",
      "Sarah Joris  - Champion \n",
      "Joel Cassell - Plum Purple\n",
      "Harrison Moowattin - Champion\n",
      "william fenner - plum purple\n",
      "Madeline Corbin - Bunny Tail\n",
      "Sebastian Davitt - Champion\n",
      "Li Qin Ch'ien - Sicily Giant\n",
      "Owen Lea - Champion\n",
      "Liam Copeland - Champion\n",
      "Brianna Eltham - Sicily Giant\n",
      "Joseph Gresswell - Sicily Giant\n",
      "Alfonsina Marchesi - April Cross\n",
      "Caitlin Houlding - Snow Belle\n",
      "Natalie Schlapp - April Cross\n",
      "Shaiming Fu - Champion\n",
      "Lisandro Monaldo - Champion\n",
      "Ruby Fox - White Icicle\n",
      "Benjamin Rankin - Snow Belle\n",
      "Connor Letters - April Cross\n",
      "Laura Macdowell - Daikon\n",
      "Jake Hervey - April Cross\n",
      "Alyssa Batman - Snow Belle\n",
      "Archer Larra - French Breakfast\n",
      "Brayden Dixon - Bunny Tail\n",
      "Kuan-Yin Kuo - Cherry Belle\n",
      "Lucy Ley - Red King\n",
      "Rachele  Russo - Cherry Belle\n",
      "Lucy Somers - Daikon\n",
      "Ella Boucaut - Champion\n",
      "Iacopo Baresi - Bunny Tail\n",
      "Ali Dedman - White Icicle\n",
      "Victoria Edinburgh - French Breakfast\n",
      "Brianna Pye - Red King\n",
      "Joel Bruce - Snow Belle\n",
      "Lola Lea - Bunny Tail\n",
      "Zachary Burford - Champion\n",
      "Gabriella Bruton - April Cross\n",
      "Finn Dunstan - Cherry Belle\n",
      "Logan Truchanas - Red King\n",
      "beau mclarty - white icicle\n",
      "Carla De Luca - Daikon\n",
      "Taylah Reynolds - Champion\n",
      "Ava Musgrave - Bunny Tail\n",
      "Jade Grimmett - Bunny Tail\n",
      "Eliza Fink - April Cross\n",
      "Charles Tearle - April Cross\n",
      "Victoria Birch - Snow Belle\n",
      "Mackenzie Geach - Plum Purple\n",
      "Charles Card - Cherry Belle\n",
      "Olivia Warnes - Sicily Giant\n",
      "Jake Murdoch - Cherry Belle\n",
      "Brayden Massina - April Cross\n",
      "Sarah Milford - White Icicle\n",
      "Lilian Pike - French Breakfast \n",
      "Blake Dakin - Champion\n",
      "Chi Hsiung - April Cross\n",
      "Ludovica Siciliano - Sicily Giant\n",
      "Rose Leahy - French Breakfast\n",
      "Nicodemo Udinese - Bunny Tail\n",
      "Amy Harriman - Sicily Giant\n",
      "Harrison Macgeorge - Red King\n",
      "Charles Mockridge - Cherry Belle\n",
      "Victoria Hardie  - Sicily Giant\n",
      "Jake Hambly - Sicily Giant \n",
      "Bartolomeo Mancini - French Breakfast\n",
      "Maya Shackleton - Snow Belle\n",
      "Hudson Dodgshun - White Icicle\n",
      "Scarlett Sullivan - Snow Belle\n",
      "Noah Doyne - April cross\n",
      "Aidan Santo - Bunny Tail \n",
      "kai emmett - bunny tail\n",
      "Christopher Gillan - Daikon\n",
      "Lara Salting - White Icicle\n",
      "Alfonso Costa - Daikon \n",
      "Mackenzie Knatchbull - Red King\n",
      "Oliver Beit - Plum Purple\n",
      "Thomas Muecke - French Breakfast\n",
      "Sabrina Li Fonti - Bunny Tail\n",
      "Jasmine Brake - Snow Belle\n",
      "Sienna Bonnor - Daikon\n",
      "Isabelle Llewelyn - Daikon\n",
      "Amelie Farber - White Icicle\n",
      "Keira Horner - Red King\n",
      "Annabelle Colechin - French Breakfast\n",
      "George Schlunke - Daikon\n",
      "Hugo Stretch - French Breakfast\n",
      "Isabella Pardey - White Icicle\n",
      "Toby Docker - Red King\n",
      "Caitlyn Hotchin - French Breakfast\n",
      "Samuel Ansell - Sicily Giant\n",
      "Prospero Milano - Champion\n",
      "Zhi Chin - White Icicle\n",
      "nate brooker - daikon\n",
      "Elizabeth McNab - April Cross\n",
      "Amelie Torpy - Champion\n",
      "Audrey Bock - Bunny Tail\n",
      "Abbey Dawson - Plum Purple\n",
      "Hugo Coppleson - Daikon\n",
      "Lilly Tait - Red King\n",
      "Archer Frederick - April Cross\n",
      "Alvisio Mazzi - April Cross\n",
      "Chloe  MacLaurin - Champion\n",
      "Georgia Bruny - April Cross\n",
      "Caitlyn Mullah - White Icicle\n",
      "Gang Chia - Red King\n",
      "Lauren Pennefather - French Breakfast\n",
      "Fang Ch'eng - Cherry Belle\n",
      "Summer Withers - Snow Belle\n",
      "Kayla Sievier - Snow Belle\n",
      "Edoardo Sal - Champion\n",
      "Layla Fossey - April Cross\n",
      "Ella Weston - Champion\n",
      "Patrick Camidge - French Breakfast\n",
      "Erin Stretton - French Breakfast\n",
      "Poppy Duggan - Champion\n",
      "Daniel Hogben - Daikon\n",
      "Wan Tsai - Snow Belle\n",
      "Olimpia Udinesi - April Cross\n",
      "Xue Fang Fu - Daikon\n",
      "Alyssa McInnes - Daikon\n",
      "Connor Morphett - Plum Purple\n",
      "Nathan Trott - French Breakfast\n",
      "Brock Brunker - Bunny Tail\n",
      "Hayden O'Connell - French Breakfast\n",
      "James  Larra - April Cross\n",
      "Eva Geiger - Plum Purple\n",
      "Taj Shackell - White Icicle\n",
      "Eliza O'Haran - Champion\n",
      "Aidan Dore - April Cross\n",
      "Aiden Reginald - Plum Purple\n",
      "Bruna Rizzo - Snow Belle\n",
      "Alex Wemyss - April Cross\n",
      "claudia westgarth - daikon\n",
      "Jett Glynde - Plum Purple\n",
      "Brooke Huffer - Daikon\n",
      "Stephanie Synan - Sicily Giant\n",
      "Salvatore Sagese - French Breakfast\n",
      "Edgardo Mazzanti - Daikon\n",
      "Brodie De Lissa - Cherry Belle\n",
      "Cai Pan - Sicily Giant\n",
      "Caitlyn Ridgeway - Sicily Giant\n",
      "Mason Dymock - Plum Purple\n",
      "Oliviero Lucchesi - Bunny Tail\n",
      "Antonietta Baresi - Cherry Belle\n",
      "Abbey Cousens - Daikon\n",
      "Hui Hsiung - Cherry Belle\n",
      "Marcus Brown - Sicily Giant\n",
      "James Poupinel - Daikon\n",
      "Lucas Tomkinson - Champion\n",
      "Xin Qian Shih - White Icicle\n",
      "Abigail Clark - White Icicle\n",
      "Archie Gilfillan - French Breakfast\n",
      "maya woolcock - april cross\n",
      "Wei Hsiao - Daikon\n",
      "Lauren Rosevear - Red King\n",
      "Eve Gargett - Snow Belle\n",
      "Cristian Pisano - Champion\n",
      "Bianca Knopwood - White Icicle\n",
      "Alyssa Loewe - Daikon\n",
      "Feng Li - French Breakfast\n",
      "Yi Min Chu - Plum Purple\n",
      "Aiden Tasman - Red King\n",
      "corinna lucchese - champion\n",
      "Taylah Shore - Cherry Belle\n",
      "nilde beneventi - french breakfast\n",
      "edward greener - bunny tail\n",
      "Nate Lodewyckx - Sicily Giant\n",
      "Mariam Langridge - Red King\n",
      "Indiana Cory - Champion\n",
      "David Rees - April Cross\n",
      "Daniel Appleton - Red King\n",
      "Luke Leeper - Red King\n",
      "Toby Spring - French Breakfast \n",
      "Cody Laffer - Red King\n",
      "Lilian Woodriff - Plum Purple\n",
      "hudson crane - sicily giant\n",
      "Anthony Wand - Bunny Tail\n",
      "Dean Mattner - Red King\n",
      "Lucinda Howarde - Sicily Giant\n",
      "Caleb Clancy - Red King \n",
      "Mia Legg - White Icicle\n",
      "Isla Mehaffey - Sicily Giant\n",
      "Cooper Lasseter - April Cross\n",
      "Indiana Scott - Cherry Belle\n",
      "Kaitlyn Kay - French Breakfast\n",
      "Abbey Aronson - April Cross\n",
      "Madeleine Hartung - Snow Belle\n",
      "Abbey Tyas - Red King\n",
      "Jacob Spowers - Snow Belle\n",
      "Brodie Fraser - French Breakfast\n",
      "Ivo Lucchesi - Champion\n",
      "Harry Wormald - French Breakfast \n",
      "Lilian Macquarie - White Icicle\n",
      "Chelsea Warby - Bunny Tail\n",
      "Eugenio Pagnotto - Sicily Giant\n",
      "Michael Hargrave - Cherry Belle\n",
      "Leda Romani - April Cross\n",
      "Christopher Walton - Champion\n",
      "Zachary Bass - White Icicle\n",
      "jorja franklyn - white icicle\n",
      "Makayla Sutton - Plum Purple\n",
      "Shu Fang Tsou - French Breakfast\n",
      "Evie Carey - Bunny Tail\n",
      "Alannah Bleakley - Bunny Tail\n",
      "Alma Longo - Cherry Belle\n",
      "Abbey Garvin - Snow Belle\n",
      "Isabella Van De Velde - Plum Purple\n",
      "scarlett price - april cross\n",
      "Beau Hauslaib - Champion\n",
      "Isabelle Mathew - Sicily Giant\n",
      "Laura Callinan - Cherry Belle\n",
      "Cody Le Rennetel - French Breakfast\n",
      "Rachel Luke - Snow Belle\n",
      "Tristan Glynde - Snow Belle\n",
      "Qiao Tien - Bunny Tail\n",
      "Alana Meares - Red King\n",
      "Xiao Chen Chiang - Sicily Giant\n",
      "Jack Finlay - Cherry Belle\n",
      "Jaxon Keen  - Plum Purple\n",
      "Jordan Catani - Plum Purple\n",
      "Piera Trevisan - Red King\n",
      "Bailey Mussen - Bunny Tail\n",
      "Hayley Coverdale - White Icicle\n",
      "Sophie Eipper - Snow Belle\n",
      "Beata Endrizzi - Daikon\n",
      "David Moynihan - White Icicle\n",
      "Andrew Martens - French Breakfast\n",
      "Nate Higgs - Red King\n",
      "Isaac Banks - Snow Belle\n",
      "Xavier Sligo - Champion\n",
      "Nathan Aird  - Plum Purple\n",
      "Cooper Monk - Bunny Tail\n",
      "Kayla Kinsella - Champion\n",
      "Sean Maclurcan - Sicily Giant\n",
      "Jett Faucett - April Cross\n",
      "Koby Mary - Red King\n",
      "Lok Fan - Champion\n",
      "Liam Burn - French Breakfast\n",
      "Ryan Skeats - Snow Belle\n",
      "Harrison Barlee - Cherry Belle\n",
      "Marcus South - Champion\n",
      "Emily Kumm -  White Icicle\n",
      "Tristan Lack - Cherry Belle\n",
      "Rebecca Godfrey - Red King\n",
      "Bailey Randell - Red King\n",
      "Emma Slater - Bunny Tail\n",
      "Ellie Eaton - Sicily Giant\n",
      "Hamish Kevin - Sicily Giant\n",
      "Bella Lyttle - Bunny Tail\n",
      "Guang Lo - April Cross\n",
      "Jai Keith - Daikon\n",
      "Lucinda Emanuel - Plum Purple\n",
      "Tayla English - Plum Purple\n",
      "Eden Petchy - Daikon\n",
      "Lee Chen - April Cross\n",
      "Angus De Mestre - White Icicle\n",
      "Maya Huish - Snow Belle\n",
      "Emily Plante - White Icicle\n",
      "Connor Fairbridge - Bunny Tail\n",
      "Lara Cawker - Champion\n",
      "Blanda Panicucci - Bunny Tail\n",
      "Napoleone Marcelo - Champion\n",
      "Georgia Gillen - Snow Belle\n",
      "Giselda Napolitano - French Breakfast\n",
      "Anthony Hugo - Red King\n",
      "Oscar Saltau - April Cross\n",
      "Ashton Pearce - Daikon\n",
      "Kiara Maxwell-Mahon - White Icicle\n",
      "Sebastian Ball - French Breakfast\n",
      "Anna Howarde - Bunny Tail\n",
      "Lauren Nisbet - Plum Purple\n",
      "Patrick Porteus - Bunny Tail\n",
      "ling tuan - Red King\n",
      "Park Ch'en - Sicily Giant\n",
      "Yi Tseng - French Breakfast\n",
      "Angelina Dangar - Snow Belle\n",
      "Carolina Cattaneo - Snow Belle\n",
      "Sean Tait - Snow Belle\n",
      "Alex Falk - White Icicle\n",
      "oliver thirkell - french breakfast\n",
      "Jesse Fairley - Champion\n",
      "Benito Cocci - Snow Belle\n",
      "Laura Samuels - Champion\n",
      "Kuan-Yin Tao - Cherry Belle\n",
      "Shi She - Champion\n",
      "Isabella Hoffnung - April Cross\n",
      "George Carandini - White Icicle\n",
      "Sarah Bindi - French Breakfast\n",
      "Andrew Quick - April Cross\n",
      "Giosu챔 Romano - Champion\n",
      "Eva Ruth - Plum Purple\n",
      "Koby Gabriel - Champion\n",
      "Jayden Josephson - April Cross\n",
      "Mafalda Marchesi - Snow Belle \n",
      "Gabrielle Porteus - Daikon\n",
      "Dylan Synnot - Red King\n",
      "Brooke Kisch - Bunny Tail\n",
      "Quintilia Trentini - Bunny Tail\n",
      "Taj Moonlight - Plum Purple\n",
      "Ava Sorell - Bunny Tail\n",
      "Kate Buchanan - Sicily Giant\n",
      "Stella Inwood - Cherry Belle\n",
      "Cody Glauert - Snow Belle\n",
      "Callimaco Lombardi - Champion\n",
      "ella irving - cherry belle\n",
      "Guan-yin Hsiao - Red King\n",
      "alicia muscio - april cross\n",
      "Alana Sturdee - Champion\n",
      "Makayla Fairbairn - White Icicle\n",
      "Kaitlyn Collings - Bunny Tail\n",
      "Alexis Le Hunte - Champion\n",
      "lilian andrade - bunny tail\n",
      "Alannah Housley - Bunny Tail\n",
      "Rose Peeler - Champion\n",
      "Yue Wan Yeh - White Icicle\n",
      "Evie Langwell - Snow Belle\n",
      "Zoe Jasprizza - Red King\n",
      "Ivo Sagese - April Cross\n",
      "Rory Springthorpe - Snow Belle\n",
      "hannah gabriel - red king\n",
      "Jonathan Paten - Bunny Tail\n",
      "Jessica Rapke - Sicily Giant\n",
      "Jake Sterne - Daikon\n",
      "Lola Mashman - Bunny Tail\n",
      "Chan Yen - Cherry Belle\n",
      "Timothy Beeton - White Icicle\n",
      "Joseph Hill - Daikon\n",
      "Luke Gye - Plum Purple\n",
      "Giuseppe Manna - Sicily Giant\n",
      "Matilda Wardlaw - Red King\n",
      "Hannah Dibbs - Plum Purple\n",
      "Xavier Truman - French Breakfast\n",
      "Emma Sodersten - April Cross\n",
      "Blake Sodersten - French Breakfast\n",
      "Andrew Schwarz - Cherry Belle\n",
      "Owen Montgomery - Snow Belle\n",
      "Blake Hurst - White Icicle\n",
      "Brayden Brill - Cherry Belle\n",
      "Keira Strzelecki - Champion\n",
      "Zhen Juan Tsai - White Icicle\n",
      "Mulan Kung - Red King\n",
      "Clorinda Pugliesi - Champion\n",
      "Abbey Strzelecki - French Breakfast\n",
      "Andrew Howitt - April Cross\n",
      "Sebastian Langford - Cherry  Belle \n",
      "hayley Hinchcliffe - Cherry Belle\n",
      "Ebony Anton - Sicily Giant\n",
      "Seth Reginald - April Cross\n",
      "Beau Gosling - Plum Purple\n",
      "Christopher Moss - White Icicle\n",
      "laura uhr - red king\n",
      "Jamie Faithful -  Red King\n",
      "Isaac Tennyson - Daikon\n",
      "Gemma Norton -  Sicily Giant\n",
      "Matilda Madden - Red King\n",
      "Azeglio Napolitano - Red King\n",
      "David Tomlinson - Bunny Tail\n",
      "Christian Morris - Champion\n",
      "Amy Goulburn - April Cross\n",
      "Christopher Clunies - April Cross\n",
      "annabelle armytage - daikon\n",
      "Hunter Connely - Snow Belle\n",
      "Summer Stenhouse - April Cross\n",
      "Alicia Farmer - White Icicle\n",
      "Charlotte Slattery - Red King\n",
      "Georgia Jessop - Cherry Belle\n",
      "Abby Metters - Champion\n",
      "Madeleine Behan - Snow Belle\n",
      "Hayley Kernot - Plum Purple\n",
      "Ubaldo Trevisani - Champion\n",
      "Annabelle Scarfe - Cherry Belle\n",
      "Flynn Weingarth - Sicily Giant\n",
      "Indiana Keast - April Cross\n",
      "Wang Tien - French Breakfast\n",
      "Elijah Kingsbury - Plum Purple\n",
      "henry wright - sicily giant\n",
      "Meng Ni - Snow Belle\n",
      "Sara Coffill - Sicily Giant\n",
      "Giusy Lombardi - Plum  Purple\n",
      "Egidio Mancini - Sicily Giant\n",
      "Bethany Macfarlan - Bunny Tail\n",
      "Alexis Cowlishaw - Bunny Tail\n",
      "Skye Garvin - April Cross\n",
      "Abbey Rivett - Snow Belle\n",
      "Mikayla Woollacott - Sicily Giant\n",
      "Abbey Cochran - Daikon\n",
      "Jasmine Baughan - White Icicle\n",
      "Da-Xia Liang - April Cross\n",
      "Dominic Nangle - White Icicle\n",
      "Jesse Jury - Sicily Giant\n",
      "Ruby Elias - Daikon\n",
      "David Read - Bunny Tail\n",
      "Yue Yan T'ang - April Cross\n",
      "Qiang Tsui - Cherry Belle\n",
      "Grace Parkinson - Snow Belle\n",
      "Yue Yan Hu - White Icicle\n",
      "Adele Buccho - White Icicle\n",
      "Imogen Gertrude - Bunny Tail\n",
      "Kate Cyril - April Cross\n",
      "Zoe Canning - Plum Purple\n",
      "Imogen Gaunson - Bunny Tail\n",
      "Brayden Stretch - April Cross\n",
      "Jian Ts'ao - Plum Purple\n",
      "Gabriella Titheradge - Red King\n",
      "Alexis Nesbitt - Daikon\n",
      "Galeazzo Milanesi - Champion\n",
      "Eve Everingham - Daikon\n",
      "on h챗 - snow belle\n",
      "Archie Mathy - White Icicle\n",
      "Skye Reynolds - French Breakfast\n",
      "Ben Denovan - April Cross\n",
      "Pia Folliero - White Icicle\n",
      "Archie Michelides - Cherry Belle\n",
      "zane pavy - bunny tail\n",
      "Ramiro Esposito - Daikon\n",
      "Brock Eames - Daikon\n",
      "Savannah Sheehan - French Breakfast\n",
      "angus christie - french breakfast\n",
      "Dominic Tregurtha - Cherry Belle\n",
      "Molly Piguenit - Plum Purple\n",
      "matthew john - snow belle\n",
      "Koby Ledger - White Icicle\n",
      "Jasper Harper - White Icicle\n",
      "William Doyle  - French Breakfast\n",
      "Taj Maria - Sicily Giant\n",
      "Michael Elliot - April Cross\n",
      "Matthew Knibbs - Sicily Giant\n",
      "Patrick Tilly - White Icicle\n",
      "Sarah Kashiwagi - Bunny Tail\n",
      "Abbey Bouton - Champion\n",
      "Kayla Sandover - Bunny Tail\n",
      "Anna Septimus - French Breakfast\n",
      "Matthew Birch - Champion\n",
      "Mikayla Kennerley - French Breakfast\n",
      "Charli Birkbeck - Daikon\n",
      "Matilda Gullett - Champion\n",
      "Ella McLellan - April Cross\n",
      "Silvia Rossi - Plum Purple\n",
      "Chan Juan Hs체 - French Breakfast\n",
      "Oliver Aspinall -  Cherry Belle\n",
      "Timothy Baldwinson - Bunny Tail\n",
      "Li Wei Chien - Snow Belle\n",
      "Bethany Layh - French Breakfast\n",
      "Gang Hsu - April Cross\n",
      "Mikayla Brodney - Champion\n",
      "Kuan-Yin Mao - Daikon\n",
      "Elizabeth Minifie - Champion\n",
      "Sarah Band - Sicily Giant\n",
      "Tyson Kaberry - French Breakfast\n",
      "Victoria Shipp - Cherry Belle\n",
      "Henry McCorkindale - French Breakfast\n",
      "William De Satg - Snow Belle\n",
      "Skye Atkins - Cherry Belle\n",
      "Sean Hogben - Champion\n",
      "Claire Boelke - Cherry Belle\n",
      "Tristan Turley - Snow Belle\n",
      "Tyler Hansen - Champion\n",
      "Caleb Ride - Bunny Tail\n",
      "Archer Cathcart - April Cross\n",
      "Hamish Helena  - French Breakfast\n",
      "Agostino Milanesi - April Cross\n",
      "lilly wunderlich - french breakfast\n",
      "Brooke Mahomet - Sicily Giant\n",
      "Seth Bramston - Daikon\n",
      "Archer Kirwan - Cherry Belle\n",
      "Ettore Marcelo - Champion\n",
      "Blake D'Alton - Sicily Giant\n",
      "Jai Burgoyne - Bunny Tail\n",
      "Mikayla Minogue - April Cross\n",
      "Thomas Catt - April Cross\n",
      "Oscar Cocci - Daikon\n",
      "Claudia Boxall - Plum Purple\n",
      "Imogen Macaulay - Snow Belle\n",
      "Tyson Platt - Bunny Tail\n",
      "Isabelle Camden - White Icicle\n",
      "Kiara Maxted - Daikon\n",
      "Raffaella Trevisan - Daikon\n",
      "Xiang Hs체 - Plum Purple\n",
      "Hudson Greene - Bunny Tail\n",
      "Ruby Wakefield - Cherry Belle\n",
      "Matilda Macarthur-Onslow - Plum Purple\n",
      "Jasmine Fetherstonhaugh - Snow Belle\n",
      "Andrew Bower - Bunny Tail\n",
      "Olindo De Luca - Cherry Belle\n",
      "Alexis Kelynack - French Breakfast\n",
      "Amy Clunie - White Icicle\n",
      "Kang Yu - Cherry Belle\n",
      "Henry Birdseye - Snow Belle\n",
      "dominic gale - april cross\n",
      "Edward Edmond - Snow Belle\n",
      "Raul Pinto - Cherry Belle\n",
      "Laura Bath - Red King\n",
      "John Bale - Cherry Belle\n",
      "Margherita Milani - Red King\n",
      "Hudson Devine - Champion\n",
      "Jaxon Cowles - Sicily Giant\n",
      "Cameron Embley - Sicily Giant\n",
      "Laura Wawn - Cherry Belle\n",
      "Li Ming Niu - Cherry Belle\n",
      "Eden Sheehan - Cherry Belle\n",
      "Taj Bjelke-Petersen - French Breakfast\n",
      "Declan Winston - White Icicle\n",
      "Chan Chao - Red King\n",
      "mikayla hebblethwaite - sicily giant\n",
      "Tristan Monson - Cherry Belle\n",
      "Leah Ross-Watt - Plum Purple\n",
      "Hu K'ung - Daikon\n",
      "Kaitlyn Carnegie - Champion\n",
      "Victoria Brereton - Plum Purple\n",
      "Keira Toutcher - Cherry Belle\n",
      "David Morgans - Daikon\n",
      "Norma Fiorentino - Red King\n",
      "Sarah Paten - Sicily  Giant\n",
      "Zac Cowles - Sicily Giant\n",
      "Brock Fiaschi - French Breakfast\n",
      "Eliza Naylor - French Breakfast\n",
      "Imogen Raws - Red King\n",
      "Jesse Abercrombie - Snow Belle\n",
      "James Luke - White Icicle\n",
      "Riley Stewart - White Icicle\n",
      "amelia blue - white icicle\n",
      "Cameron Pearce - Red King\n",
      "Ennio DeRose - French Breakfast\n",
      "Samuel Henschke - Sicily Giant\n",
      "Blake MacFarland - Cherry Belle\n",
      "Mary Randall - Cherry Belle\n",
      "luce de luca - snow belle\n",
      "Marcus Derbyshire - Bunny Tail\n",
      "Hunter McEachern - Bunny Tail\n",
      "Jasper Gibney - French Breakfast\n",
      "Lincoln  Hoare - French Breakfast\n",
      "Sofia Donnithorne - Snow Belle\n",
      "Anthony Stuart - Snow Belle\n",
      "Hamish Yarnold - April Cross\n",
      "Lucas Schuler - Plum Purple\n",
      "Milla Garling - French Breakfast"
     ]
    },
    {
     "name": "stderr",
     "output_type": "stream",
     "text": [
      "\n",
      "radishsurvey.txt\n",
      "\n",
      "\n",
      "지정된 파일을 찾을 수 없습니다.\n",
      "다음 내용 진행 중 오류 발생: ##.\n",
      "지정된 파일을 찾을 수 없습니다.\n",
      "다음 내용 진행 중 오류 발생: 윈도우.\n"
     ]
    },
    {
     "name": "stdout",
     "output_type": "stream",
     "text": [
      "\n",
      "Abigail Wiltshire - Bunny Tail\n",
      "Zane Wreford - Snow Belle\n",
      "Sean Glew - Daikon\n",
      "Ryan Aird - Red King\n",
      "Jasper Harford - Champion \n",
      "Charlie McCabe - Bunny Tail\n",
      "Rory Evenden - White Icicle\n",
      "Ebony Florence - Snow Belle\n",
      "Flynn Poninski - Daikon\n",
      "Ebony Lawlor - Bunny Tail\n",
      "Ethan Dickson - Bunny Tail\n",
      "Xavier Howchin - Bunny Tail\n",
      "Zane Weindorfer - Cherry Belle\n",
      "Sienna Dann - Snow Belle\n",
      "Eleuterio Lombardo - White Icicle\n",
      "Tyler Makutz - Champion\n",
      "Yong Hsiao - White Icicle\n",
      "Erin Binnie - Bunny Tail\n",
      "Phoebe Barwell - Plum Purple\n",
      "Dylan Barney - French Breakfast\n",
      "Tristan Charteris - April Cross\n",
      "Sebastian Helmore - Bunny Tail\n",
      "Thomas Darcy - Bunny Tail\n",
      "Quinzia Costa - Daikon\n",
      "Da-Xia Hsiao - French Breakfast\n",
      "Grace Frayne - Sicily Giant\n",
      "Toby Queale - White Icicle\n",
      "Logan Lackey - Plum Purple\n",
      "na t'ao - french breakfast\n",
      "Callum Prentice - Plum Purple\n",
      "Levi Ferry - Sicily Giant\n",
      "Hsin Tan - April Cross\n",
      "Lara Macarthur - French Breakfast\n",
      "Scarlett Bruny - Champion\n",
      "Procopio Zito - white icicle\n",
      "Jamie Ham - Bunny Tail\n",
      "Kaitlyn Mullen - Daikon\n",
      "Cameron Landseer - April Cross\n",
      "Jasper Alfred - White Icicle\n",
      "Andrew Coventry -  Cherry Belle\n",
      "Scarlett Schonell - Plum Purple\n",
      "Mia Alngindabu - Champion\n",
      "Claire Bisdee - Daikon\n",
      "Gabriella Beale - Cherry Belle\n",
      "Rebecca Petrie - Snow Belle\n",
      "Alexander McKean - Bunny Tail\n",
      "Cody Leakey - Plum Purple\n",
      "Sam Scarfe - Sicily Giant\n",
      "Angus Langley - French Breakfast\n",
      "Shi Shen - Sicily Giant\n",
      "Park Wu - Champion\n",
      "Isabelle Finney - April Cross\n",
      "Aaron Addison - Plum Purple\n",
      "Ethan Macdougall - Champion\n",
      "cody vale - red king\n",
      "Aidan Clutterbuck - French Breakfast\n",
      "Durante Ferri - White Icicle\n",
      "eliana baresi - white icicle\n"
     ]
    }
   ],
   "source": [
    "!type radishsurvey.txt   ## 윈도우 "
   ]
  },
  {
   "cell_type": "markdown",
   "metadata": {},
   "source": [
    "## 라인 읽기"
   ]
  },
  {
   "cell_type": "markdown",
   "metadata": {},
   "source": [
    "- with open( '경로/file name' ) ~ as file 구문\n",
    "   * file : file 접근자\n",
    "   * 수행이 끝난 후에 file close를 자동으로 해준다. 편리\n",
    "- line 단위로 읽어진다.\n",
    "- strip() : 좌, 우 양쪽의 white space(공백, tab, enter 등) 제거해준다.\n",
    "   * lstrip(), rstrip()\n",
    "- split(\" - \") : \" \" 안의 내용을 구분자(delimeter)로 해서 분리해 준다.\n",
    "- 문자열 결합(concatenation)\n",
    "   * 문자열 + 문자열"
   ]
  },
  {
   "cell_type": "code",
   "execution_count": 18,
   "metadata": {},
   "outputs": [
    {
     "data": {
      "text/plain": [
       "['1', '2', '3', '4', '5']"
      ]
     },
     "execution_count": 18,
     "metadata": {},
     "output_type": "execute_result"
    }
   ],
   "source": [
    "a=\"1,2,3,4,5\"\n",
    "b=a.split(',')\n",
    "b"
   ]
  },
  {
   "cell_type": "code",
   "execution_count": 19,
   "metadata": {},
   "outputs": [
    {
     "data": {
      "text/plain": [
       "['1', '2', '3', '4', '5']"
      ]
     },
     "execution_count": 19,
     "metadata": {},
     "output_type": "execute_result"
    }
   ],
   "source": [
    "a=\"1z2z3z4z5\"\n",
    "b=a.split('z')\n",
    "b"
   ]
  },
  {
   "cell_type": "code",
   "execution_count": 20,
   "metadata": {},
   "outputs": [
    {
     "name": "stdout",
     "output_type": "stream",
     "text": [
      "Evie Pulsford voted for April Cross\n",
      "Matilda Condon voted for April Cross\n",
      "Samantha Mansell voted for Champion\n",
      "geronima trevisani voted for cherry belle\n",
      "Alexandra Shoebridge voted for Snow Belle\n",
      "Sarah Ahuia Ova voted for Snow Belle\n",
      "Emma Slattery voted for Bunny Tail\n",
      "Fabiana  Milanesi voted for Champion\n",
      "Makayla McMinn voted for Snow Belle\n",
      "Julian O'Leary voted for Sicily Giant\n",
      "Hannah Collie voted for Bunny Tail\n",
      "Toby Lundie voted for Plum Purple\n",
      "Baldo Palerma voted for Champion\n",
      "Phoebe Barwell voted for Plum Purple\n",
      "Sheng Shen voted for Champion\n",
      "Jonathan Rolph voted for Snow Belle\n",
      "Aaron Yarnold voted for Red King\n",
      "Indiana angwin voted for  Daikon\n",
      "Luke Komine voted for White Icicle\n",
      "Blake Ricardo voted for Daikon\n",
      "Mikayla Biddell voted for Daikon\n",
      "Piper Wheelwright voted for Bunny Tail\n",
      "Bailey Derrington voted for White Icicle\n",
      "Eufrosina Ferri voted for Daikon\n",
      "Madeleine Abrahams voted for Daikon\n",
      "Indiana Cowper voted for Sicily Giant\n",
      "Procopio Zito voted for Red King\n",
      "Ryan Langley voted for French Breakfast\n",
      "anthony Gairdner voted for French Breakfast\n",
      "Darcy Kayser voted for Champion\n",
      "Adelmo De Luca voted for Plum Purple\n",
      "Sienna Hovell voted for Champion\n",
      "Mary Cardell voted for April Cross\n",
      "Ebony Agnes voted for Daikon\n",
      "Lola Atkinson voted for Plum Purple\n",
      "Jonathan Walton voted for Champion\n",
      "Tristan Gwynn voted for Red King\n",
      "Jackson Longman voted for Red King\n",
      "Archer Dodds voted for April Cross\n",
      "Lilian Burne voted for French Breakfast\n",
      "Ava McNaughtan voted for April Cross\n",
      "Nate Shelley voted for Daikon\n",
      "Antonia Buccho voted for Champion\n",
      "Kaitlyn Rudduck voted for Cherry Belle\n",
      "Skye Thynne voted for Champion\n",
      "Ethan Collings voted for Plum Purple\n",
      "Finn Leverrier voted for Plum Purple\n",
      "Lee T'an voted for Plum Purple\n",
      "Tyler Forbes voted for White Icicle\n",
      "abbey dunkley voted for  plum purple\n",
      "rose stacy voted for french breakfast\n",
      "Gianfranco Cremonesi voted for White Icicle\n",
      "Grace Wentworth voted for French Breakfast\n",
      "Cooper Menkens voted for  Snow Belle\n",
      "Scarlett Macdougall voted for French Breakfast\n",
      "Fabio Pugliesi voted for Bunny Tail\n",
      "Keira Wrenfordsley voted for Red King\n",
      "Daniel Krimper voted for  Plum Purple\n",
      "Anna Deniehy voted for April Cross\n",
      "Sabrina Beneventi voted for Cherry Belle\n",
      "Oliver Potts voted for Snow Belle\n",
      "Milla Winn voted for Plum Purple\n",
      "Finn Whitworth voted for Sicily Giant\n",
      "Sophie Keynes voted for Plum Purple\n",
      "Joel Brownell voted for Plum Purple\n",
      "Jonathan Parsons voted for French Breakfast\n",
      "Amelia Ellwood voted for Snow Belle\n",
      "Lincoln Gatehouse voted for Bunny Tail\n",
      "Jin Huang voted for Daikon\n",
      "Kuan-Yin Sun voted for Champion\n",
      "Tao Hsiao voted for White Icicle\n",
      "Emily Walters voted for White Icicle\n",
      "nicholas kirby voted for french breakfast\n",
      "Hong Tsui voted for April Cross\n",
      "Mikayla Fullagar voted for Cherry Belle\n",
      "Lola Catchpole voted for April Cross\n",
      "Lelia Toscani voted for Bunny Tail\n",
      "Natasha Prout voted for Cherry Belle\n",
      "Raffaello Schiavone voted for Red King\n",
      "Erin Stephen voted for Plum Purple\n",
      "Eve Peacock voted for Daikon\n",
      "Jordan Manning voted for Sicily Giant\n",
      "Tyler Lister voted for April Cross\n",
      "brodie agnew voted for daikon\n",
      "Lincoln Hirschfeld voted for Champion\n",
      "Ciriaca Genovesi voted for Bunny Tail\n",
      "Dewei Niu voted for Snow Belle\n",
      "Fai Teng voted for Bunny Tail\n",
      "Rossana Cattaneo voted for  Snow Belle\n",
      "Isabelle Coombes voted for Daikon\n",
      "Layla Hitchcock voted for Red King\n",
      "Ashley Brigstocke voted for Red King\n",
      "Lei Tai voted for Daikon\n",
      "Victoria Humffray voted for Sicily Giant\n",
      "Jake Champ voted for Daikon\n",
      "Ben Vosper voted for Cherry Belle\n",
      "Harrison Rose voted for Red King\n",
      "Thomas Oom voted for White Icicle\n",
      "Sophie Browning voted for Red King\n",
      "Scarlett Hughes voted for Bunny Tail\n",
      "Anthony Collits voted for Champion\n",
      "Alicia Forrest voted for Sicily Giant\n",
      "Riley Leakey voted for April Cross\n",
      "Bethany Calwell voted for French Breakfast\n",
      "Leo Sheil voted for April Cross\n",
      "Kai MacMahon voted for April Cross\n",
      "Rong Kuo voted for Champion\n",
      "Stephanie Schnaars voted for White Icicle\n",
      "Bethany Bardolph voted for French Breakfast\n",
      "Guido Beneventi voted for French Breakfast\n",
      "Victoria Witt voted for Daikon\n",
      "Jun Hsiung voted for Bunny Tail\n",
      "Noah Berrick voted for Daikon\n",
      "Beato Mazzanti voted for Sicily Giant\n",
      "Anna Denning voted for White Icicle\n",
      "Sebastian George voted for Cherry Belle\n",
      "Mackenzie Andrade voted for Champion\n",
      "Sarah Joris  voted for Champion\n",
      "Joel Cassell voted for Plum Purple\n",
      "Harrison Moowattin voted for Champion\n",
      "william fenner voted for plum purple\n",
      "Madeline Corbin voted for Bunny Tail\n",
      "Sebastian Davitt voted for Champion\n",
      "Li Qin Ch'ien voted for Sicily Giant\n",
      "Owen Lea voted for Champion\n",
      "Liam Copeland voted for Champion\n",
      "Brianna Eltham voted for Sicily Giant\n",
      "Joseph Gresswell voted for Sicily Giant\n",
      "Alfonsina Marchesi voted for April Cross\n",
      "Caitlin Houlding voted for Snow Belle\n",
      "Natalie Schlapp voted for April Cross\n",
      "Shaiming Fu voted for Champion\n",
      "Lisandro Monaldo voted for Champion\n",
      "Ruby Fox voted for White Icicle\n",
      "Benjamin Rankin voted for Snow Belle\n",
      "Connor Letters voted for April Cross\n",
      "Laura Macdowell voted for Daikon\n",
      "Jake Hervey voted for April Cross\n",
      "Alyssa Batman voted for Snow Belle\n",
      "Archer Larra voted for French Breakfast\n",
      "Brayden Dixon voted for Bunny Tail\n",
      "Kuan-Yin Kuo voted for Cherry Belle\n",
      "Lucy Ley voted for Red King\n",
      "Rachele  Russo voted for Cherry Belle\n",
      "Lucy Somers voted for Daikon\n",
      "Ella Boucaut voted for Champion\n",
      "Iacopo Baresi voted for Bunny Tail\n",
      "Ali Dedman voted for White Icicle\n",
      "Victoria Edinburgh voted for French Breakfast\n",
      "Brianna Pye voted for Red King\n",
      "Joel Bruce voted for Snow Belle\n",
      "Lola Lea voted for Bunny Tail\n",
      "Zachary Burford voted for Champion\n",
      "Gabriella Bruton voted for April Cross\n",
      "Finn Dunstan voted for Cherry Belle\n",
      "Logan Truchanas voted for Red King\n",
      "beau mclarty voted for white icicle\n",
      "Carla De Luca voted for Daikon\n",
      "Taylah Reynolds voted for Champion\n",
      "Ava Musgrave voted for Bunny Tail\n",
      "Jade Grimmett voted for Bunny Tail\n",
      "Eliza Fink voted for April Cross\n",
      "Charles Tearle voted for April Cross\n",
      "Victoria Birch voted for Snow Belle\n",
      "Mackenzie Geach voted for Plum Purple\n",
      "Charles Card voted for Cherry Belle\n",
      "Olivia Warnes voted for Sicily Giant\n",
      "Jake Murdoch voted for Cherry Belle\n",
      "Brayden Massina voted for April Cross\n",
      "Sarah Milford voted for White Icicle\n",
      "Lilian Pike voted for French Breakfast\n",
      "Blake Dakin voted for Champion\n",
      "Chi Hsiung voted for April Cross\n",
      "Ludovica Siciliano voted for Sicily Giant\n",
      "Rose Leahy voted for French Breakfast\n",
      "Nicodemo Udinese voted for Bunny Tail\n",
      "Amy Harriman voted for Sicily Giant\n",
      "Harrison Macgeorge voted for Red King\n",
      "Charles Mockridge voted for Cherry Belle\n",
      "Victoria Hardie  voted for Sicily Giant\n",
      "Jake Hambly voted for Sicily Giant\n",
      "Bartolomeo Mancini voted for French Breakfast\n",
      "Maya Shackleton voted for Snow Belle\n",
      "Hudson Dodgshun voted for White Icicle\n",
      "Scarlett Sullivan voted for Snow Belle\n",
      "Noah Doyne voted for April cross\n",
      "Aidan Santo voted for Bunny Tail\n",
      "kai emmett voted for bunny tail\n",
      "Christopher Gillan voted for Daikon\n",
      "Lara Salting voted for White Icicle\n",
      "Alfonso Costa voted for Daikon\n",
      "Mackenzie Knatchbull voted for Red King\n",
      "Oliver Beit voted for Plum Purple\n",
      "Thomas Muecke voted for French Breakfast\n",
      "Sabrina Li Fonti voted for Bunny Tail\n",
      "Jasmine Brake voted for Snow Belle\n",
      "Sienna Bonnor voted for Daikon\n",
      "Isabelle Llewelyn voted for Daikon\n",
      "Amelie Farber voted for White Icicle\n",
      "Keira Horner voted for Red King\n",
      "Annabelle Colechin voted for French Breakfast\n",
      "George Schlunke voted for Daikon\n",
      "Hugo Stretch voted for French Breakfast\n",
      "Isabella Pardey voted for White Icicle\n",
      "Toby Docker voted for Red King\n",
      "Caitlyn Hotchin voted for French Breakfast\n",
      "Samuel Ansell voted for Sicily Giant\n",
      "Prospero Milano voted for Champion\n",
      "Zhi Chin voted for White Icicle\n",
      "nate brooker voted for daikon\n",
      "Elizabeth McNab voted for April Cross\n",
      "Amelie Torpy voted for Champion\n",
      "Audrey Bock voted for Bunny Tail\n",
      "Abbey Dawson voted for Plum Purple\n",
      "Hugo Coppleson voted for Daikon\n",
      "Lilly Tait voted for Red King\n",
      "Archer Frederick voted for April Cross\n",
      "Alvisio Mazzi voted for April Cross\n",
      "Chloe  MacLaurin voted for Champion\n",
      "Georgia Bruny voted for April Cross\n",
      "Caitlyn Mullah voted for White Icicle\n",
      "Gang Chia voted for Red King\n",
      "Lauren Pennefather voted for French Breakfast\n",
      "Fang Ch'eng voted for Cherry Belle\n",
      "Summer Withers voted for Snow Belle\n",
      "Kayla Sievier voted for Snow Belle\n",
      "Edoardo Sal voted for Champion\n",
      "Layla Fossey voted for April Cross\n",
      "Ella Weston voted for Champion\n",
      "Patrick Camidge voted for French Breakfast\n",
      "Erin Stretton voted for French Breakfast\n",
      "Poppy Duggan voted for Champion\n",
      "Daniel Hogben voted for Daikon\n",
      "Wan Tsai voted for Snow Belle\n",
      "Olimpia Udinesi voted for April Cross\n",
      "Xue Fang Fu voted for Daikon\n",
      "Alyssa McInnes voted for Daikon\n",
      "Connor Morphett voted for Plum Purple\n",
      "Nathan Trott voted for French Breakfast\n",
      "Brock Brunker voted for Bunny Tail\n",
      "Hayden O'Connell voted for French Breakfast\n",
      "James  Larra voted for April Cross\n",
      "Eva Geiger voted for Plum Purple\n",
      "Taj Shackell voted for White Icicle\n",
      "Eliza O'Haran voted for Champion\n",
      "Aidan Dore voted for April Cross\n",
      "Aiden Reginald voted for Plum Purple\n",
      "Bruna Rizzo voted for Snow Belle\n",
      "Alex Wemyss voted for April Cross\n",
      "claudia westgarth voted for daikon\n",
      "Jett Glynde voted for Plum Purple\n",
      "Brooke Huffer voted for Daikon\n",
      "Stephanie Synan voted for Sicily Giant\n",
      "Salvatore Sagese voted for French Breakfast\n",
      "Edgardo Mazzanti voted for Daikon\n",
      "Brodie De Lissa voted for Cherry Belle\n",
      "Cai Pan voted for Sicily Giant\n",
      "Caitlyn Ridgeway voted for Sicily Giant\n",
      "Mason Dymock voted for Plum Purple\n",
      "Oliviero Lucchesi voted for Bunny Tail\n",
      "Antonietta Baresi voted for Cherry Belle\n",
      "Abbey Cousens voted for Daikon\n",
      "Hui Hsiung voted for Cherry Belle\n",
      "Marcus Brown voted for Sicily Giant\n",
      "James Poupinel voted for Daikon\n",
      "Lucas Tomkinson voted for Champion\n",
      "Xin Qian Shih voted for White Icicle\n",
      "Abigail Clark voted for White Icicle\n",
      "Archie Gilfillan voted for French Breakfast\n",
      "maya woolcock voted for april cross\n",
      "Wei Hsiao voted for Daikon\n",
      "Lauren Rosevear voted for Red King\n",
      "Eve Gargett voted for Snow Belle\n",
      "Cristian Pisano voted for Champion\n",
      "Bianca Knopwood voted for White Icicle\n",
      "Alyssa Loewe voted for Daikon\n",
      "Feng Li voted for French Breakfast\n",
      "Yi Min Chu voted for Plum Purple\n",
      "Aiden Tasman voted for Red King\n",
      "corinna lucchese voted for champion\n",
      "Taylah Shore voted for Cherry Belle\n",
      "nilde beneventi voted for french breakfast\n",
      "edward greener voted for bunny tail\n",
      "Nate Lodewyckx voted for Sicily Giant\n",
      "Mariam Langridge voted for Red King\n",
      "Indiana Cory voted for Champion\n",
      "David Rees voted for April Cross\n",
      "Daniel Appleton voted for Red King\n",
      "Luke Leeper voted for Red King\n",
      "Toby Spring voted for French Breakfast\n",
      "Cody Laffer voted for Red King\n",
      "Lilian Woodriff voted for Plum Purple\n",
      "hudson crane voted for sicily giant\n",
      "Anthony Wand voted for Bunny Tail\n",
      "Dean Mattner voted for Red King\n",
      "Lucinda Howarde voted for Sicily Giant\n",
      "Caleb Clancy voted for Red King\n",
      "Mia Legg voted for White Icicle\n",
      "Isla Mehaffey voted for Sicily Giant\n",
      "Cooper Lasseter voted for April Cross\n",
      "Indiana Scott voted for Cherry Belle\n",
      "Kaitlyn Kay voted for French Breakfast\n",
      "Abbey Aronson voted for April Cross\n",
      "Madeleine Hartung voted for Snow Belle\n",
      "Abbey Tyas voted for Red King\n",
      "Jacob Spowers voted for Snow Belle\n",
      "Brodie Fraser voted for French Breakfast\n",
      "Ivo Lucchesi voted for Champion\n",
      "Harry Wormald voted for French Breakfast\n",
      "Lilian Macquarie voted for White Icicle\n",
      "Chelsea Warby voted for Bunny Tail\n",
      "Eugenio Pagnotto voted for Sicily Giant\n",
      "Michael Hargrave voted for Cherry Belle\n",
      "Leda Romani voted for April Cross\n",
      "Christopher Walton voted for Champion\n",
      "Zachary Bass voted for White Icicle\n",
      "jorja franklyn voted for white icicle\n",
      "Makayla Sutton voted for Plum Purple\n",
      "Shu Fang Tsou voted for French Breakfast\n",
      "Evie Carey voted for Bunny Tail\n",
      "Alannah Bleakley voted for Bunny Tail\n",
      "Alma Longo voted for Cherry Belle\n",
      "Abbey Garvin voted for Snow Belle\n",
      "Isabella Van De Velde voted for Plum Purple\n",
      "scarlett price voted for april cross\n",
      "Beau Hauslaib voted for Champion\n",
      "Isabelle Mathew voted for Sicily Giant\n",
      "Laura Callinan voted for Cherry Belle\n",
      "Cody Le Rennetel voted for French Breakfast\n",
      "Rachel Luke voted for Snow Belle\n",
      "Tristan Glynde voted for Snow Belle\n",
      "Qiao Tien voted for Bunny Tail\n",
      "Alana Meares voted for Red King\n",
      "Xiao Chen Chiang voted for Sicily Giant\n",
      "Jack Finlay voted for Cherry Belle\n",
      "Jaxon Keen  voted for Plum Purple\n",
      "Jordan Catani voted for Plum Purple\n",
      "Piera Trevisan voted for Red King\n",
      "Bailey Mussen voted for Bunny Tail\n",
      "Hayley Coverdale voted for White Icicle\n",
      "Sophie Eipper voted for Snow Belle\n",
      "Beata Endrizzi voted for Daikon\n",
      "David Moynihan voted for White Icicle\n",
      "Andrew Martens voted for French Breakfast\n",
      "Nate Higgs voted for Red King\n",
      "Isaac Banks voted for Snow Belle\n",
      "Xavier Sligo voted for Champion\n",
      "Nathan Aird  voted for Plum Purple\n",
      "Cooper Monk voted for Bunny Tail\n",
      "Kayla Kinsella voted for Champion\n",
      "Sean Maclurcan voted for Sicily Giant\n",
      "Jett Faucett voted for April Cross\n",
      "Koby Mary voted for Red King\n",
      "Lok Fan voted for Champion\n",
      "Liam Burn voted for French Breakfast\n",
      "Ryan Skeats voted for Snow Belle\n",
      "Harrison Barlee voted for Cherry Belle\n",
      "Marcus South voted for Champion\n",
      "Emily Kumm voted for  White Icicle\n",
      "Tristan Lack voted for Cherry Belle\n",
      "Rebecca Godfrey voted for Red King\n",
      "Bailey Randell voted for Red King\n",
      "Emma Slater voted for Bunny Tail\n",
      "Ellie Eaton voted for Sicily Giant\n",
      "Hamish Kevin voted for Sicily Giant\n",
      "Bella Lyttle voted for Bunny Tail\n",
      "Guang Lo voted for April Cross\n",
      "Jai Keith voted for Daikon\n",
      "Lucinda Emanuel voted for Plum Purple\n",
      "Tayla English voted for Plum Purple\n",
      "Eden Petchy voted for Daikon\n",
      "Lee Chen voted for April Cross\n",
      "Angus De Mestre voted for White Icicle\n",
      "Maya Huish voted for Snow Belle\n",
      "Emily Plante voted for White Icicle\n",
      "Connor Fairbridge voted for Bunny Tail\n",
      "Lara Cawker voted for Champion\n",
      "Blanda Panicucci voted for Bunny Tail\n",
      "Napoleone Marcelo voted for Champion\n",
      "Georgia Gillen voted for Snow Belle\n",
      "Giselda Napolitano voted for French Breakfast\n",
      "Anthony Hugo voted for Red King\n",
      "Oscar Saltau voted for April Cross\n",
      "Ashton Pearce voted for Daikon\n",
      "Kiara Maxwell-Mahon voted for White Icicle\n",
      "Sebastian Ball voted for French Breakfast\n",
      "Anna Howarde voted for Bunny Tail\n",
      "Lauren Nisbet voted for Plum Purple\n",
      "Patrick Porteus voted for Bunny Tail\n",
      "ling tuan voted for Red King\n",
      "Park Ch'en voted for Sicily Giant\n",
      "Yi Tseng voted for French Breakfast\n",
      "Angelina Dangar voted for Snow Belle\n",
      "Carolina Cattaneo voted for Snow Belle\n",
      "Sean Tait voted for Snow Belle\n",
      "Alex Falk voted for White Icicle\n",
      "oliver thirkell voted for french breakfast\n",
      "Jesse Fairley voted for Champion\n",
      "Benito Cocci voted for Snow Belle\n",
      "Laura Samuels voted for Champion\n",
      "Kuan-Yin Tao voted for Cherry Belle\n",
      "Shi She voted for Champion\n",
      "Isabella Hoffnung voted for April Cross\n",
      "George Carandini voted for White Icicle\n",
      "Sarah Bindi voted for French Breakfast\n",
      "Andrew Quick voted for April Cross\n",
      "Giosu챔 Romano voted for Champion\n",
      "Eva Ruth voted for Plum Purple\n",
      "Koby Gabriel voted for Champion\n",
      "Jayden Josephson voted for April Cross\n",
      "Mafalda Marchesi voted for Snow Belle\n",
      "Gabrielle Porteus voted for Daikon\n",
      "Dylan Synnot voted for Red King\n",
      "Brooke Kisch voted for Bunny Tail\n",
      "Quintilia Trentini voted for Bunny Tail\n",
      "Taj Moonlight voted for Plum Purple\n",
      "Ava Sorell voted for Bunny Tail\n",
      "Kate Buchanan voted for Sicily Giant\n",
      "Stella Inwood voted for Cherry Belle\n",
      "Cody Glauert voted for Snow Belle\n",
      "Callimaco Lombardi voted for Champion\n",
      "ella irving voted for cherry belle\n",
      "Guan-yin Hsiao voted for Red King\n",
      "alicia muscio voted for april cross\n",
      "Alana Sturdee voted for Champion\n",
      "Makayla Fairbairn voted for White Icicle\n",
      "Kaitlyn Collings voted for Bunny Tail\n",
      "Alexis Le Hunte voted for Champion\n",
      "lilian andrade voted for bunny tail\n",
      "Alannah Housley voted for Bunny Tail\n",
      "Rose Peeler voted for Champion\n",
      "Yue Wan Yeh voted for White Icicle\n",
      "Evie Langwell voted for Snow Belle\n",
      "Zoe Jasprizza voted for Red King\n",
      "Ivo Sagese voted for April Cross\n",
      "Rory Springthorpe voted for Snow Belle\n",
      "hannah gabriel voted for red king\n",
      "Jonathan Paten voted for Bunny Tail\n",
      "Jessica Rapke voted for Sicily Giant\n",
      "Jake Sterne voted for Daikon\n",
      "Lola Mashman voted for Bunny Tail\n",
      "Chan Yen voted for Cherry Belle\n",
      "Timothy Beeton voted for White Icicle\n",
      "Joseph Hill voted for Daikon\n",
      "Luke Gye voted for Plum Purple\n",
      "Giuseppe Manna voted for Sicily Giant\n",
      "Matilda Wardlaw voted for Red King\n",
      "Hannah Dibbs voted for Plum Purple\n",
      "Xavier Truman voted for French Breakfast\n",
      "Emma Sodersten voted for April Cross\n",
      "Blake Sodersten voted for French Breakfast\n",
      "Andrew Schwarz voted for Cherry Belle\n",
      "Owen Montgomery voted for Snow Belle\n",
      "Blake Hurst voted for White Icicle\n",
      "Brayden Brill voted for Cherry Belle\n",
      "Keira Strzelecki voted for Champion\n",
      "Zhen Juan Tsai voted for White Icicle\n",
      "Mulan Kung voted for Red King\n",
      "Clorinda Pugliesi voted for Champion\n",
      "Abbey Strzelecki voted for French Breakfast\n",
      "Andrew Howitt voted for April Cross\n",
      "Sebastian Langford voted for Cherry  Belle\n",
      "hayley Hinchcliffe voted for Cherry Belle\n",
      "Ebony Anton voted for Sicily Giant\n",
      "Seth Reginald voted for April Cross\n",
      "Beau Gosling voted for Plum Purple\n",
      "Christopher Moss voted for White Icicle\n",
      "laura uhr voted for red king\n",
      "Jamie Faithful voted for  Red King\n",
      "Isaac Tennyson voted for Daikon\n",
      "Gemma Norton voted for  Sicily Giant\n",
      "Matilda Madden voted for Red King\n",
      "Azeglio Napolitano voted for Red King\n",
      "David Tomlinson voted for Bunny Tail\n",
      "Christian Morris voted for Champion\n",
      "Amy Goulburn voted for April Cross\n",
      "Christopher Clunies voted for April Cross\n",
      "annabelle armytage voted for daikon\n",
      "Hunter Connely voted for Snow Belle\n",
      "Summer Stenhouse voted for April Cross\n",
      "Alicia Farmer voted for White Icicle\n",
      "Charlotte Slattery voted for Red King\n",
      "Georgia Jessop voted for Cherry Belle\n",
      "Abby Metters voted for Champion\n",
      "Madeleine Behan voted for Snow Belle\n",
      "Hayley Kernot voted for Plum Purple\n",
      "Ubaldo Trevisani voted for Champion\n",
      "Annabelle Scarfe voted for Cherry Belle\n",
      "Flynn Weingarth voted for Sicily Giant\n",
      "Indiana Keast voted for April Cross\n",
      "Wang Tien voted for French Breakfast\n",
      "Elijah Kingsbury voted for Plum Purple\n",
      "henry wright voted for sicily giant\n",
      "Meng Ni voted for Snow Belle\n",
      "Sara Coffill voted for Sicily Giant\n",
      "Giusy Lombardi voted for Plum  Purple\n",
      "Egidio Mancini voted for Sicily Giant\n",
      "Bethany Macfarlan voted for Bunny Tail\n",
      "Alexis Cowlishaw voted for Bunny Tail\n",
      "Skye Garvin voted for April Cross\n",
      "Abbey Rivett voted for Snow Belle\n",
      "Mikayla Woollacott voted for Sicily Giant\n",
      "Abbey Cochran voted for Daikon\n",
      "Jasmine Baughan voted for White Icicle\n",
      "Da-Xia Liang voted for April Cross\n",
      "Dominic Nangle voted for White Icicle\n",
      "Jesse Jury voted for Sicily Giant\n",
      "Ruby Elias voted for Daikon\n",
      "David Read voted for Bunny Tail\n",
      "Yue Yan T'ang voted for April Cross\n",
      "Qiang Tsui voted for Cherry Belle\n",
      "Grace Parkinson voted for Snow Belle\n",
      "Yue Yan Hu voted for White Icicle\n",
      "Adele Buccho voted for White Icicle\n",
      "Imogen Gertrude voted for Bunny Tail\n",
      "Kate Cyril voted for April Cross\n",
      "Zoe Canning voted for Plum Purple\n",
      "Imogen Gaunson voted for Bunny Tail\n",
      "Brayden Stretch voted for April Cross\n",
      "Jian Ts'ao voted for Plum Purple\n",
      "Gabriella Titheradge voted for Red King\n",
      "Alexis Nesbitt voted for Daikon\n",
      "Galeazzo Milanesi voted for Champion\n",
      "Eve Everingham voted for Daikon\n",
      "on h챗 voted for snow belle\n",
      "Archie Mathy voted for White Icicle\n",
      "Skye Reynolds voted for French Breakfast\n",
      "Ben Denovan voted for April Cross\n",
      "Pia Folliero voted for White Icicle\n",
      "Archie Michelides voted for Cherry Belle\n",
      "zane pavy voted for bunny tail\n",
      "Ramiro Esposito voted for Daikon\n",
      "Brock Eames voted for Daikon\n",
      "Savannah Sheehan voted for French Breakfast\n",
      "angus christie voted for french breakfast\n",
      "Dominic Tregurtha voted for Cherry Belle\n",
      "Molly Piguenit voted for Plum Purple\n",
      "matthew john voted for snow belle\n",
      "Koby Ledger voted for White Icicle\n",
      "Jasper Harper voted for White Icicle\n",
      "William Doyle  voted for French Breakfast\n",
      "Taj Maria voted for Sicily Giant\n",
      "Michael Elliot voted for April Cross\n",
      "Matthew Knibbs voted for Sicily Giant\n",
      "Patrick Tilly voted for White Icicle\n",
      "Sarah Kashiwagi voted for Bunny Tail\n",
      "Abbey Bouton voted for Champion\n",
      "Kayla Sandover voted for Bunny Tail\n",
      "Anna Septimus voted for French Breakfast\n",
      "Matthew Birch voted for Champion\n",
      "Mikayla Kennerley voted for French Breakfast\n",
      "Charli Birkbeck voted for Daikon\n",
      "Matilda Gullett voted for Champion\n",
      "Ella McLellan voted for April Cross\n",
      "Silvia Rossi voted for Plum Purple\n",
      "Chan Juan Hs체 voted for French Breakfast\n",
      "Oliver Aspinall voted for  Cherry Belle\n",
      "Timothy Baldwinson voted for Bunny Tail\n",
      "Li Wei Chien voted for Snow Belle\n",
      "Bethany Layh voted for French Breakfast\n",
      "Gang Hsu voted for April Cross\n",
      "Mikayla Brodney voted for Champion\n",
      "Kuan-Yin Mao voted for Daikon\n",
      "Elizabeth Minifie voted for Champion\n",
      "Sarah Band voted for Sicily Giant\n",
      "Tyson Kaberry voted for French Breakfast\n",
      "Victoria Shipp voted for Cherry Belle\n",
      "Henry McCorkindale voted for French Breakfast\n",
      "William De Satg voted for Snow Belle\n",
      "Skye Atkins voted for Cherry Belle\n",
      "Sean Hogben voted for Champion\n",
      "Claire Boelke voted for Cherry Belle\n",
      "Tristan Turley voted for Snow Belle\n",
      "Tyler Hansen voted for Champion\n",
      "Caleb Ride voted for Bunny Tail\n",
      "Archer Cathcart voted for April Cross\n",
      "Hamish Helena  voted for French Breakfast\n",
      "Agostino Milanesi voted for April Cross\n",
      "lilly wunderlich voted for french breakfast\n",
      "Brooke Mahomet voted for Sicily Giant\n",
      "Seth Bramston voted for Daikon\n",
      "Archer Kirwan voted for Cherry Belle\n",
      "Ettore Marcelo voted for Champion\n",
      "Blake D'Alton voted for Sicily Giant\n",
      "Jai Burgoyne voted for Bunny Tail\n",
      "Mikayla Minogue voted for April Cross\n",
      "Thomas Catt voted for April Cross\n",
      "Oscar Cocci voted for Daikon\n",
      "Claudia Boxall voted for Plum Purple\n",
      "Imogen Macaulay voted for Snow Belle\n",
      "Tyson Platt voted for Bunny Tail\n",
      "Isabelle Camden voted for White Icicle\n",
      "Kiara Maxted voted for Daikon\n",
      "Raffaella Trevisan voted for Daikon\n",
      "Xiang Hs체 voted for Plum Purple\n",
      "Hudson Greene voted for Bunny Tail\n",
      "Ruby Wakefield voted for Cherry Belle\n",
      "Matilda Macarthur-Onslow voted for Plum Purple\n",
      "Jasmine Fetherstonhaugh voted for Snow Belle\n",
      "Andrew Bower voted for Bunny Tail\n",
      "Olindo De Luca voted for Cherry Belle\n",
      "Alexis Kelynack voted for French Breakfast\n",
      "Amy Clunie voted for White Icicle\n",
      "Kang Yu voted for Cherry Belle\n",
      "Henry Birdseye voted for Snow Belle\n",
      "dominic gale voted for april cross\n",
      "Edward Edmond voted for Snow Belle\n",
      "Raul Pinto voted for Cherry Belle\n",
      "Laura Bath voted for Red King\n",
      "John Bale voted for Cherry Belle\n",
      "Margherita Milani voted for Red King\n",
      "Hudson Devine voted for Champion\n",
      "Jaxon Cowles voted for Sicily Giant\n",
      "Cameron Embley voted for Sicily Giant\n",
      "Laura Wawn voted for Cherry Belle\n",
      "Li Ming Niu voted for Cherry Belle\n",
      "Eden Sheehan voted for Cherry Belle\n",
      "Taj Bjelke-Petersen voted for French Breakfast\n",
      "Declan Winston voted for White Icicle\n",
      "Chan Chao voted for Red King\n",
      "mikayla hebblethwaite voted for sicily giant\n",
      "Tristan Monson voted for Cherry Belle\n",
      "Leah Ross-Watt voted for Plum Purple\n",
      "Hu K'ung voted for Daikon\n",
      "Kaitlyn Carnegie voted for Champion\n",
      "Victoria Brereton voted for Plum Purple\n",
      "Keira Toutcher voted for Cherry Belle\n",
      "David Morgans voted for Daikon\n",
      "Norma Fiorentino voted for Red King\n",
      "Sarah Paten voted for Sicily  Giant\n",
      "Zac Cowles voted for Sicily Giant\n",
      "Brock Fiaschi voted for French Breakfast\n",
      "Eliza Naylor voted for French Breakfast\n",
      "Imogen Raws voted for Red King\n",
      "Jesse Abercrombie voted for Snow Belle\n",
      "James Luke voted for White Icicle\n",
      "Riley Stewart voted for White Icicle\n",
      "amelia blue voted for white icicle\n",
      "Cameron Pearce voted for Red King\n",
      "Ennio DeRose voted for French Breakfast\n",
      "Samuel Henschke voted for Sicily Giant\n",
      "Blake MacFarland voted for Cherry Belle\n",
      "Mary Randall voted for Cherry Belle\n",
      "luce de luca voted for snow belle\n",
      "Marcus Derbyshire voted for Bunny Tail\n",
      "Hunter McEachern voted for Bunny Tail\n",
      "Jasper Gibney voted for French Breakfast\n",
      "Lincoln  Hoare voted for French Breakfast\n",
      "Sofia Donnithorne voted for Snow Belle\n",
      "Anthony Stuart voted for Snow Belle\n",
      "Hamish Yarnold voted for April Cross\n",
      "Lucas Schuler voted for Plum Purple\n",
      "Milla Garling voted for French Breakfast\n",
      "Abigail Wiltshire voted for Bunny Tail\n",
      "Zane Wreford voted for Snow Belle\n",
      "Sean Glew voted for Daikon\n",
      "Ryan Aird voted for Red King\n",
      "Jasper Harford voted for Champion\n",
      "Charlie McCabe voted for Bunny Tail\n",
      "Rory Evenden voted for White Icicle\n",
      "Ebony Florence voted for Snow Belle\n",
      "Flynn Poninski voted for Daikon\n",
      "Ebony Lawlor voted for Bunny Tail\n",
      "Ethan Dickson voted for Bunny Tail\n",
      "Xavier Howchin voted for Bunny Tail\n",
      "Zane Weindorfer voted for Cherry Belle\n",
      "Sienna Dann voted for Snow Belle\n",
      "Eleuterio Lombardo voted for White Icicle\n",
      "Tyler Makutz voted for Champion\n",
      "Yong Hsiao voted for White Icicle\n",
      "Erin Binnie voted for Bunny Tail\n",
      "Phoebe Barwell voted for Plum Purple\n",
      "Dylan Barney voted for French Breakfast\n",
      "Tristan Charteris voted for April Cross\n",
      "Sebastian Helmore voted for Bunny Tail\n",
      "Thomas Darcy voted for Bunny Tail\n",
      "Quinzia Costa voted for Daikon\n",
      "Da-Xia Hsiao voted for French Breakfast\n",
      "Grace Frayne voted for Sicily Giant\n",
      "Toby Queale voted for White Icicle\n",
      "Logan Lackey voted for Plum Purple\n",
      "na t'ao voted for french breakfast\n",
      "Callum Prentice voted for Plum Purple\n",
      "Levi Ferry voted for Sicily Giant\n",
      "Hsin Tan voted for April Cross\n",
      "Lara Macarthur voted for French Breakfast\n",
      "Scarlett Bruny voted for Champion\n",
      "Procopio Zito voted for white icicle\n",
      "Jamie Ham voted for Bunny Tail\n",
      "Kaitlyn Mullen voted for Daikon\n",
      "Cameron Landseer voted for April Cross\n",
      "Jasper Alfred voted for White Icicle\n",
      "Andrew Coventry voted for  Cherry Belle\n",
      "Scarlett Schonell voted for Plum Purple\n",
      "Mia Alngindabu voted for Champion\n",
      "Claire Bisdee voted for Daikon\n",
      "Gabriella Beale voted for Cherry Belle\n",
      "Rebecca Petrie voted for Snow Belle\n",
      "Alexander McKean voted for Bunny Tail\n",
      "Cody Leakey voted for Plum Purple\n",
      "Sam Scarfe voted for Sicily Giant\n",
      "Angus Langley voted for French Breakfast\n",
      "Shi Shen voted for Sicily Giant\n",
      "Park Wu voted for Champion\n",
      "Isabelle Finney voted for April Cross\n",
      "Aaron Addison voted for Plum Purple\n",
      "Ethan Macdougall voted for Champion\n",
      "cody vale voted for red king\n",
      "Aidan Clutterbuck voted for French Breakfast\n",
      "Durante Ferri voted for White Icicle\n",
      "eliana baresi voted for white icicle\n"
     ]
    }
   ],
   "source": [
    "with open(\"./radishsurvey.txt\") as file:\n",
    "    for line in file:       \n",
    "        line = line.strip()\n",
    "        parts = line.split(\" - \")\n",
    "        name = parts[0]\n",
    "        vote = parts[1]\n",
    "        print(name + \" voted for \" + vote)"
   ]
  },
  {
   "cell_type": "code",
   "execution_count": 21,
   "metadata": {},
   "outputs": [
    {
     "data": {
      "text/plain": [
       "'eliana baresi - white icicle'"
      ]
     },
     "execution_count": 21,
     "metadata": {},
     "output_type": "execute_result"
    }
   ],
   "source": [
    "line = line.strip()\n",
    "line"
   ]
  },
  {
   "cell_type": "code",
   "execution_count": 22,
   "metadata": {},
   "outputs": [
    {
     "data": {
      "text/plain": [
       "['eliana baresi', 'white icicle']"
      ]
     },
     "execution_count": 22,
     "metadata": {},
     "output_type": "execute_result"
    }
   ],
   "source": [
    "parts = line.split(\" - \")\n",
    "parts"
   ]
  },
  {
   "cell_type": "code",
   "execution_count": 23,
   "metadata": {},
   "outputs": [
    {
     "data": {
      "text/plain": [
       "['1', '2', '3', '4', '5']"
      ]
     },
     "execution_count": 23,
     "metadata": {},
     "output_type": "execute_result"
    }
   ],
   "source": [
    "\"1,2,3,4,5\".split(\",\")"
   ]
  },
  {
   "cell_type": "markdown",
   "metadata": {},
   "source": [
    "- split() : 구분할 내용이 없으면, \n",
    "   * 오류없이 원래 데이터를 그대로 반환"
   ]
  },
  {
   "cell_type": "code",
   "execution_count": 24,
   "metadata": {},
   "outputs": [
    {
     "data": {
      "text/plain": [
       "['cheese']"
      ]
     },
     "execution_count": 24,
     "metadata": {},
     "output_type": "execute_result"
    }
   ],
   "source": [
    "\"cheese\".split(\",\")"
   ]
  },
  {
   "cell_type": "code",
   "execution_count": 25,
   "metadata": {},
   "outputs": [
    {
     "data": {
      "text/plain": [
       "['Jin Li', 'White', 'Icicle']"
      ]
     },
     "execution_count": 25,
     "metadata": {},
     "output_type": "execute_result"
    }
   ],
   "source": [
    "\"Jin Li - White - Icicle\".split(\" - \")"
   ]
  },
  {
   "cell_type": "code",
   "execution_count": 26,
   "metadata": {},
   "outputs": [
    {
     "data": {
      "text/plain": [
       "['Jin Li ', ' White ', ' Icicle']"
      ]
     },
     "execution_count": 26,
     "metadata": {},
     "output_type": "execute_result"
    }
   ],
   "source": [
    "\"Jin Li - White - Icicle\".split(\"-\")"
   ]
  },
  {
   "cell_type": "markdown",
   "metadata": {},
   "source": [
    "- 특정 조건을 만족하는 경우만 선택하여 처리하는 program 작성\n",
    "   * 예) 특정 야채(White Icicle)에 투표한 경우만 출력"
   ]
  },
  {
   "cell_type": "code",
   "execution_count": 28,
   "metadata": {},
   "outputs": [
    {
     "name": "stdout",
     "output_type": "stream",
     "text": [
      "Luke Komine likes White Icicle!\n",
      "Bailey Derrington likes White Icicle!\n",
      "Tyler Forbes likes White Icicle!\n",
      "Gianfranco Cremonesi likes White Icicle!\n",
      "Tao Hsiao likes White Icicle!\n",
      "Emily Walters likes White Icicle!\n",
      "Thomas Oom likes White Icicle!\n",
      "Stephanie Schnaars likes White Icicle!\n",
      "Anna Denning likes White Icicle!\n",
      "Ruby Fox likes White Icicle!\n",
      "Ali Dedman likes White Icicle!\n",
      "Sarah Milford likes White Icicle!\n",
      "Hudson Dodgshun likes White Icicle!\n",
      "Lara Salting likes White Icicle!\n",
      "Amelie Farber likes White Icicle!\n",
      "Isabella Pardey likes White Icicle!\n",
      "Zhi Chin likes White Icicle!\n",
      "Caitlyn Mullah likes White Icicle!\n",
      "Taj Shackell likes White Icicle!\n",
      "Xin Qian Shih likes White Icicle!\n",
      "Abigail Clark likes White Icicle!\n",
      "Bianca Knopwood likes White Icicle!\n",
      "Mia Legg likes White Icicle!\n",
      "Lilian Macquarie likes White Icicle!\n",
      "Zachary Bass likes White Icicle!\n",
      "Hayley Coverdale likes White Icicle!\n",
      "David Moynihan likes White Icicle!\n",
      "Angus De Mestre likes White Icicle!\n",
      "Emily Plante likes White Icicle!\n",
      "Kiara Maxwell-Mahon likes White Icicle!\n",
      "Alex Falk likes White Icicle!\n",
      "George Carandini likes White Icicle!\n",
      "Makayla Fairbairn likes White Icicle!\n",
      "Yue Wan Yeh likes White Icicle!\n",
      "Timothy Beeton likes White Icicle!\n",
      "Blake Hurst likes White Icicle!\n",
      "Zhen Juan Tsai likes White Icicle!\n",
      "Christopher Moss likes White Icicle!\n",
      "Alicia Farmer likes White Icicle!\n",
      "Jasmine Baughan likes White Icicle!\n",
      "Dominic Nangle likes White Icicle!\n",
      "Yue Yan Hu likes White Icicle!\n",
      "Adele Buccho likes White Icicle!\n",
      "Archie Mathy likes White Icicle!\n",
      "Pia Folliero likes White Icicle!\n",
      "Koby Ledger likes White Icicle!\n",
      "Jasper Harper likes White Icicle!\n",
      "Patrick Tilly likes White Icicle!\n",
      "Isabelle Camden likes White Icicle!\n",
      "Amy Clunie likes White Icicle!\n",
      "Declan Winston likes White Icicle!\n",
      "James Luke likes White Icicle!\n",
      "Riley Stewart likes White Icicle!\n",
      "Rory Evenden likes White Icicle!\n",
      "Eleuterio Lombardo likes White Icicle!\n",
      "Yong Hsiao likes White Icicle!\n",
      "Toby Queale likes White Icicle!\n",
      "Jasper Alfred likes White Icicle!\n",
      "Durante Ferri likes White Icicle!\n"
     ]
    }
   ],
   "source": [
    "with open(\"./radishsurvey.txt\") as file:\n",
    "    for line in file:\n",
    "       line = line.strip()\n",
    "       parts = line.split(\" - \")\n",
    "       name, vote = parts\n",
    "       if vote == \"White Icicle\":\n",
    "          print(name + \" likes White Icicle!\")"
   ]
  },
  {
   "cell_type": "markdown",
   "metadata": {},
   "source": [
    "- 투표 수를 얻는 방법"
   ]
  },
  {
   "cell_type": "code",
   "execution_count": 29,
   "metadata": {},
   "outputs": [
    {
     "name": "stdout",
     "output_type": "stream",
     "text": [
      "Counting votes for White Icicle...\n",
      "59\n"
     ]
    }
   ],
   "source": [
    "print(\"Counting votes for White Icicle...\")\n",
    "count = 0\n",
    "with open(\"./radishsurvey.txt\") as file:\n",
    "    for line in file:       \n",
    "        line = line.strip()\n",
    "        name, vote = line.split(\" - \")\n",
    "        if vote == \"White Icicle\":\n",
    "            count = count + 1\n",
    "print(count)"
   ]
  },
  {
   "cell_type": "markdown",
   "metadata": {},
   "source": [
    "- split() 결과를 여러 변수로 나누어서 받을 수 있다."
   ]
  },
  {
   "cell_type": "code",
   "execution_count": 30,
   "metadata": {
    "scrolled": true
   },
   "outputs": [
    {
     "name": "stdout",
     "output_type": "stream",
     "text": [
      "Jarlsberg\n"
     ]
    }
   ],
   "source": [
    "name, cheese, cracker = \"Fred,Jarlsberg,Rye\".split(\",\")\n",
    "print(cheese)"
   ]
  },
  {
   "cell_type": "markdown",
   "metadata": {},
   "source": [
    "## 투표 결과 보기"
   ]
  },
  {
   "cell_type": "markdown",
   "metadata": {},
   "source": [
    "- counts = { } : empty 딕셔너리 생성\n",
    "- if vote not in counts:\n",
    "-     counts[vote] = 1       : 딕셔너리에 새로운 [키:값] 항목이 추가"
   ]
  },
  {
   "cell_type": "code",
   "execution_count": 32,
   "metadata": {},
   "outputs": [
    {
     "name": "stdout",
     "output_type": "stream",
     "text": [
      "{'April Cross': 67, 'Champion': 75, 'cherry belle': 2, 'Snow Belle': 58, 'Bunny Tail': 68, 'Sicily Giant': 52, 'Plum Purple': 53, 'Red King': 52, ' Daikon': 1, 'White Icicle': 59, 'Daikon': 58, 'French Breakfast': 65, 'Cherry Belle': 53, ' plum purple': 1, 'french breakfast': 7, ' Snow Belle': 2, ' Plum Purple': 1, 'daikon': 4, 'plum purple': 1, 'white icicle': 5, 'April cross': 1, 'bunny tail': 4, 'april cross': 4, 'champion': 1, 'sicily giant': 3, ' White Icicle': 1, 'red king': 3, 'Cherry  Belle': 1, ' Red King': 1, ' Sicily Giant': 1, 'Plum  Purple': 1, 'snow belle': 3, ' Cherry Belle': 2, 'Sicily  Giant': 1}\n"
     ]
    }
   ],
   "source": [
    "counts = {}\n",
    "\n",
    "with open(\"./radishsurvey.txt\") as file:\n",
    "    for line in file:       \n",
    "        line = line.strip()\n",
    "        name, vote = line.split(\" - \")\n",
    "        if vote not in counts:\n",
    "            # First vote for this variety\n",
    "            counts[vote] = 1\n",
    "        else:\n",
    "            # Increment the vote count\n",
    "            counts[vote] = counts[vote] + 1\n",
    "print(counts)"
   ]
  },
  {
   "cell_type": "markdown",
   "metadata": {},
   "source": [
    "- 결과를 좀 더 보기 좋게 정리"
   ]
  },
  {
   "cell_type": "code",
   "execution_count": 33,
   "metadata": {},
   "outputs": [
    {
     "name": "stdout",
     "output_type": "stream",
     "text": [
      "April Cross: 67\n",
      "Champion: 75\n",
      "cherry belle: 2\n",
      "Snow Belle: 58\n",
      "Bunny Tail: 68\n",
      "Sicily Giant: 52\n",
      "Plum Purple: 53\n",
      "Red King: 52\n",
      " Daikon: 1\n",
      "White Icicle: 59\n",
      "Daikon: 58\n",
      "French Breakfast: 65\n",
      "Cherry Belle: 53\n",
      " plum purple: 1\n",
      "french breakfast: 7\n",
      " Snow Belle: 2\n",
      " Plum Purple: 1\n",
      "daikon: 4\n",
      "plum purple: 1\n",
      "white icicle: 5\n",
      "April cross: 1\n",
      "bunny tail: 4\n",
      "april cross: 4\n",
      "champion: 1\n",
      "sicily giant: 3\n",
      " White Icicle: 1\n",
      "red king: 3\n",
      "Cherry  Belle: 1\n",
      " Red King: 1\n",
      " Sicily Giant: 1\n",
      "Plum  Purple: 1\n",
      "snow belle: 3\n",
      " Cherry Belle: 2\n",
      "Sicily  Giant: 1\n"
     ]
    }
   ],
   "source": [
    "for name in counts:\n",
    "    count = counts[name]\n",
    "    print(name + \": \" + str(count))"
   ]
  },
  {
   "cell_type": "markdown",
   "metadata": {},
   "source": [
    "## 데이터 정제\n",
    "- 데이터 통계가 의미있게 하나로 통합되도록 정리"
   ]
  },
  {
   "cell_type": "markdown",
   "metadata": {},
   "source": [
    "- 같은 야채명\n",
    "   * 대문자, 소문자로 나누어져 있는 경우\n",
    "   * space가 하나가 아닌 두 개가 들어간 경우 등"
   ]
  },
  {
   "cell_type": "code",
   "execution_count": 34,
   "metadata": {
    "scrolled": true
   },
   "outputs": [
    {
     "data": {
      "text/plain": [
       "'\\nRed King: 1\\nred king: 3\\nWhite Icicle: 1\\n Cherry Belle: 2\\ndaikon: 4\\nCherry  Belle: 1\\n'"
      ]
     },
     "execution_count": 34,
     "metadata": {},
     "output_type": "execute_result"
    }
   ],
   "source": [
    "\"\"\"\n",
    "Red King: 1\n",
    "red king: 3\n",
    "White Icicle: 1\n",
    " Cherry Belle: 2\n",
    "daikon: 4\n",
    "Cherry  Belle: 1\n",
    "\"\"\""
   ]
  },
  {
   "cell_type": "markdown",
   "metadata": {},
   "source": [
    "### 대소문자 통일"
   ]
  },
  {
   "cell_type": "markdown",
   "metadata": {},
   "source": [
    "- strip() : 좌, 우로 white space(공백, tab(\\t), enter 등) 제거\n",
    "- capitalize() : Object의 첫 글자를 대문자로 변경"
   ]
  },
  {
   "cell_type": "code",
   "execution_count": 35,
   "metadata": {},
   "outputs": [
    {
     "name": "stdout",
     "output_type": "stream",
     "text": [
      "{'April cross': 72, 'Champion': 76, 'Cherry belle': 57, 'Snow belle': 63, 'Bunny tail': 72, 'Sicily giant': 56, 'Plum purple': 56, 'Red king': 56, 'Daikon': 63, 'White icicle': 65, 'French breakfast': 72, 'Cherry  belle': 1, 'Plum  purple': 1, 'Sicily  giant': 1}\n"
     ]
    }
   ],
   "source": [
    "counts = {}\n",
    "\n",
    "with open(\"./radishsurvey.txt\") as file:\n",
    "    for line in file:\n",
    "        line = line.strip()\n",
    "        name, vote = line.split(\" - \")\n",
    "\n",
    "        # 수정한 부분\n",
    "        vote = vote.strip().capitalize()\n",
    "        if not vote in counts:\n",
    "            # First vote for this variety\n",
    "            counts[vote] = 1\n",
    "        else:\n",
    "            # Increment the vote count\n",
    "            counts[vote] = counts[vote] + 1\n",
    "print(counts)"
   ]
  },
  {
   "cell_type": "markdown",
   "metadata": {},
   "source": [
    "### 2개의 space 제거\n",
    "- 2개의 space는 하나의 space로 제거\n",
    "- replace(\"  \", \" \") : 문자열 교체"
   ]
  },
  {
   "cell_type": "code",
   "execution_count": 36,
   "metadata": {},
   "outputs": [
    {
     "data": {
      "text/plain": [
       "'\\nSicily  giant: 1\\nPlum  purple: 1\\nCherry  belle: 1\\n'"
      ]
     },
     "execution_count": 36,
     "metadata": {},
     "output_type": "execute_result"
    }
   ],
   "source": [
    "\"\"\"\n",
    "Sicily  giant: 1\n",
    "Plum  purple: 1\n",
    "Cherry  belle: 1\n",
    "\"\"\""
   ]
  },
  {
   "cell_type": "code",
   "execution_count": 37,
   "metadata": {},
   "outputs": [],
   "source": [
    "vote = vote.replace(\"  \", \"  \")"
   ]
  },
  {
   "cell_type": "markdown",
   "metadata": {},
   "source": [
    "## 두 번 투표한 사람 찾기"
   ]
  },
  {
   "cell_type": "code",
   "execution_count": 39,
   "metadata": {},
   "outputs": [
    {
     "name": "stdout",
     "output_type": "stream",
     "text": [
      "Phoebe barwell has already voted! Fraud!\n",
      "Procopio zito has already voted! Fraud!\n",
      "Results:\n",
      "\n",
      "April cross: 72\n",
      "Champion: 76\n",
      "Cherry belle: 58\n",
      "Snow belle: 63\n",
      "Bunny tail: 72\n",
      "Sicily giant: 57\n",
      "Plum purple: 56\n",
      "Red king: 56\n",
      "Daikon: 63\n",
      "White icicle: 64\n",
      "French breakfast: 72\n"
     ]
    }
   ],
   "source": [
    "counts = {}\n",
    "\n",
    "# Create an empty list with the names of everyone who voted\n",
    "voted = []\n",
    "\n",
    "# Clean up (munge) a string so it's easy to match against other strings\n",
    "def clean_string(s):\n",
    "    return s.strip().capitalize().replace(\"  \",\" \")\n",
    "\n",
    "# Check if someone has voted already & Return True or False\n",
    "def has_already_voted(name):\n",
    "    if name in voted:\n",
    "        print(name + \" has already voted! Fraud!\")\n",
    "        return True\n",
    "    return False\n",
    "\n",
    "# Count a vote for the radish variety named 'radish'\n",
    "def count_vote(radish):\n",
    "    if not radish in counts:\n",
    "        # First vote for this variety\n",
    "        counts[radish] = 1\n",
    "    else:\n",
    "        # Increment the radish count\n",
    "        counts[radish] = counts[radish] + 1\n",
    "\n",
    "\n",
    "with open(\"./radishsurvey.txt\") as file:\n",
    "    for line in file:\n",
    "        line = line.strip()\n",
    "        name, vote = line.split(\" - \")\n",
    "        name = clean_string(name)\n",
    "        vote = clean_string(vote)\n",
    "    \n",
    "        if not has_already_voted(name):\n",
    "            count_vote(vote)\n",
    "        voted.append(name)\n",
    "\n",
    "print(\"Results:\")\n",
    "print()\n",
    "for name in counts:\n",
    "    print(name + \": \" + str(counts[name]))"
   ]
  },
  {
   "cell_type": "markdown",
   "metadata": {},
   "source": [
    "### 가장 많이 투표 받은 경우 찾기"
   ]
  },
  {
   "cell_type": "code",
   "execution_count": 40,
   "metadata": {},
   "outputs": [
    {
     "name": "stdout",
     "output_type": "stream",
     "text": [
      "The winner is: Champion\n"
     ]
    }
   ],
   "source": [
    "winner_name = \"No winner\"\n",
    "winner_votes = 0\n",
    "\n",
    "for name in counts:\n",
    "    if counts[name] > winner_votes:\n",
    "        winner_votes = counts[name]\n",
    "        winner_name = name\n",
    "\n",
    "print(\"The winner is: \" + winner_name)"
   ]
  },
  {
   "cell_type": "markdown",
   "metadata": {},
   "source": [
    "## 그래프 그리기"
   ]
  },
  {
   "cell_type": "code",
   "execution_count": 41,
   "metadata": {
    "scrolled": true
   },
   "outputs": [
    {
     "data": {
      "image/png": "[encoded data removed]",
      "text/plain": [
       "<Figure size 432x288 with 1 Axes>"
      ]
     },
     "metadata": {
      "needs_background": "light"
     },
     "output_type": "display_data"
    }
   ],
   "source": [
    "import matplotlib.pyplot as plt\n",
    "%matplotlib inline\n",
    "\n",
    "vals = [3,2,5,0,1]\n",
    "plt.plot(vals)\n",
    "plt.show()"
   ]
  },
  {
   "cell_type": "code",
   "execution_count": 42,
   "metadata": {},
   "outputs": [
    {
     "data": {
      "image/png": "[encoded data removed]",
      "text/plain": [
       "<Figure size 432x288 with 1 Axes>"
      ]
     },
     "metadata": {
      "needs_background": "light"
     },
     "output_type": "display_data"
    }
   ],
   "source": [
    "import numpy as np\n",
    "\n",
    "names = []\n",
    "votes = []\n",
    "\n",
    "# Split the dictionary of name:votes into two lists, one for names and one for vote count\n",
    "for radish in counts:\n",
    "    names.append(radish)\n",
    "    votes.append(counts[radish])\n",
    "\n",
    "# The X axis can just be numbered 0,1,2,3...\n",
    "x = np.arange(len(counts))\n",
    "\n",
    "plt.bar(x, votes)\n",
    "plt.xticks(x + 0.5, names, rotation=90)\n",
    "plt.show()"
   ]
  },
  {
   "cell_type": "code",
   "execution_count": 44,
   "metadata": {
    "scrolled": true
   },
   "outputs": [
    {
     "name": "stdout",
     "output_type": "stream",
     "text": [
      "[0 1 2 3 4]\n",
      "[0.5 1.5 2.5 3.5 4.5]\n"
     ]
    }
   ],
   "source": [
    "x = np.arange(5)\n",
    "print(x)\n",
    "print(x + 0.5)"
   ]
  },
  {
   "cell_type": "code",
   "execution_count": null,
   "metadata": {},
   "outputs": [],
   "source": []
  }
 ],
 "metadata": {
  "kernelspec": {
   "display_name": "Python 3",
   "language": "python",
   "name": "python3"
  },
  "language_info": {
   "codemirror_mode": {
    "name": "ipython",
    "version": 3
   },
   "file_extension": ".py",
   "mimetype": "text/x-python",
   "name": "python",
   "nbconvert_exporter": "python",
   "pygments_lexer": "ipython3",
   "version": "3.8.5"
  }
 },
 "nbformat": 4,
 "nbformat_minor": 2
}

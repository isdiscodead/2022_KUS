{
 "cells": [
  {
   "cell_type": "code",
   "execution_count": 12,
   "id": "b5f1862b",
   "metadata": {},
   "outputs": [
    {
     "name": "stdout",
     "output_type": "stream",
     "text": [
      "5 + 10 = 15\n"
     ]
    }
   ],
   "source": [
    "a=5\n",
    "b=10\n",
    "\n",
    "c=a+b\n",
    "print(a, \"+\" , b, \"=\", c)"
   ]
  },
  {
   "cell_type": "code",
   "execution_count": 7,
   "id": "47c9f540",
   "metadata": {},
   "outputs": [
    {
     "name": "stdout",
     "output_type": "stream",
     "text": [
      "5 + 10 = -5\n"
     ]
    }
   ],
   "source": [
    "c=a-b\n",
    "print(a, \"+\" , b, \"=\", c)"
   ]
  },
  {
   "cell_type": "markdown",
   "id": "96d1d9ba",
   "metadata": {},
   "source": [
    "### 변수 \n",
    "###### 데이터가 저장되는 공간\n",
    "###### 종류 : 정수형, 실수형, 문자형, 불리형, 특수형(리스트, 딕셔너리, 집합....)"
   ]
  },
  {
   "cell_type": "code",
   "execution_count": 13,
   "id": "86f84534",
   "metadata": {},
   "outputs": [],
   "source": [
    "a=5    # a라는 변수에 소수점 이하가 없는 정수값 5를 저장\n",
    "b=5.2  # b라는 변수에 소수점 이하가 있는 실수값 5.2를 저장\n",
    "## 5:정수  5.2:실수"
   ]
  },
  {
   "cell_type": "code",
   "execution_count": 14,
   "id": "3a14515c",
   "metadata": {},
   "outputs": [],
   "source": [
    "c=True\n",
    "d=False \n",
    "D=True   ### 소문자d 대문자D는 서로 다른 변수"
   ]
  },
  {
   "cell_type": "code",
   "execution_count": 15,
   "id": "d313757c",
   "metadata": {},
   "outputs": [],
   "source": [
    "F=\"고려대학교\"\n",
    "G='a'      ### 문자열 \"\"   ''\n",
    "i='9'\n",
    "j=\"8\"    ## 숫자에 \", ' ' 사용시 무조건 문자 취급"
   ]
  },
  {
   "cell_type": "code",
   "execution_count": 19,
   "id": "43b82a06",
   "metadata": {},
   "outputs": [
    {
     "name": "stdout",
     "output_type": "stream",
     "text": [
      "5 5.2 True False\n"
     ]
    }
   ],
   "source": [
    "print(a, b, c, d)"
   ]
  },
  {
   "cell_type": "markdown",
   "id": "57b9a140",
   "metadata": {},
   "source": [
    "### 오류\n",
    "##### 문법 오류 : 실행이 안 됨\n",
    "-   print(z) \n",
    "-   --> z가 정의되어 있지 않는 경우 변수 없다라는 문법적인 오류가 발생\n",
    "   \n",
    "##### 논리(실행) 오류 : 일단 문법에 이상 없어서 실행이 됨 --> 틀린 값이 나옴\n",
    "-   --> 프로그램 개발자가 오류 원인을 찾아야 한다. --> 어렵다. "
   ]
  },
  {
   "cell_type": "code",
   "execution_count": 21,
   "id": "8769bb8d",
   "metadata": {},
   "outputs": [
    {
     "name": "stdout",
     "output_type": "stream",
     "text": [
      "50 + 100 = 150\n"
     ]
    }
   ],
   "source": [
    "a=50\n",
    "b=100\n",
    "c=a+b\n",
    "print(a, \"+\" , b, \"=\", c)"
   ]
  },
  {
   "cell_type": "code",
   "execution_count": 22,
   "id": "d89841f2",
   "metadata": {},
   "outputs": [
    {
     "name": "stdout",
     "output_type": "stream",
     "text": [
      "50 + 100 = 150\n",
      "100 + 50 = 150\n",
      "150 = 100 + 50\n"
     ]
    }
   ],
   "source": [
    "print(\"{} + {} = {}\".format(a, b, c))\n",
    "\n",
    "print(\"{1} + {0} = {2}\".format(a, b, c))\n",
    "\n",
    "print(\"{2} = {1} + {0}\".format(a, b, c))"
   ]
  },
  {
   "cell_type": "markdown",
   "id": "148e2f26",
   "metadata": {},
   "source": [
    "### 연산자 +\n",
    "- 숫자 + 숫자 = 숫자\n",
    "- 문자 + 문자 = 문자  --> 문자의 + : 연결\n",
    "- 숫자 + 문자 => 에러 발생 --> 같은 데이터형끼리 계산\n",
    "- True 1, False 0으로 필요에 따라 숫자로 잠깐 인식"
   ]
  },
  {
   "cell_type": "code",
   "execution_count": 27,
   "id": "571696ff",
   "metadata": {},
   "outputs": [
    {
     "name": "stdout",
     "output_type": "stream",
     "text": [
      "False + 10 = 10\n"
     ]
    }
   ],
   "source": [
    "a=False\n",
    "b=10\n",
    "c=a+b\n",
    "print(a, \"+\" , b, \"=\", c)"
   ]
  },
  {
   "cell_type": "code",
   "execution_count": 26,
   "id": "e188484e",
   "metadata": {},
   "outputs": [
    {
     "name": "stdout",
     "output_type": "stream",
     "text": [
      "True + 10 = 11\n"
     ]
    }
   ],
   "source": [
    "a=True\n",
    "b=10\n",
    "c=a+b\n",
    "print(a, \"+\" , b, \"=\", c)"
   ]
  },
  {
   "cell_type": "code",
   "execution_count": 23,
   "id": "2cc7a6bc",
   "metadata": {},
   "outputs": [
    {
     "name": "stdout",
     "output_type": "stream",
     "text": [
      "5 + 10 = 510\n"
     ]
    }
   ],
   "source": [
    "a='5'\n",
    "b=\"10\"\n",
    "c=a+b\n",
    "print(a, \"+\" , b, \"=\", c)"
   ]
  },
  {
   "cell_type": "code",
   "execution_count": 24,
   "id": "29fa0773",
   "metadata": {},
   "outputs": [
    {
     "name": "stdout",
     "output_type": "stream",
     "text": [
      "5 + 10 = 510\n",
      "10 + 5 = 510\n",
      "510 = 10 + 5\n"
     ]
    }
   ],
   "source": [
    "print(\"{} + {} = {}\".format(a, b, c))\n",
    "print(\"{1} + {0} = {2}\".format(a, b, c))\n",
    "print(\"{2} = {1} + {0}\".format(a, b, c))"
   ]
  },
  {
   "cell_type": "markdown",
   "id": "7ebc1ea2",
   "metadata": {},
   "source": [
    "### 연산자 - * /(소수점취급 나누기) //(정수취급 나누기) %(나머지)\n",
    "- 숫자에서만 연산이 가능\n",
    "- 문자는 +만 가능"
   ]
  },
  {
   "cell_type": "code",
   "execution_count": 32,
   "id": "fdb5fe80",
   "metadata": {},
   "outputs": [
    {
     "name": "stdout",
     "output_type": "stream",
     "text": [
      "10 3 13 7 30 3.3333333333333335 3 1\n"
     ]
    }
   ],
   "source": [
    "a=10\n",
    "b=3\n",
    "c=a+b\n",
    "d=a-b\n",
    "e=a*b\n",
    "f=a/b  ## 고급 나누기(소수점이하 취급O)\n",
    "g=a//b ## 저급 나누기(소수점이하 취급X)\n",
    "h=a%b  ## 나눈 나머지\n",
    "print(a, b, c, d, e, f, g, h)"
   ]
  },
  {
   "cell_type": "code",
   "execution_count": null,
   "id": "9909a822",
   "metadata": {},
   "outputs": [],
   "source": []
  }
 ],
 "metadata": {
  "kernelspec": {
   "display_name": "Python 3",
   "language": "python",
   "name": "python3"
  },
  "language_info": {
   "codemirror_mode": {
    "name": "ipython",
    "version": 3
   },
   "file_extension": ".py",
   "mimetype": "text/x-python",
   "name": "python",
   "nbconvert_exporter": "python",
   "pygments_lexer": "ipython3",
   "version": "3.8.8"
  }
 },
 "nbformat": 4,
 "nbformat_minor": 5
}

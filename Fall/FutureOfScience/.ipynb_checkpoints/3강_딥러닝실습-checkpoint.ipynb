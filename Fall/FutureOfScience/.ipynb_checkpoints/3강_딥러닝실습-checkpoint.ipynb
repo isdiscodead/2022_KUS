{
 "cells": [
  {
   "cell_type": "markdown",
   "metadata": {
    "id": "cly_BV_nTh3E"
   },
   "source": [
    "파일 > 드라이브에 사본저장하기 \n",
    "하여 사본 파일로 실습 진행하기 바랍니다.\n",
    "\n",
    "\n",
    "(해당파일은 구글 드라이브 colab notebooks 에 저장됩니다.)\n",
    "\n",
    "---\n",
    "\n"
   ]
  },
  {
   "cell_type": "markdown",
   "metadata": {
    "id": "Zl0he_QmhFZ4"
   },
   "source": [
    "# Keras\n",
    "\n",
    "Keras is an open-source neural-network library written in Python.\n",
    "\n",
    "Simple. Flexible. Powerful."
   ]
  },
  {
   "cell_type": "code",
   "execution_count": 1,
   "metadata": {
    "colab": {
     "base_uri": "https://localhost:8080/",
     "height": 35
    },
    "executionInfo": {
     "elapsed": 2787,
     "status": "ok",
     "timestamp": 1662345945467,
     "user": {
      "displayName": "‍이연주[ 교수 / 응용수리과학부 데이터계산과학전공 ]",
      "userId": "04568941941563146597"
     },
     "user_tz": -540
    },
    "id": "wzKf1iUKhJ0i",
    "outputId": "ada47fa5-eaec-4e22-b6a1-bd7b7e6b6c70"
   },
   "outputs": [
    {
     "data": {
      "application/vnd.google.colaboratory.intrinsic+json": {
       "type": "string"
      },
      "text/plain": [
       "'2.8.0'"
      ]
     },
     "execution_count": 1,
     "metadata": {},
     "output_type": "execute_result"
    }
   ],
   "source": [
    "import  tensorflow.keras\n",
    "tensorflow.keras.__version__"
   ]
  },
  {
   "cell_type": "code",
   "execution_count": 2,
   "metadata": {
    "colab": {
     "base_uri": "https://localhost:8080/",
     "height": 108
    },
    "executionInfo": {
     "elapsed": 45512,
     "status": "ok",
     "timestamp": 1662345990973,
     "user": {
      "displayName": "‍이연주[ 교수 / 응용수리과학부 데이터계산과학전공 ]",
      "userId": "04568941941563146597"
     },
     "user_tz": -540
    },
    "id": "JwREaQfCksQG",
    "outputId": "3b18b9fd-030c-4f45-f3b7-83c1331fcdc7"
   },
   "outputs": [
    {
     "name": "stdout",
     "output_type": "stream",
     "text": [
      "[[0.]\n",
      " [1.]\n",
      " [0.]\n",
      " [1.]]\n"
     ]
    },
    {
     "data": {
      "text/plain": [
       "<Figure size 432x288 with 0 Axes>"
      ]
     },
     "metadata": {},
     "output_type": "display_data"
    }
   ],
   "source": [
    "### XOR GATE\n",
    "\n",
    "from tensorflow.keras import models\n",
    "from tensorflow.keras import layers\n",
    "import numpy as np\n",
    "import matplotlib.pyplot as plt\n",
    "\n",
    "X = np.array([[0,0],[0,1],[1,0],[1,1]])\n",
    "y = np.array([[0],[1],[1],[0]])\n",
    "\n",
    "network = models.Sequential()\n",
    "network.add(layers.Dense(2, input_shape = (2,),\n",
    "                         activation='sigmoid',\n",
    "                         kernel_initializer='glorot_uniform'))\n",
    "network.add(layers.Dense(1, activation='sigmoid',\n",
    "                         kernel_initializer='glorot_uniform'))\n",
    "network.compile(optimizer='adam',\n",
    "                loss='mse', metrics=['accuracy'])\n",
    "\n",
    "h=network.fit(X, y, epochs=10000, verbose=0)\n",
    "\n",
    "print(network.predict(X).round())\n",
    "\n",
    "plt.figure()\n",
    "plt.clf()"
   ]
  },
  {
   "cell_type": "markdown",
   "metadata": {
    "id": "t9zpz1XCiUl2"
   },
   "source": [
    "# MNIST (Modified National Institute of Standards and Technology database) \n",
    "\n",
    "머신 러닝 커뮤니티에서 가장 일반적으로 사용하는 데이터셋 중 하나는 MNIST 입니다. 이 데이터셋은 머신 러닝의 역사만큼 오래되었고 많은 연구에 사용되었습니다. 이 데이터셋은 1980년대에 미국 국립표준기술연구소에서 수집한 6만 개의 훈련 이미지와 1만 개의 테스트 이미지로 구성되어 있습니다. 코딩을 경험해보았다면, MNIST 문제를 알고리즘이 제대로 작동하는지 확인하기 위한 딥러닝계의 ‘Hello World’라고 생각해도 됩니다. "
   ]
  },
  {
   "cell_type": "markdown",
   "metadata": {
    "id": "1iK1XwO82OQn"
   },
   "source": [
    "## MNIST data"
   ]
  },
  {
   "cell_type": "code",
   "execution_count": 3,
   "metadata": {
    "executionInfo": {
     "elapsed": 486,
     "status": "ok",
     "timestamp": 1662345991454,
     "user": {
      "displayName": "‍이연주[ 교수 / 응용수리과학부 데이터계산과학전공 ]",
      "userId": "04568941941563146597"
     },
     "user_tz": -540
    },
    "id": "2h1_6dNX2RUi"
   },
   "outputs": [],
   "source": [
    "from tensorflow.keras.datasets import mnist\n",
    "\n",
    "(train_images, train_labels), (test_images, test_labels) = mnist.load_data()"
   ]
  },
  {
   "cell_type": "code",
   "execution_count": 4,
   "metadata": {
    "colab": {
     "base_uri": "https://localhost:8080/"
    },
    "executionInfo": {
     "elapsed": 19,
     "status": "ok",
     "timestamp": 1662345991455,
     "user": {
      "displayName": "‍이연주[ 교수 / 응용수리과학부 데이터계산과학전공 ]",
      "userId": "04568941941563146597"
     },
     "user_tz": -540
    },
    "id": "LEJuqJCc2VHd",
    "outputId": "e17af1ca-203a-4449-9997-198820a28968"
   },
   "outputs": [
    {
     "data": {
      "text/plain": [
       "(60000, 28, 28)"
      ]
     },
     "execution_count": 4,
     "metadata": {},
     "output_type": "execute_result"
    }
   ],
   "source": [
    "train_images.shape"
   ]
  },
  {
   "cell_type": "code",
   "execution_count": 5,
   "metadata": {
    "colab": {
     "base_uri": "https://localhost:8080/"
    },
    "executionInfo": {
     "elapsed": 15,
     "status": "ok",
     "timestamp": 1662345991456,
     "user": {
      "displayName": "‍이연주[ 교수 / 응용수리과학부 데이터계산과학전공 ]",
      "userId": "04568941941563146597"
     },
     "user_tz": -540
    },
    "id": "-w3ly96-2XdD",
    "outputId": "a8b23880-a080-445e-af9e-afacdcaa3ea8"
   },
   "outputs": [
    {
     "data": {
      "text/plain": [
       "60000"
      ]
     },
     "execution_count": 5,
     "metadata": {},
     "output_type": "execute_result"
    }
   ],
   "source": [
    "len(train_labels)"
   ]
  },
  {
   "cell_type": "code",
   "execution_count": 6,
   "metadata": {
    "colab": {
     "base_uri": "https://localhost:8080/",
     "height": 265
    },
    "executionInfo": {
     "elapsed": 11,
     "status": "ok",
     "timestamp": 1662345991456,
     "user": {
      "displayName": "‍이연주[ 교수 / 응용수리과학부 데이터계산과학전공 ]",
      "userId": "04568941941563146597"
     },
     "user_tz": -540
    },
    "id": "3rRnYg9W2Y7Z",
    "outputId": "c3a4e5f5-562d-4fb8-c19e-1761fb3e7976"
   },
   "outputs": [
    {
     "data": {
      "image/png": "[encoded data removed]",
      "text/plain": [
       "<Figure size 432x288 with 1 Axes>"
      ]
     },
     "metadata": {},
     "output_type": "display_data"
    }
   ],
   "source": [
    "import matplotlib.pyplot as plt\n",
    "digit = train_images[4]\n",
    "\n",
    "plt.imshow(digit, cmap=plt.cm.binary)\n",
    "plt.show()"
   ]
  },
  {
   "cell_type": "markdown",
   "metadata": {
    "id": "Y35c1QUv2fFz"
   },
   "source": [
    "## MLP (Multi-layer Perceptron)\n",
    "\n",
    "신경망의 핵심 구성 요소는 일종의 데이터 처리 필터라고 생각할 수 있는 층입니다. 어떤 데이터가 들어가면 더 유용한 형태로 출력됩니다. 조금 더 구체적으로 층은 주어진 문제에 더 의미 있는 표현을 입력된 데이터로부터 추출합니다. 대부분의 딥러닝은 간단한 층을 연결하여 구성되어 있고, 점진적으로 데이터를 정제하는 형태를 띠고 있습니다. 딥러닝 모델은 데이터 정제 필터(층)가 연속되어 있는 데이터 프로세싱을 위한 여과기와 같습니다.\n",
    "\n",
    "이 예에서는 조밀하게 연결된 (또는 완전 연결된) 신경망 층인 Dense 층 2개가 연속되어 있습니다. 두 번째 (즉, 마지막) 층은 10개의 확률 점수가 들어 있는 배열(모두 더하면 1입니다)을 반환하는 소프트맥스 층입니다. 각 점수는 현재 숫자 이미지가 10개의 숫자 클래스 중 하나에 속할 확률입니다."
   ]
  },
  {
   "cell_type": "code",
   "execution_count": 7,
   "metadata": {
    "executionInfo": {
     "elapsed": 10,
     "status": "ok",
     "timestamp": 1662345991457,
     "user": {
      "displayName": "‍이연주[ 교수 / 응용수리과학부 데이터계산과학전공 ]",
      "userId": "04568941941563146597"
     },
     "user_tz": -540
    },
    "id": "BhUNCuz06h5L"
   },
   "outputs": [],
   "source": [
    "from tensorflow.keras import models\n",
    "from tensorflow.keras import layers\n",
    "\n",
    "network = models.Sequential()\n",
    "network.add(layers.Dense(512, activation='relu', input_shape=(28 * 28,)))\n",
    "network.add(layers.Dense(10, activation='softmax'))"
   ]
  },
  {
   "cell_type": "code",
   "execution_count": 8,
   "metadata": {
    "executionInfo": {
     "elapsed": 9,
     "status": "ok",
     "timestamp": 1662345991457,
     "user": {
      "displayName": "‍이연주[ 교수 / 응용수리과학부 데이터계산과학전공 ]",
      "userId": "04568941941563146597"
     },
     "user_tz": -540
    },
    "id": "-cFoAMaJ6j71"
   },
   "outputs": [],
   "source": [
    "network.compile(optimizer='rmsprop',\n",
    "                loss='categorical_crossentropy',\n",
    "                metrics=['accuracy'])"
   ]
  },
  {
   "cell_type": "markdown",
   "metadata": {
    "id": "v8EsqFeK3gZ5"
   },
   "source": [
    "훈련을 시작하기 전에 데이터를 네트워크에 맞는 크기로 바꾸고 모든 값을 0과 1 사이로 스케일을 조정합니다. 예를 들어, 앞서 우리의 훈련 이미지는 [0, 255] 사이의 값인 uint8 타입의 (60000, 28, 28) 크기를 가진 배열로 저장되어 있습니다. 이 데이터를 0과 1 사이의 값을 가지는 float32 타입의 (60000, 28 * 28) 크기의 배열로 바꿉니다"
   ]
  },
  {
   "cell_type": "code",
   "execution_count": 9,
   "metadata": {
    "executionInfo": {
     "elapsed": 9,
     "status": "ok",
     "timestamp": 1662345991457,
     "user": {
      "displayName": "‍이연주[ 교수 / 응용수리과학부 데이터계산과학전공 ]",
      "userId": "04568941941563146597"
     },
     "user_tz": -540
    },
    "id": "yFtsZccI6ldH"
   },
   "outputs": [],
   "source": [
    "train_images = train_images.reshape((-1, 28 * 28))\n",
    "train_images = train_images.astype('float32') / 255\n",
    "\n",
    "test_images = test_images.reshape((-1, 28 * 28))\n",
    "test_images = test_images.astype('float32') / 255\n",
    "\n",
    "from tensorflow.keras.utils import to_categorical\n",
    "\n",
    "train_labels = to_categorical(train_labels)\n",
    "test_labels = to_categorical(test_labels)"
   ]
  },
  {
   "cell_type": "markdown",
   "metadata": {
    "id": "sscPhGJT5RaU"
   },
   "source": [
    "이제 신경망을 훈련시킬 준비가 되었습니다. 케라스에서는 fit 메서드를 호출하여 훈련 데이터에 모델을 학습시킵니다:"
   ]
  },
  {
   "cell_type": "code",
   "execution_count": 10,
   "metadata": {
    "colab": {
     "base_uri": "https://localhost:8080/"
    },
    "executionInfo": {
     "elapsed": 13751,
     "status": "ok",
     "timestamp": 1662346005200,
     "user": {
      "displayName": "‍이연주[ 교수 / 응용수리과학부 데이터계산과학전공 ]",
      "userId": "04568941941563146597"
     },
     "user_tz": -540
    },
    "id": "42BQZlCF3qyT",
    "outputId": "052ebc6b-cf31-430f-b294-ef26a69e43a4"
   },
   "outputs": [
    {
     "name": "stdout",
     "output_type": "stream",
     "text": [
      "Epoch 1/10\n",
      "375/375 [==============================] - 2s 4ms/step - loss: 0.2850 - accuracy: 0.9179 - val_loss: 0.1389 - val_accuracy: 0.9592\n",
      "Epoch 2/10\n",
      "375/375 [==============================] - 1s 3ms/step - loss: 0.1158 - accuracy: 0.9661 - val_loss: 0.1086 - val_accuracy: 0.9688\n",
      "Epoch 3/10\n",
      "375/375 [==============================] - 1s 4ms/step - loss: 0.0766 - accuracy: 0.9769 - val_loss: 0.0902 - val_accuracy: 0.9737\n",
      "Epoch 4/10\n",
      "375/375 [==============================] - 1s 3ms/step - loss: 0.0546 - accuracy: 0.9840 - val_loss: 0.0843 - val_accuracy: 0.9743\n",
      "Epoch 5/10\n",
      "375/375 [==============================] - 1s 4ms/step - loss: 0.0407 - accuracy: 0.9885 - val_loss: 0.1000 - val_accuracy: 0.9698\n",
      "Epoch 6/10\n",
      "375/375 [==============================] - 1s 4ms/step - loss: 0.0303 - accuracy: 0.9910 - val_loss: 0.0915 - val_accuracy: 0.9751\n",
      "Epoch 7/10\n",
      "375/375 [==============================] - 1s 4ms/step - loss: 0.0239 - accuracy: 0.9927 - val_loss: 0.0814 - val_accuracy: 0.9780\n",
      "Epoch 8/10\n",
      "375/375 [==============================] - 1s 3ms/step - loss: 0.0176 - accuracy: 0.9951 - val_loss: 0.0834 - val_accuracy: 0.9786\n",
      "Epoch 9/10\n",
      "375/375 [==============================] - 1s 4ms/step - loss: 0.0135 - accuracy: 0.9962 - val_loss: 0.0874 - val_accuracy: 0.9794\n",
      "Epoch 10/10\n",
      "375/375 [==============================] - 1s 3ms/step - loss: 0.0103 - accuracy: 0.9973 - val_loss: 0.0919 - val_accuracy: 0.9768\n"
     ]
    }
   ],
   "source": [
    "h = network.fit(train_images, train_labels, epochs=10, batch_size=128, validation_split=0.2)"
   ]
  },
  {
   "cell_type": "markdown",
   "metadata": {
    "id": "GgLiaUln6KRI"
   },
   "source": [
    "훈련하는 동안 두 개의 정보가 출력됩니다. 훈련 데이터에 대한 네트워크의 손실과 정확도입니다.\n",
    "\n",
    "이제 테스트 세트에서도 모델이 잘 작동하는지 확인해 보겠습니다:"
   ]
  },
  {
   "cell_type": "code",
   "execution_count": 11,
   "metadata": {
    "colab": {
     "base_uri": "https://localhost:8080/"
    },
    "executionInfo": {
     "elapsed": 1452,
     "status": "ok",
     "timestamp": 1662346006635,
     "user": {
      "displayName": "‍이연주[ 교수 / 응용수리과학부 데이터계산과학전공 ]",
      "userId": "04568941941563146597"
     },
     "user_tz": -540
    },
    "id": "OzCtmNs26n06",
    "outputId": "3062eebe-578a-4e04-c819-91ed29f934df"
   },
   "outputs": [
    {
     "name": "stdout",
     "output_type": "stream",
     "text": [
      "313/313 [==============================] - 1s 2ms/step - loss: 0.0828 - accuracy: 0.9792\n",
      "test_acc: 0.979200005531311\n"
     ]
    }
   ],
   "source": [
    "test_loss, test_acc = network.evaluate(test_images, test_labels)\n",
    "\n",
    "print('test_acc:', test_acc)"
   ]
  },
  {
   "cell_type": "code",
   "execution_count": 12,
   "metadata": {
    "executionInfo": {
     "elapsed": 4,
     "status": "ok",
     "timestamp": 1662346006636,
     "user": {
      "displayName": "‍이연주[ 교수 / 응용수리과학부 데이터계산과학전공 ]",
      "userId": "04568941941563146597"
     },
     "user_tz": -540
    },
    "id": "OOkxnTaz6olQ"
   },
   "outputs": [],
   "source": [
    "import matplotlib.pyplot as plt\n",
    "\n",
    "def plot_acc(h, title=\"accuracy\"):\n",
    "    plt.plot(h.history['accuracy'])\n",
    "    plt.plot(h.history ['val_accuracy'])\n",
    "    plt.title(title)\n",
    "    plt.ylabel('Accuracy')\n",
    "    plt.xlabel('Epoch')\n",
    "    plt.legend(['Training', 'Validation'], loc=0)\n",
    "\n",
    "def plot_loss(h, title=\"loss\"):\n",
    "    plt.plot(h.history ['loss'])\n",
    "    plt.plot(h.history ['val_loss'])\n",
    "    plt.title(title)\n",
    "    plt.ylabel('Loss')\n",
    "    plt.xlabel('Epoch')\n",
    "    plt.legend(['Training', 'Validation'], loc=0)\n"
   ]
  },
  {
   "cell_type": "code",
   "execution_count": 13,
   "metadata": {
    "colab": {
     "base_uri": "https://localhost:8080/",
     "height": 591
    },
    "executionInfo": {
     "elapsed": 460,
     "status": "ok",
     "timestamp": 1662346007092,
     "user": {
      "displayName": "‍이연주[ 교수 / 응용수리과학부 데이터계산과학전공 ]",
      "userId": "04568941941563146597"
     },
     "user_tz": -540
    },
    "id": "SVMdODxx6r8y",
    "outputId": "30f01eb9-3716-49ad-f633-4fcee268c2ea"
   },
   "outputs": [
    {
     "data": {
      "image/png": "[encoded data removed]",
      "text/plain": [
       "<Figure size 432x288 with 1 Axes>"
      ]
     },
     "metadata": {},
     "output_type": "display_data"
    },
    {
     "data": {
      "image/png": "[encoded data removed]",
      "text/plain": [
       "<Figure size 432x288 with 1 Axes>"
      ]
     },
     "metadata": {},
     "output_type": "display_data"
    },
    {
     "data": {
      "text/plain": [
       "<Figure size 432x288 with 0 Axes>"
      ]
     },
     "metadata": {},
     "output_type": "display_data"
    }
   ],
   "source": [
    "plot_loss(h)\n",
    "plt.show()\n",
    "plt.clf()\n",
    "\n",
    "plot_acc(h)\n",
    "plt.show()\n",
    "plt.clf()"
   ]
  },
  {
   "cell_type": "code",
   "execution_count": 14,
   "metadata": {
    "colab": {
     "base_uri": "https://localhost:8080/"
    },
    "executionInfo": {
     "elapsed": 40,
     "status": "ok",
     "timestamp": 1662346007093,
     "user": {
      "displayName": "‍이연주[ 교수 / 응용수리과학부 데이터계산과학전공 ]",
      "userId": "04568941941563146597"
     },
     "user_tz": -540
    },
    "id": "BNJ4EbPR6qVh",
    "outputId": "8e3728b4-126e-42aa-f805-6f43bbac28b9"
   },
   "outputs": [
    {
     "data": {
      "text/plain": [
       "{'loss': [0.28499695658683777,\n",
       "  0.11579304188489914,\n",
       "  0.07655507326126099,\n",
       "  0.05464654415845871,\n",
       "  0.04069903492927551,\n",
       "  0.030295735225081444,\n",
       "  0.023895522579550743,\n",
       "  0.01760314777493477,\n",
       "  0.0134727219119668,\n",
       "  0.010267668403685093],\n",
       " 'accuracy': [0.9178958535194397,\n",
       "  0.9661041498184204,\n",
       "  0.9769166707992554,\n",
       "  0.9839791655540466,\n",
       "  0.9884583353996277,\n",
       "  0.9909791946411133,\n",
       "  0.9926875233650208,\n",
       "  0.995104193687439,\n",
       "  0.9961875081062317,\n",
       "  0.9972916841506958],\n",
       " 'val_loss': [0.13887959718704224,\n",
       "  0.10857412964105606,\n",
       "  0.09020762145519257,\n",
       "  0.08433497697114944,\n",
       "  0.09997259825468063,\n",
       "  0.0915486142039299,\n",
       "  0.08139164745807648,\n",
       "  0.08343615382909775,\n",
       "  0.08740654587745667,\n",
       "  0.09193874895572662],\n",
       " 'val_accuracy': [0.9592499732971191,\n",
       "  0.968833327293396,\n",
       "  0.9736666679382324,\n",
       "  0.9742500185966492,\n",
       "  0.9698333144187927,\n",
       "  0.9750833511352539,\n",
       "  0.9779999852180481,\n",
       "  0.9785833358764648,\n",
       "  0.9794166684150696,\n",
       "  0.9768333435058594]}"
      ]
     },
     "execution_count": 14,
     "metadata": {},
     "output_type": "execute_result"
    }
   ],
   "source": [
    "h.history"
   ]
  },
  {
   "cell_type": "code",
   "execution_count": 15,
   "metadata": {
    "executionInfo": {
     "elapsed": 34,
     "status": "ok",
     "timestamp": 1662346007093,
     "user": {
      "displayName": "‍이연주[ 교수 / 응용수리과학부 데이터계산과학전공 ]",
      "userId": "04568941941563146597"
     },
     "user_tz": -540
    },
    "id": "P8BF99u-6sL_"
   },
   "outputs": [],
   "source": [
    "# saving model\n",
    "# 전체 모델을 HDF5 파일로 저장합니다\n",
    "network.save('DNN_mnist.h5') # instance variable 'network'!"
   ]
  },
  {
   "cell_type": "code",
   "execution_count": 16,
   "metadata": {
    "colab": {
     "base_uri": "https://localhost:8080/"
    },
    "executionInfo": {
     "elapsed": 34,
     "status": "ok",
     "timestamp": 1662346007094,
     "user": {
      "displayName": "‍이연주[ 교수 / 응용수리과학부 데이터계산과학전공 ]",
      "userId": "04568941941563146597"
     },
     "user_tz": -540
    },
    "id": "a_lqj-kI6t-z",
    "outputId": "acfb1a33-888a-47fc-d658-3191239cb58e"
   },
   "outputs": [
    {
     "name": "stdout",
     "output_type": "stream",
     "text": [
      "Model: \"sequential_1\"\n",
      "_________________________________________________________________\n",
      " Layer (type)                Output Shape              Param #   \n",
      "=================================================================\n",
      " dense_2 (Dense)             (None, 512)               401920    \n",
      "                                                                 \n",
      " dense_3 (Dense)             (None, 10)                5130      \n",
      "                                                                 \n",
      "=================================================================\n",
      "Total params: 407,050\n",
      "Trainable params: 407,050\n",
      "Non-trainable params: 0\n",
      "_________________________________________________________________\n"
     ]
    }
   ],
   "source": [
    "# loading model\n",
    "model_loaded=models.load_model('DNN_mnist.h5') # not instance!\n",
    "model_loaded.summary()"
   ]
  },
  {
   "cell_type": "markdown",
   "metadata": {
    "id": "0Xv5ouzq58x6"
   },
   "source": [
    "## CNN (Convolutionl Neural Network)"
   ]
  },
  {
   "cell_type": "code",
   "execution_count": 17,
   "metadata": {
    "executionInfo": {
     "elapsed": 15,
     "status": "ok",
     "timestamp": 1662346007094,
     "user": {
      "displayName": "‍이연주[ 교수 / 응용수리과학부 데이터계산과학전공 ]",
      "userId": "04568941941563146597"
     },
     "user_tz": -540
    },
    "id": "s7JvV_ZS6EiG"
   },
   "outputs": [],
   "source": [
    "from keras import layers\n",
    "from keras import models\n",
    "\n",
    "model = models.Sequential()\n",
    "model.add(layers.Conv2D(32, (3, 3), activation='relu', input_shape=(28, 28, 1)))\n",
    "model.add(layers.MaxPooling2D((2, 2)))\n",
    "model.add(layers.Conv2D(64, (3, 3), activation='relu'))\n",
    "model.add(layers.MaxPooling2D((2, 2)))\n",
    "model.add(layers.Conv2D(64, (3, 3), activation='relu'))"
   ]
  },
  {
   "cell_type": "code",
   "execution_count": 18,
   "metadata": {
    "colab": {
     "base_uri": "https://localhost:8080/"
    },
    "executionInfo": {
     "elapsed": 15,
     "status": "ok",
     "timestamp": 1662346007094,
     "user": {
      "displayName": "‍이연주[ 교수 / 응용수리과학부 데이터계산과학전공 ]",
      "userId": "04568941941563146597"
     },
     "user_tz": -540
    },
    "id": "5od_bOOw6HT5",
    "outputId": "0d77d636-75c4-4065-a931-f914e07e1b63"
   },
   "outputs": [
    {
     "name": "stdout",
     "output_type": "stream",
     "text": [
      "Model: \"sequential_2\"\n",
      "_________________________________________________________________\n",
      " Layer (type)                Output Shape              Param #   \n",
      "=================================================================\n",
      " conv2d (Conv2D)             (None, 26, 26, 32)        320       \n",
      "                                                                 \n",
      " max_pooling2d (MaxPooling2D  (None, 13, 13, 32)       0         \n",
      " )                                                               \n",
      "                                                                 \n",
      " conv2d_1 (Conv2D)           (None, 11, 11, 64)        18496     \n",
      "                                                                 \n",
      " max_pooling2d_1 (MaxPooling  (None, 5, 5, 64)         0         \n",
      " 2D)                                                             \n",
      "                                                                 \n",
      " conv2d_2 (Conv2D)           (None, 3, 3, 64)          36928     \n",
      "                                                                 \n",
      "=================================================================\n",
      "Total params: 55,744\n",
      "Trainable params: 55,744\n",
      "Non-trainable params: 0\n",
      "_________________________________________________________________\n"
     ]
    }
   ],
   "source": [
    "model.summary()"
   ]
  },
  {
   "cell_type": "code",
   "execution_count": 19,
   "metadata": {
    "executionInfo": {
     "elapsed": 291,
     "status": "ok",
     "timestamp": 1662346007381,
     "user": {
      "displayName": "‍이연주[ 교수 / 응용수리과학부 데이터계산과학전공 ]",
      "userId": "04568941941563146597"
     },
     "user_tz": -540
    },
    "id": "dQCUa_Kl6PWc"
   },
   "outputs": [],
   "source": [
    "model.add(layers.Flatten())\n",
    "model.add(layers.Dense(64, activation='relu'))\n",
    "model.add(layers.Dense(10, activation='softmax'))"
   ]
  },
  {
   "cell_type": "code",
   "execution_count": 20,
   "metadata": {
    "colab": {
     "base_uri": "https://localhost:8080/"
    },
    "executionInfo": {
     "elapsed": 9,
     "status": "ok",
     "timestamp": 1662346007382,
     "user": {
      "displayName": "‍이연주[ 교수 / 응용수리과학부 데이터계산과학전공 ]",
      "userId": "04568941941563146597"
     },
     "user_tz": -540
    },
    "id": "1sizaaxH6RMS",
    "outputId": "3e2e9428-6fab-4eee-e68f-afed48b3fe87"
   },
   "outputs": [
    {
     "name": "stdout",
     "output_type": "stream",
     "text": [
      "Model: \"sequential_2\"\n",
      "_________________________________________________________________\n",
      " Layer (type)                Output Shape              Param #   \n",
      "=================================================================\n",
      " conv2d (Conv2D)             (None, 26, 26, 32)        320       \n",
      "                                                                 \n",
      " max_pooling2d (MaxPooling2D  (None, 13, 13, 32)       0         \n",
      " )                                                               \n",
      "                                                                 \n",
      " conv2d_1 (Conv2D)           (None, 11, 11, 64)        18496     \n",
      "                                                                 \n",
      " max_pooling2d_1 (MaxPooling  (None, 5, 5, 64)         0         \n",
      " 2D)                                                             \n",
      "                                                                 \n",
      " conv2d_2 (Conv2D)           (None, 3, 3, 64)          36928     \n",
      "                                                                 \n",
      " flatten (Flatten)           (None, 576)               0         \n",
      "                                                                 \n",
      " dense_4 (Dense)             (None, 64)                36928     \n",
      "                                                                 \n",
      " dense_5 (Dense)             (None, 10)                650       \n",
      "                                                                 \n",
      "=================================================================\n",
      "Total params: 93,322\n",
      "Trainable params: 93,322\n",
      "Non-trainable params: 0\n",
      "_________________________________________________________________\n"
     ]
    }
   ],
   "source": [
    "model.summary()"
   ]
  },
  {
   "cell_type": "code",
   "execution_count": 21,
   "metadata": {
    "executionInfo": {
     "elapsed": 291,
     "status": "ok",
     "timestamp": 1662346007670,
     "user": {
      "displayName": "‍이연주[ 교수 / 응용수리과학부 데이터계산과학전공 ]",
      "userId": "04568941941563146597"
     },
     "user_tz": -540
    },
    "id": "-lStBp-T6TaQ"
   },
   "outputs": [],
   "source": [
    "from keras.datasets import mnist\n",
    "#from keras.utils import to_categorical\n",
    "from tensorflow.keras.utils import to_categorical\n",
    "\n",
    "(train_images, train_labels), (test_images, test_labels) = mnist.load_data()\n",
    "\n",
    "train_images = train_images.reshape((60000, 28, 28, 1))\n",
    "train_images = train_images.astype('float32') / 255\n",
    "\n",
    "test_images = test_images.reshape((10000, 28, 28, 1))\n",
    "test_images = test_images.astype('float32') / 255\n",
    "\n",
    "train_labels = to_categorical(train_labels)\n",
    "test_labels = to_categorical(test_labels)"
   ]
  },
  {
   "cell_type": "code",
   "execution_count": null,
   "metadata": {
    "colab": {
     "background_save": true,
     "base_uri": "https://localhost:8080/"
    },
    "id": "08PupCQc6V0r"
   },
   "outputs": [
    {
     "name": "stdout",
     "output_type": "stream",
     "text": [
      "Epoch 1/5\n",
      "938/938 [==============================] - 7s 5ms/step - loss: 0.1737 - accuracy: 0.9450\n",
      "Epoch 2/5\n",
      "938/938 [==============================] - 5s 6ms/step - loss: 0.0478 - accuracy: 0.9854\n",
      "Epoch 3/5\n",
      "938/938 [==============================] - 4s 4ms/step - loss: 0.0317 - accuracy: 0.9901\n",
      "Epoch 4/5\n",
      "938/938 [==============================] - 4s 5ms/step - loss: 0.0248 - accuracy: 0.9920\n",
      "Epoch 5/5\n",
      "938/938 [==============================] - 4s 4ms/step - loss: 0.0201 - accuracy: 0.9940\n"
     ]
    },
    {
     "data": {
      "text/plain": [
       "<keras.callbacks.History at 0x7f27287fe390>"
      ]
     },
     "execution_count": 22,
     "metadata": {},
     "output_type": "execute_result"
    }
   ],
   "source": [
    "model.compile(optimizer='rmsprop',\n",
    "              loss='categorical_crossentropy',\n",
    "              metrics=['accuracy'])\n",
    "\n",
    "model.fit(train_images, train_labels, epochs=5, batch_size=64)"
   ]
  },
  {
   "cell_type": "markdown",
   "metadata": {
    "id": "t9lYr_Wf6Y2g"
   },
   "source": [
    "테스트 데이터에서 모델을 평가해 보죠:"
   ]
  },
  {
   "cell_type": "code",
   "execution_count": null,
   "metadata": {
    "colab": {
     "background_save": true
    },
    "id": "g-S_EZko6d8B"
   },
   "outputs": [
    {
     "name": "stdout",
     "output_type": "stream",
     "text": [
      "313/313 [==============================] - 1s 3ms/step - loss: 0.0443 - accuracy: 0.9871\n"
     ]
    }
   ],
   "source": [
    "test_loss, test_acc = model.evaluate(test_images, test_labels)"
   ]
  },
  {
   "cell_type": "code",
   "execution_count": null,
   "metadata": {
    "colab": {
     "background_save": true
    },
    "id": "IvZFVFW8TOKc"
   },
   "outputs": [],
   "source": []
  }
 ],
 "metadata": {
  "accelerator": "GPU",
  "colab": {
   "authorship_tag": "ABX9TyMUnT25imE7hHuTJGRsg/lP",
   "collapsed_sections": [
    "Zl0he_QmhFZ4",
    "t9zpz1XCiUl2",
    "1iK1XwO82OQn",
    "Y35c1QUv2fFz",
    "0Xv5ouzq58x6"
   ],
   "name": "",
   "provenance": [
    {
     "file_id": "1IHP1fJ9fldwT7o5HY_GWKOkAbjFXQSa-",
     "timestamp": 1586532426729
    },
    {
     "file_id": "1syS_4kRpuYvusINFj1TwZIhyflz__LUN",
     "timestamp": 1586531686173
    },
    {
     "file_id": "1jkiaUwEpH6RwxktcnNnOYrx-cApIypPW",
     "timestamp": 1586507422227
    },
    {
     "file_id": "1vEpmEJJt6LspxdcYGezNwIWWNfKs8o4y",
     "timestamp": 1585388284548
    },
    {
     "file_id": "11TdUcn_4_1rsTqEHXCHOlFlATHxr9qt4",
     "timestamp": 1578955958375
    }
   ],
   "version": ""
  },
  "kernelspec": {
   "display_name": "Python 3 (ipykernel)",
   "language": "python",
   "name": "python3"
  },
  "language_info": {
   "codemirror_mode": {
    "name": "ipython",
    "version": 3
   },
   "file_extension": ".py",
   "mimetype": "text/x-python",
   "name": "python",
   "nbconvert_exporter": "python",
   "pygments_lexer": "ipython3",
   "version": "3.8.5"
  }
 },
 "nbformat": 4,
 "nbformat_minor": 1
}
